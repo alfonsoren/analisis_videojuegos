{
 "cells": [
  {
   "cell_type": "markdown",
   "metadata": {},
   "source": [
    "# Análisis de videojuegos"
   ]
  },
  {
   "cell_type": "markdown",
   "metadata": {},
   "source": [
    "**Este proyecto trata sobre el análisis de videojuegos. Se limpiarán y analizarán los datos para identificar tendencias, aplicaremos pruebas y extraeremos conclusiones basadas en nuestros resultados.**"
   ]
  },
  {
   "cell_type": "markdown",
   "metadata": {},
   "source": [
    "## Información general"
   ]
  },
  {
   "cell_type": "code",
   "execution_count": 1,
   "metadata": {
    "trusted": true
   },
   "outputs": [],
   "source": [
    "import pandas as pd\n",
    "import numpy as np\n",
    "import matplotlib.pyplot as plt\n",
    "import seaborn as sns\n",
    "import scipy.stats as st\n"
   ]
  },
  {
   "cell_type": "code",
   "execution_count": 2,
   "metadata": {
    "trusted": true
   },
   "outputs": [],
   "source": [
    "# . Carga de datos\n",
    "data_path = \"/datasets/games.csv\"  \n",
    "df = pd.read_csv(data_path)"
   ]
  },
  {
   "cell_type": "code",
   "execution_count": 3,
   "metadata": {
    "trusted": true
   },
   "outputs": [
    {
     "name": "stdout",
     "output_type": "stream",
     "text": [
      "Vista previa:\n",
      "                       Name Platform  Year_of_Release         Genre  NA_sales  \\\n",
      "0                Wii Sports      Wii           2006.0        Sports     41.36   \n",
      "1         Super Mario Bros.      NES           1985.0      Platform     29.08   \n",
      "2            Mario Kart Wii      Wii           2008.0        Racing     15.68   \n",
      "3         Wii Sports Resort      Wii           2009.0        Sports     15.61   \n",
      "4  Pokemon Red/Pokemon Blue       GB           1996.0  Role-Playing     11.27   \n",
      "\n",
      "   EU_sales  JP_sales  Other_sales  Critic_Score User_Score Rating  \n",
      "0     28.96      3.77         8.45          76.0          8      E  \n",
      "1      3.58      6.81         0.77           NaN        NaN    NaN  \n",
      "2     12.76      3.79         3.29          82.0        8.3      E  \n",
      "3     10.93      3.28         2.95          80.0          8      E  \n",
      "4      8.89     10.22         1.00           NaN        NaN    NaN  \n",
      "Información del dataset:\n",
      "<class 'pandas.core.frame.DataFrame'>\n",
      "RangeIndex: 16715 entries, 0 to 16714\n",
      "Data columns (total 11 columns):\n",
      " #   Column           Non-Null Count  Dtype  \n",
      "---  ------           --------------  -----  \n",
      " 0   Name             16713 non-null  object \n",
      " 1   Platform         16715 non-null  object \n",
      " 2   Year_of_Release  16446 non-null  float64\n",
      " 3   Genre            16713 non-null  object \n",
      " 4   NA_sales         16715 non-null  float64\n",
      " 5   EU_sales         16715 non-null  float64\n",
      " 6   JP_sales         16715 non-null  float64\n",
      " 7   Other_sales      16715 non-null  float64\n",
      " 8   Critic_Score     8137 non-null   float64\n",
      " 9   User_Score       10014 non-null  object \n",
      " 10  Rating           9949 non-null   object \n",
      "dtypes: float64(6), object(5)\n",
      "memory usage: 1.4+ MB\n",
      "None\n",
      "Resumen estadístico de las columnas numéricas:\n",
      "       Year_of_Release      NA_sales      EU_sales      JP_sales  \\\n",
      "count     16446.000000  16715.000000  16715.000000  16715.000000   \n",
      "mean       2006.484616      0.263377      0.145060      0.077617   \n",
      "std           5.877050      0.813604      0.503339      0.308853   \n",
      "min        1980.000000      0.000000      0.000000      0.000000   \n",
      "25%        2003.000000      0.000000      0.000000      0.000000   \n",
      "50%        2007.000000      0.080000      0.020000      0.000000   \n",
      "75%        2010.000000      0.240000      0.110000      0.040000   \n",
      "max        2016.000000     41.360000     28.960000     10.220000   \n",
      "\n",
      "        Other_sales  Critic_Score  \n",
      "count  16715.000000   8137.000000  \n",
      "mean       0.047342     68.967679  \n",
      "std        0.186731     13.938165  \n",
      "min        0.000000     13.000000  \n",
      "25%        0.000000     60.000000  \n",
      "50%        0.010000     71.000000  \n",
      "75%        0.030000     79.000000  \n",
      "max       10.570000     98.000000  \n"
     ]
    }
   ],
   "source": [
    "# 1. Vista preliminar de los datos\n",
    "print(\"Vista previa:\")\n",
    "print(df.head())\n",
    "\n",
    "print(\"Información del dataset:\")\n",
    "print(df.info())\n",
    "\n",
    "print(\"Resumen estadístico de las columnas numéricas:\")\n",
    "print(df.describe())\n"
   ]
  },
  {
   "cell_type": "markdown",
   "metadata": {},
   "source": [
    "## Preparación de los datos"
   ]
  },
  {
   "cell_type": "code",
   "execution_count": 4,
   "metadata": {
    "trusted": true
   },
   "outputs": [
    {
     "name": "stdout",
     "output_type": "stream",
     "text": [
      "Index(['name', 'platform', 'year_of_release', 'genre', 'na_sales', 'eu_sales',\n",
      "       'jp_sales', 'other_sales', 'critic_score', 'user_score', 'rating'],\n",
      "      dtype='object')\n"
     ]
    }
   ],
   "source": [
    "# Preparación de datos y limpieza de datos iniciales\n",
    "df.columns = df.columns.str.lower() # Cambiar columnas a minúsculas\n",
    "print(df.columns)"
   ]
  },
  {
   "cell_type": "code",
   "execution_count": 5,
   "metadata": {
    "trusted": true
   },
   "outputs": [
    {
     "name": "stdout",
     "output_type": "stream",
     "text": [
      "name                 object\n",
      "platform             object\n",
      "year_of_release     float64\n",
      "genre              category\n",
      "na_sales            float64\n",
      "eu_sales            float64\n",
      "jp_sales            float64\n",
      "other_sales         float64\n",
      "critic_score        float64\n",
      "user_score           object\n",
      "rating             category\n",
      "dtype: object\n"
     ]
    }
   ],
   "source": [
    "# Cambiar tipos de datos\n",
    "# Convertirlos para hacer mas eficiente el análisis \n",
    "df['platform'] = df['platform'].astype('str')\n",
    "df['genre'] = df['genre'].astype('category')\n",
    "df['rating'] = df['rating'].astype('category')\n",
    "\n",
    "print(df.dtypes)"
   ]
  },
  {
   "cell_type": "code",
   "execution_count": 6,
   "metadata": {
    "trusted": true
   },
   "outputs": [
    {
     "name": "stdout",
     "output_type": "stream",
     "text": [
      "Valores nulos por columna:\n"
     ]
    },
    {
     "data": {
      "text/plain": [
       "name                  2\n",
       "platform              0\n",
       "year_of_release     269\n",
       "genre                 2\n",
       "na_sales              0\n",
       "eu_sales              0\n",
       "jp_sales              0\n",
       "other_sales           0\n",
       "critic_score       8578\n",
       "user_score         6701\n",
       "rating             6766\n",
       "dtype: int64"
      ]
     },
     "metadata": {},
     "output_type": "display_data"
    },
    {
     "name": "stdout",
     "output_type": "stream",
     "text": [
      "Filas dupiladas:\n",
      "0\n"
     ]
    }
   ],
   "source": [
    "\n",
    "# Verificar valores nulos\n",
    "print(\"Valores nulos por columna:\")\n",
    "display(df.isnull().sum())\n",
    "# Verificar valores duplicados\n",
    "print('Filas dupiladas:')\n",
    "print(df.duplicated().sum())\n",
    "\n"
   ]
  },
  {
   "cell_type": "code",
   "execution_count": 7,
   "metadata": {
    "trusted": true
   },
   "outputs": [
    {
     "data": {
      "text/html": [
       "<div>\n",
       "<style scoped>\n",
       "    .dataframe tbody tr th:only-of-type {\n",
       "        vertical-align: middle;\n",
       "    }\n",
       "\n",
       "    .dataframe tbody tr th {\n",
       "        vertical-align: top;\n",
       "    }\n",
       "\n",
       "    .dataframe thead th {\n",
       "        text-align: right;\n",
       "    }\n",
       "</style>\n",
       "<table border=\"1\" class=\"dataframe\">\n",
       "  <thead>\n",
       "    <tr style=\"text-align: right;\">\n",
       "      <th></th>\n",
       "      <th>name</th>\n",
       "      <th>platform</th>\n",
       "      <th>year_of_release</th>\n",
       "      <th>genre</th>\n",
       "      <th>na_sales</th>\n",
       "      <th>eu_sales</th>\n",
       "      <th>jp_sales</th>\n",
       "      <th>other_sales</th>\n",
       "      <th>critic_score</th>\n",
       "      <th>user_score</th>\n",
       "      <th>rating</th>\n",
       "    </tr>\n",
       "  </thead>\n",
       "  <tbody>\n",
       "    <tr>\n",
       "      <th>659</th>\n",
       "      <td>NaN</td>\n",
       "      <td>GEN</td>\n",
       "      <td>1993.0</td>\n",
       "      <td>NaN</td>\n",
       "      <td>1.78</td>\n",
       "      <td>0.53</td>\n",
       "      <td>0.00</td>\n",
       "      <td>0.08</td>\n",
       "      <td>NaN</td>\n",
       "      <td>NaN</td>\n",
       "      <td>NaN</td>\n",
       "    </tr>\n",
       "    <tr>\n",
       "      <th>14244</th>\n",
       "      <td>NaN</td>\n",
       "      <td>GEN</td>\n",
       "      <td>1993.0</td>\n",
       "      <td>NaN</td>\n",
       "      <td>0.00</td>\n",
       "      <td>0.00</td>\n",
       "      <td>0.03</td>\n",
       "      <td>0.00</td>\n",
       "      <td>NaN</td>\n",
       "      <td>NaN</td>\n",
       "      <td>NaN</td>\n",
       "    </tr>\n",
       "  </tbody>\n",
       "</table>\n",
       "</div>"
      ],
      "text/plain": [
       "      name platform  year_of_release genre  na_sales  eu_sales  jp_sales  \\\n",
       "659    NaN      GEN           1993.0   NaN      1.78      0.53      0.00   \n",
       "14244  NaN      GEN           1993.0   NaN      0.00      0.00      0.03   \n",
       "\n",
       "       other_sales  critic_score user_score rating  \n",
       "659           0.08           NaN        NaN    NaN  \n",
       "14244         0.00           NaN        NaN    NaN  "
      ]
     },
     "metadata": {},
     "output_type": "display_data"
    }
   ],
   "source": [
    "# Verificar valores nulos de la columna name\n",
    "name_nulos = df[df['name'].isnull()]\n",
    "display(name_nulos)\n"
   ]
  },
  {
   "cell_type": "code",
   "execution_count": 8,
   "metadata": {
    "trusted": true
   },
   "outputs": [
    {
     "data": {
      "text/html": [
       "<div>\n",
       "<style scoped>\n",
       "    .dataframe tbody tr th:only-of-type {\n",
       "        vertical-align: middle;\n",
       "    }\n",
       "\n",
       "    .dataframe tbody tr th {\n",
       "        vertical-align: top;\n",
       "    }\n",
       "\n",
       "    .dataframe thead th {\n",
       "        text-align: right;\n",
       "    }\n",
       "</style>\n",
       "<table border=\"1\" class=\"dataframe\">\n",
       "  <thead>\n",
       "    <tr style=\"text-align: right;\">\n",
       "      <th></th>\n",
       "      <th>name</th>\n",
       "      <th>platform</th>\n",
       "      <th>year_of_release</th>\n",
       "      <th>genre</th>\n",
       "      <th>na_sales</th>\n",
       "      <th>eu_sales</th>\n",
       "      <th>jp_sales</th>\n",
       "      <th>other_sales</th>\n",
       "      <th>critic_score</th>\n",
       "      <th>user_score</th>\n",
       "      <th>rating</th>\n",
       "    </tr>\n",
       "  </thead>\n",
       "  <tbody>\n",
       "    <tr>\n",
       "      <th>659</th>\n",
       "      <td>NaN</td>\n",
       "      <td>GEN</td>\n",
       "      <td>1993.0</td>\n",
       "      <td>NaN</td>\n",
       "      <td>1.78</td>\n",
       "      <td>0.53</td>\n",
       "      <td>0.00</td>\n",
       "      <td>0.08</td>\n",
       "      <td>NaN</td>\n",
       "      <td>NaN</td>\n",
       "      <td>NaN</td>\n",
       "    </tr>\n",
       "    <tr>\n",
       "      <th>7885</th>\n",
       "      <td>Shining Force II</td>\n",
       "      <td>GEN</td>\n",
       "      <td>1993.0</td>\n",
       "      <td>Strategy</td>\n",
       "      <td>0.00</td>\n",
       "      <td>0.00</td>\n",
       "      <td>0.19</td>\n",
       "      <td>0.00</td>\n",
       "      <td>NaN</td>\n",
       "      <td>NaN</td>\n",
       "      <td>NaN</td>\n",
       "    </tr>\n",
       "    <tr>\n",
       "      <th>8893</th>\n",
       "      <td>Super Street Fighter II</td>\n",
       "      <td>GEN</td>\n",
       "      <td>1993.0</td>\n",
       "      <td>Fighting</td>\n",
       "      <td>0.00</td>\n",
       "      <td>0.00</td>\n",
       "      <td>0.15</td>\n",
       "      <td>0.00</td>\n",
       "      <td>NaN</td>\n",
       "      <td>NaN</td>\n",
       "      <td>NaN</td>\n",
       "    </tr>\n",
       "    <tr>\n",
       "      <th>11986</th>\n",
       "      <td>Ecco: The Tides of Time</td>\n",
       "      <td>GEN</td>\n",
       "      <td>1993.0</td>\n",
       "      <td>Adventure</td>\n",
       "      <td>0.00</td>\n",
       "      <td>0.00</td>\n",
       "      <td>0.07</td>\n",
       "      <td>0.00</td>\n",
       "      <td>NaN</td>\n",
       "      <td>NaN</td>\n",
       "      <td>NaN</td>\n",
       "    </tr>\n",
       "    <tr>\n",
       "      <th>12098</th>\n",
       "      <td>Street Fighter II': Special Champion Edition (...</td>\n",
       "      <td>GEN</td>\n",
       "      <td>1993.0</td>\n",
       "      <td>Action</td>\n",
       "      <td>0.00</td>\n",
       "      <td>0.00</td>\n",
       "      <td>0.07</td>\n",
       "      <td>0.00</td>\n",
       "      <td>NaN</td>\n",
       "      <td>NaN</td>\n",
       "      <td>NaN</td>\n",
       "    </tr>\n",
       "    <tr>\n",
       "      <th>12264</th>\n",
       "      <td>Streets of Rage 3</td>\n",
       "      <td>GEN</td>\n",
       "      <td>1993.0</td>\n",
       "      <td>Action</td>\n",
       "      <td>0.00</td>\n",
       "      <td>0.00</td>\n",
       "      <td>0.07</td>\n",
       "      <td>0.00</td>\n",
       "      <td>NaN</td>\n",
       "      <td>NaN</td>\n",
       "      <td>NaN</td>\n",
       "    </tr>\n",
       "    <tr>\n",
       "      <th>12984</th>\n",
       "      <td>Dynamite Headdy</td>\n",
       "      <td>GEN</td>\n",
       "      <td>1993.0</td>\n",
       "      <td>Platform</td>\n",
       "      <td>0.00</td>\n",
       "      <td>0.00</td>\n",
       "      <td>0.05</td>\n",
       "      <td>0.00</td>\n",
       "      <td>NaN</td>\n",
       "      <td>NaN</td>\n",
       "      <td>NaN</td>\n",
       "    </tr>\n",
       "    <tr>\n",
       "      <th>13343</th>\n",
       "      <td>Beyond Oasis</td>\n",
       "      <td>GEN</td>\n",
       "      <td>1993.0</td>\n",
       "      <td>Role-Playing</td>\n",
       "      <td>0.00</td>\n",
       "      <td>0.00</td>\n",
       "      <td>0.05</td>\n",
       "      <td>0.00</td>\n",
       "      <td>NaN</td>\n",
       "      <td>NaN</td>\n",
       "      <td>NaN</td>\n",
       "    </tr>\n",
       "    <tr>\n",
       "      <th>14244</th>\n",
       "      <td>NaN</td>\n",
       "      <td>GEN</td>\n",
       "      <td>1993.0</td>\n",
       "      <td>NaN</td>\n",
       "      <td>0.00</td>\n",
       "      <td>0.00</td>\n",
       "      <td>0.03</td>\n",
       "      <td>0.00</td>\n",
       "      <td>NaN</td>\n",
       "      <td>NaN</td>\n",
       "      <td>NaN</td>\n",
       "    </tr>\n",
       "  </tbody>\n",
       "</table>\n",
       "</div>"
      ],
      "text/plain": [
       "                                                    name platform  \\\n",
       "659                                                  NaN      GEN   \n",
       "7885                                    Shining Force II      GEN   \n",
       "8893                             Super Street Fighter II      GEN   \n",
       "11986                            Ecco: The Tides of Time      GEN   \n",
       "12098  Street Fighter II': Special Champion Edition (...      GEN   \n",
       "12264                                  Streets of Rage 3      GEN   \n",
       "12984                                    Dynamite Headdy      GEN   \n",
       "13343                                       Beyond Oasis      GEN   \n",
       "14244                                                NaN      GEN   \n",
       "\n",
       "       year_of_release         genre  na_sales  eu_sales  jp_sales  \\\n",
       "659             1993.0           NaN      1.78      0.53      0.00   \n",
       "7885            1993.0      Strategy      0.00      0.00      0.19   \n",
       "8893            1993.0      Fighting      0.00      0.00      0.15   \n",
       "11986           1993.0     Adventure      0.00      0.00      0.07   \n",
       "12098           1993.0        Action      0.00      0.00      0.07   \n",
       "12264           1993.0        Action      0.00      0.00      0.07   \n",
       "12984           1993.0      Platform      0.00      0.00      0.05   \n",
       "13343           1993.0  Role-Playing      0.00      0.00      0.05   \n",
       "14244           1993.0           NaN      0.00      0.00      0.03   \n",
       "\n",
       "       other_sales  critic_score user_score rating  \n",
       "659           0.08           NaN        NaN    NaN  \n",
       "7885          0.00           NaN        NaN    NaN  \n",
       "8893          0.00           NaN        NaN    NaN  \n",
       "11986         0.00           NaN        NaN    NaN  \n",
       "12098         0.00           NaN        NaN    NaN  \n",
       "12264         0.00           NaN        NaN    NaN  \n",
       "12984         0.00           NaN        NaN    NaN  \n",
       "13343         0.00           NaN        NaN    NaN  \n",
       "14244         0.00           NaN        NaN    NaN  "
      ]
     },
     "metadata": {},
     "output_type": "display_data"
    }
   ],
   "source": [
    "# investigar motivo de valores nulos en la columna name\n",
    "name_filtrado = df[(df['platform'] == 'GEN') & (df['year_of_release'] == 1993)]\n",
    "display(name_filtrado)\n"
   ]
  },
  {
   "cell_type": "markdown",
   "metadata": {},
   "source": [
    "Tratamiento de valores nulos en la columna name\n",
    "\n",
    "Se identificaron 2 valores nulos en la columna name, sin un patrón claro de ausencia. Dado que representan una fracción mínima del dataset y no es posible recuperar la información faltante, se optó por eliminar las filas correspondientes para evitar inconsistencias en el análisis."
   ]
  },
  {
   "cell_type": "code",
   "execution_count": 9,
   "metadata": {
    "trusted": true
   },
   "outputs": [],
   "source": [
    "# Eliminando las filas que contienen valores nulos en la columna name\n",
    "df = df.dropna(subset=['name'])\n"
   ]
  },
  {
   "cell_type": "code",
   "execution_count": 10,
   "metadata": {
    "trusted": true
   },
   "outputs": [
    {
     "data": {
      "text/html": [
       "<div>\n",
       "<style scoped>\n",
       "    .dataframe tbody tr th:only-of-type {\n",
       "        vertical-align: middle;\n",
       "    }\n",
       "\n",
       "    .dataframe tbody tr th {\n",
       "        vertical-align: top;\n",
       "    }\n",
       "\n",
       "    .dataframe thead th {\n",
       "        text-align: right;\n",
       "    }\n",
       "</style>\n",
       "<table border=\"1\" class=\"dataframe\">\n",
       "  <thead>\n",
       "    <tr style=\"text-align: right;\">\n",
       "      <th></th>\n",
       "      <th>name</th>\n",
       "      <th>platform</th>\n",
       "      <th>year_of_release</th>\n",
       "      <th>genre</th>\n",
       "      <th>na_sales</th>\n",
       "      <th>eu_sales</th>\n",
       "      <th>jp_sales</th>\n",
       "      <th>other_sales</th>\n",
       "      <th>critic_score</th>\n",
       "      <th>user_score</th>\n",
       "      <th>rating</th>\n",
       "    </tr>\n",
       "  </thead>\n",
       "  <tbody>\n",
       "    <tr>\n",
       "      <th>183</th>\n",
       "      <td>Madden NFL 2004</td>\n",
       "      <td>PS2</td>\n",
       "      <td>NaN</td>\n",
       "      <td>Sports</td>\n",
       "      <td>4.26</td>\n",
       "      <td>0.26</td>\n",
       "      <td>0.01</td>\n",
       "      <td>0.71</td>\n",
       "      <td>94.0</td>\n",
       "      <td>8.5</td>\n",
       "      <td>E</td>\n",
       "    </tr>\n",
       "    <tr>\n",
       "      <th>377</th>\n",
       "      <td>FIFA Soccer 2004</td>\n",
       "      <td>PS2</td>\n",
       "      <td>NaN</td>\n",
       "      <td>Sports</td>\n",
       "      <td>0.59</td>\n",
       "      <td>2.36</td>\n",
       "      <td>0.04</td>\n",
       "      <td>0.51</td>\n",
       "      <td>84.0</td>\n",
       "      <td>6.4</td>\n",
       "      <td>E</td>\n",
       "    </tr>\n",
       "    <tr>\n",
       "      <th>456</th>\n",
       "      <td>LEGO Batman: The Videogame</td>\n",
       "      <td>Wii</td>\n",
       "      <td>NaN</td>\n",
       "      <td>Action</td>\n",
       "      <td>1.80</td>\n",
       "      <td>0.97</td>\n",
       "      <td>0.00</td>\n",
       "      <td>0.29</td>\n",
       "      <td>74.0</td>\n",
       "      <td>7.9</td>\n",
       "      <td>E10+</td>\n",
       "    </tr>\n",
       "    <tr>\n",
       "      <th>475</th>\n",
       "      <td>wwe Smackdown vs. Raw 2006</td>\n",
       "      <td>PS2</td>\n",
       "      <td>NaN</td>\n",
       "      <td>Fighting</td>\n",
       "      <td>1.57</td>\n",
       "      <td>1.02</td>\n",
       "      <td>0.00</td>\n",
       "      <td>0.41</td>\n",
       "      <td>NaN</td>\n",
       "      <td>NaN</td>\n",
       "      <td>NaN</td>\n",
       "    </tr>\n",
       "    <tr>\n",
       "      <th>609</th>\n",
       "      <td>Space Invaders</td>\n",
       "      <td>2600</td>\n",
       "      <td>NaN</td>\n",
       "      <td>Shooter</td>\n",
       "      <td>2.36</td>\n",
       "      <td>0.14</td>\n",
       "      <td>0.00</td>\n",
       "      <td>0.03</td>\n",
       "      <td>NaN</td>\n",
       "      <td>NaN</td>\n",
       "      <td>NaN</td>\n",
       "    </tr>\n",
       "    <tr>\n",
       "      <th>...</th>\n",
       "      <td>...</td>\n",
       "      <td>...</td>\n",
       "      <td>...</td>\n",
       "      <td>...</td>\n",
       "      <td>...</td>\n",
       "      <td>...</td>\n",
       "      <td>...</td>\n",
       "      <td>...</td>\n",
       "      <td>...</td>\n",
       "      <td>...</td>\n",
       "      <td>...</td>\n",
       "    </tr>\n",
       "    <tr>\n",
       "      <th>16373</th>\n",
       "      <td>PDC World Championship Darts 2008</td>\n",
       "      <td>PSP</td>\n",
       "      <td>NaN</td>\n",
       "      <td>Sports</td>\n",
       "      <td>0.01</td>\n",
       "      <td>0.00</td>\n",
       "      <td>0.00</td>\n",
       "      <td>0.00</td>\n",
       "      <td>43.0</td>\n",
       "      <td>tbd</td>\n",
       "      <td>E10+</td>\n",
       "    </tr>\n",
       "    <tr>\n",
       "      <th>16405</th>\n",
       "      <td>Freaky Flyers</td>\n",
       "      <td>GC</td>\n",
       "      <td>NaN</td>\n",
       "      <td>Racing</td>\n",
       "      <td>0.01</td>\n",
       "      <td>0.00</td>\n",
       "      <td>0.00</td>\n",
       "      <td>0.00</td>\n",
       "      <td>69.0</td>\n",
       "      <td>6.5</td>\n",
       "      <td>T</td>\n",
       "    </tr>\n",
       "    <tr>\n",
       "      <th>16448</th>\n",
       "      <td>Inversion</td>\n",
       "      <td>PC</td>\n",
       "      <td>NaN</td>\n",
       "      <td>Shooter</td>\n",
       "      <td>0.01</td>\n",
       "      <td>0.00</td>\n",
       "      <td>0.00</td>\n",
       "      <td>0.00</td>\n",
       "      <td>59.0</td>\n",
       "      <td>6.7</td>\n",
       "      <td>M</td>\n",
       "    </tr>\n",
       "    <tr>\n",
       "      <th>16458</th>\n",
       "      <td>Hakuouki: Shinsengumi Kitan</td>\n",
       "      <td>PS3</td>\n",
       "      <td>NaN</td>\n",
       "      <td>Adventure</td>\n",
       "      <td>0.01</td>\n",
       "      <td>0.00</td>\n",
       "      <td>0.00</td>\n",
       "      <td>0.00</td>\n",
       "      <td>NaN</td>\n",
       "      <td>NaN</td>\n",
       "      <td>NaN</td>\n",
       "    </tr>\n",
       "    <tr>\n",
       "      <th>16522</th>\n",
       "      <td>Virtua Quest</td>\n",
       "      <td>GC</td>\n",
       "      <td>NaN</td>\n",
       "      <td>Role-Playing</td>\n",
       "      <td>0.01</td>\n",
       "      <td>0.00</td>\n",
       "      <td>0.00</td>\n",
       "      <td>0.00</td>\n",
       "      <td>55.0</td>\n",
       "      <td>5.5</td>\n",
       "      <td>T</td>\n",
       "    </tr>\n",
       "  </tbody>\n",
       "</table>\n",
       "<p>269 rows × 11 columns</p>\n",
       "</div>"
      ],
      "text/plain": [
       "                                    name platform  year_of_release  \\\n",
       "183                      Madden NFL 2004      PS2              NaN   \n",
       "377                     FIFA Soccer 2004      PS2              NaN   \n",
       "456           LEGO Batman: The Videogame      Wii              NaN   \n",
       "475           wwe Smackdown vs. Raw 2006      PS2              NaN   \n",
       "609                       Space Invaders     2600              NaN   \n",
       "...                                  ...      ...              ...   \n",
       "16373  PDC World Championship Darts 2008      PSP              NaN   \n",
       "16405                      Freaky Flyers       GC              NaN   \n",
       "16448                          Inversion       PC              NaN   \n",
       "16458        Hakuouki: Shinsengumi Kitan      PS3              NaN   \n",
       "16522                       Virtua Quest       GC              NaN   \n",
       "\n",
       "              genre  na_sales  eu_sales  jp_sales  other_sales  critic_score  \\\n",
       "183          Sports      4.26      0.26      0.01         0.71          94.0   \n",
       "377          Sports      0.59      2.36      0.04         0.51          84.0   \n",
       "456          Action      1.80      0.97      0.00         0.29          74.0   \n",
       "475        Fighting      1.57      1.02      0.00         0.41           NaN   \n",
       "609         Shooter      2.36      0.14      0.00         0.03           NaN   \n",
       "...             ...       ...       ...       ...          ...           ...   \n",
       "16373        Sports      0.01      0.00      0.00         0.00          43.0   \n",
       "16405        Racing      0.01      0.00      0.00         0.00          69.0   \n",
       "16448       Shooter      0.01      0.00      0.00         0.00          59.0   \n",
       "16458     Adventure      0.01      0.00      0.00         0.00           NaN   \n",
       "16522  Role-Playing      0.01      0.00      0.00         0.00          55.0   \n",
       "\n",
       "      user_score rating  \n",
       "183          8.5      E  \n",
       "377          6.4      E  \n",
       "456          7.9   E10+  \n",
       "475          NaN    NaN  \n",
       "609          NaN    NaN  \n",
       "...          ...    ...  \n",
       "16373        tbd   E10+  \n",
       "16405        6.5      T  \n",
       "16448        6.7      M  \n",
       "16458        NaN    NaN  \n",
       "16522        5.5      T  \n",
       "\n",
       "[269 rows x 11 columns]"
      ]
     },
     "metadata": {},
     "output_type": "display_data"
    },
    {
     "data": {
      "text/plain": [
       "name               232\n",
       "platform            16\n",
       "year_of_release      0\n",
       "genre               12\n",
       "na_sales            69\n",
       "eu_sales            47\n",
       "jp_sales            26\n",
       "other_sales         27\n",
       "critic_score        56\n",
       "user_score          48\n",
       "rating               5\n",
       "dtype: int64"
      ]
     },
     "execution_count": 10,
     "metadata": {},
     "output_type": "execute_result"
    }
   ],
   "source": [
    "# Verificar valores nulos de la columna years_of_release\n",
    "year_nulos = df[df['year_of_release'].isnull()]\n",
    "display(year_nulos)\n",
    "year_nulos.nunique()\n"
   ]
  },
  {
   "cell_type": "code",
   "execution_count": 11,
   "metadata": {
    "trusted": true
   },
   "outputs": [],
   "source": [
    "# Eliminar valores ausentes\n",
    "df['year_of_release'] = df['year_of_release'].dropna() "
   ]
  },
  {
   "cell_type": "markdown",
   "metadata": {},
   "source": [
    "* Se ha decidido eliminar los valores ausentes en la columna year_of_release ya que no representan un porcentaje muy grande del total de valores de la misma"
   ]
  },
  {
   "cell_type": "code",
   "execution_count": 12,
   "metadata": {
    "trusted": true
   },
   "outputs": [
    {
     "data": {
      "text/plain": [
       "name                 object\n",
       "platform             object\n",
       "year_of_release       Int64\n",
       "genre              category\n",
       "na_sales            float64\n",
       "eu_sales            float64\n",
       "jp_sales            float64\n",
       "other_sales         float64\n",
       "critic_score        float64\n",
       "user_score           object\n",
       "rating             category\n",
       "dtype: object"
      ]
     },
     "execution_count": 12,
     "metadata": {},
     "output_type": "execute_result"
    }
   ],
   "source": [
    "# Convertir a Int\n",
    "df[\"year_of_release\"] = df[\"year_of_release\"].astype(\"Int64\")\n",
    "df.dtypes\n"
   ]
  },
  {
   "cell_type": "code",
   "execution_count": 13,
   "metadata": {
    "trusted": true
   },
   "outputs": [
    {
     "data": {
      "text/html": [
       "<div>\n",
       "<style scoped>\n",
       "    .dataframe tbody tr th:only-of-type {\n",
       "        vertical-align: middle;\n",
       "    }\n",
       "\n",
       "    .dataframe tbody tr th {\n",
       "        vertical-align: top;\n",
       "    }\n",
       "\n",
       "    .dataframe thead th {\n",
       "        text-align: right;\n",
       "    }\n",
       "</style>\n",
       "<table border=\"1\" class=\"dataframe\">\n",
       "  <thead>\n",
       "    <tr style=\"text-align: right;\">\n",
       "      <th></th>\n",
       "      <th>name</th>\n",
       "      <th>platform</th>\n",
       "      <th>year_of_release</th>\n",
       "      <th>genre</th>\n",
       "      <th>na_sales</th>\n",
       "      <th>eu_sales</th>\n",
       "      <th>jp_sales</th>\n",
       "      <th>other_sales</th>\n",
       "      <th>critic_score</th>\n",
       "      <th>user_score</th>\n",
       "      <th>rating</th>\n",
       "    </tr>\n",
       "  </thead>\n",
       "  <tbody>\n",
       "    <tr>\n",
       "      <th>1</th>\n",
       "      <td>Super Mario Bros.</td>\n",
       "      <td>NES</td>\n",
       "      <td>1985</td>\n",
       "      <td>Platform</td>\n",
       "      <td>29.08</td>\n",
       "      <td>3.58</td>\n",
       "      <td>6.81</td>\n",
       "      <td>0.77</td>\n",
       "      <td>NaN</td>\n",
       "      <td>NaN</td>\n",
       "      <td>NaN</td>\n",
       "    </tr>\n",
       "    <tr>\n",
       "      <th>4</th>\n",
       "      <td>Pokemon Red/Pokemon Blue</td>\n",
       "      <td>GB</td>\n",
       "      <td>1996</td>\n",
       "      <td>Role-Playing</td>\n",
       "      <td>11.27</td>\n",
       "      <td>8.89</td>\n",
       "      <td>10.22</td>\n",
       "      <td>1.00</td>\n",
       "      <td>NaN</td>\n",
       "      <td>NaN</td>\n",
       "      <td>NaN</td>\n",
       "    </tr>\n",
       "    <tr>\n",
       "      <th>5</th>\n",
       "      <td>Tetris</td>\n",
       "      <td>GB</td>\n",
       "      <td>1989</td>\n",
       "      <td>Puzzle</td>\n",
       "      <td>23.20</td>\n",
       "      <td>2.26</td>\n",
       "      <td>4.22</td>\n",
       "      <td>0.58</td>\n",
       "      <td>NaN</td>\n",
       "      <td>NaN</td>\n",
       "      <td>NaN</td>\n",
       "    </tr>\n",
       "    <tr>\n",
       "      <th>9</th>\n",
       "      <td>Duck Hunt</td>\n",
       "      <td>NES</td>\n",
       "      <td>1984</td>\n",
       "      <td>Shooter</td>\n",
       "      <td>26.93</td>\n",
       "      <td>0.63</td>\n",
       "      <td>0.28</td>\n",
       "      <td>0.47</td>\n",
       "      <td>NaN</td>\n",
       "      <td>NaN</td>\n",
       "      <td>NaN</td>\n",
       "    </tr>\n",
       "    <tr>\n",
       "      <th>10</th>\n",
       "      <td>Nintendogs</td>\n",
       "      <td>DS</td>\n",
       "      <td>2005</td>\n",
       "      <td>Simulation</td>\n",
       "      <td>9.05</td>\n",
       "      <td>10.95</td>\n",
       "      <td>1.93</td>\n",
       "      <td>2.74</td>\n",
       "      <td>NaN</td>\n",
       "      <td>NaN</td>\n",
       "      <td>NaN</td>\n",
       "    </tr>\n",
       "    <tr>\n",
       "      <th>...</th>\n",
       "      <td>...</td>\n",
       "      <td>...</td>\n",
       "      <td>...</td>\n",
       "      <td>...</td>\n",
       "      <td>...</td>\n",
       "      <td>...</td>\n",
       "      <td>...</td>\n",
       "      <td>...</td>\n",
       "      <td>...</td>\n",
       "      <td>...</td>\n",
       "      <td>...</td>\n",
       "    </tr>\n",
       "    <tr>\n",
       "      <th>16710</th>\n",
       "      <td>Samurai Warriors: Sanada Maru</td>\n",
       "      <td>PS3</td>\n",
       "      <td>2016</td>\n",
       "      <td>Action</td>\n",
       "      <td>0.00</td>\n",
       "      <td>0.00</td>\n",
       "      <td>0.01</td>\n",
       "      <td>0.00</td>\n",
       "      <td>NaN</td>\n",
       "      <td>NaN</td>\n",
       "      <td>NaN</td>\n",
       "    </tr>\n",
       "    <tr>\n",
       "      <th>16711</th>\n",
       "      <td>LMA Manager 2007</td>\n",
       "      <td>X360</td>\n",
       "      <td>2006</td>\n",
       "      <td>Sports</td>\n",
       "      <td>0.00</td>\n",
       "      <td>0.01</td>\n",
       "      <td>0.00</td>\n",
       "      <td>0.00</td>\n",
       "      <td>NaN</td>\n",
       "      <td>NaN</td>\n",
       "      <td>NaN</td>\n",
       "    </tr>\n",
       "    <tr>\n",
       "      <th>16712</th>\n",
       "      <td>Haitaka no Psychedelica</td>\n",
       "      <td>PSV</td>\n",
       "      <td>2016</td>\n",
       "      <td>Adventure</td>\n",
       "      <td>0.00</td>\n",
       "      <td>0.00</td>\n",
       "      <td>0.01</td>\n",
       "      <td>0.00</td>\n",
       "      <td>NaN</td>\n",
       "      <td>NaN</td>\n",
       "      <td>NaN</td>\n",
       "    </tr>\n",
       "    <tr>\n",
       "      <th>16713</th>\n",
       "      <td>Spirits &amp; Spells</td>\n",
       "      <td>GBA</td>\n",
       "      <td>2003</td>\n",
       "      <td>Platform</td>\n",
       "      <td>0.01</td>\n",
       "      <td>0.00</td>\n",
       "      <td>0.00</td>\n",
       "      <td>0.00</td>\n",
       "      <td>NaN</td>\n",
       "      <td>NaN</td>\n",
       "      <td>NaN</td>\n",
       "    </tr>\n",
       "    <tr>\n",
       "      <th>16714</th>\n",
       "      <td>Winning Post 8 2016</td>\n",
       "      <td>PSV</td>\n",
       "      <td>2016</td>\n",
       "      <td>Simulation</td>\n",
       "      <td>0.00</td>\n",
       "      <td>0.00</td>\n",
       "      <td>0.01</td>\n",
       "      <td>0.00</td>\n",
       "      <td>NaN</td>\n",
       "      <td>NaN</td>\n",
       "      <td>NaN</td>\n",
       "    </tr>\n",
       "  </tbody>\n",
       "</table>\n",
       "<p>8576 rows × 11 columns</p>\n",
       "</div>"
      ],
      "text/plain": [
       "                                name platform  year_of_release         genre  \\\n",
       "1                  Super Mario Bros.      NES             1985      Platform   \n",
       "4           Pokemon Red/Pokemon Blue       GB             1996  Role-Playing   \n",
       "5                             Tetris       GB             1989        Puzzle   \n",
       "9                          Duck Hunt      NES             1984       Shooter   \n",
       "10                        Nintendogs       DS             2005    Simulation   \n",
       "...                              ...      ...              ...           ...   \n",
       "16710  Samurai Warriors: Sanada Maru      PS3             2016        Action   \n",
       "16711               LMA Manager 2007     X360             2006        Sports   \n",
       "16712        Haitaka no Psychedelica      PSV             2016     Adventure   \n",
       "16713               Spirits & Spells      GBA             2003      Platform   \n",
       "16714            Winning Post 8 2016      PSV             2016    Simulation   \n",
       "\n",
       "       na_sales  eu_sales  jp_sales  other_sales  critic_score user_score  \\\n",
       "1         29.08      3.58      6.81         0.77           NaN        NaN   \n",
       "4         11.27      8.89     10.22         1.00           NaN        NaN   \n",
       "5         23.20      2.26      4.22         0.58           NaN        NaN   \n",
       "9         26.93      0.63      0.28         0.47           NaN        NaN   \n",
       "10         9.05     10.95      1.93         2.74           NaN        NaN   \n",
       "...         ...       ...       ...          ...           ...        ...   \n",
       "16710      0.00      0.00      0.01         0.00           NaN        NaN   \n",
       "16711      0.00      0.01      0.00         0.00           NaN        NaN   \n",
       "16712      0.00      0.00      0.01         0.00           NaN        NaN   \n",
       "16713      0.01      0.00      0.00         0.00           NaN        NaN   \n",
       "16714      0.00      0.00      0.01         0.00           NaN        NaN   \n",
       "\n",
       "      rating  \n",
       "1        NaN  \n",
       "4        NaN  \n",
       "5        NaN  \n",
       "9        NaN  \n",
       "10       NaN  \n",
       "...      ...  \n",
       "16710    NaN  \n",
       "16711    NaN  \n",
       "16712    NaN  \n",
       "16713    NaN  \n",
       "16714    NaN  \n",
       "\n",
       "[8576 rows x 11 columns]"
      ]
     },
     "metadata": {},
     "output_type": "display_data"
    },
    {
     "data": {
      "text/plain": [
       "array([76., nan, 82., 80., 89., 58., 87., 91., 61., 97., 95., 77., 88.,\n",
       "       83., 94., 93., 85., 86., 98., 96., 90., 84., 73., 74., 78., 92.,\n",
       "       71., 72., 68., 62., 49., 67., 81., 66., 56., 79., 70., 59., 64.,\n",
       "       75., 60., 63., 69., 50., 25., 42., 44., 55., 48., 57., 29., 47.,\n",
       "       65., 54., 20., 53., 37., 38., 33., 52., 30., 32., 43., 45., 51.,\n",
       "       40., 46., 39., 34., 35., 41., 36., 28., 31., 27., 26., 19., 23.,\n",
       "       24., 21., 17., 22., 13.])"
      ]
     },
     "metadata": {},
     "output_type": "display_data"
    },
    {
     "data": {
      "text/plain": [
       "array([76., 69., 82., 80., 89., 58., 87., 91., 61., 97., 95., 77., 88.,\n",
       "       83., 94., 93., 85., 86., 98., 96., 90., 84., 73., 74., 78., 92.,\n",
       "       71., 72., 68., 62., 49., 67., 81., 66., 56., 79., 70., 59., 64.,\n",
       "       75., 60., 63., 50., 25., 42., 44., 55., 48., 57., 29., 47., 65.,\n",
       "       54., 20., 53., 37., 38., 33., 52., 30., 32., 43., 45., 51., 40.,\n",
       "       46., 39., 34., 35., 41., 36., 28., 31., 27., 26., 19., 23., 24.,\n",
       "       21., 17., 22., 13.])"
      ]
     },
     "metadata": {},
     "output_type": "display_data"
    }
   ],
   "source": [
    "# Analizando critic score\n",
    "critic_nulos = df[df['critic_score'].isnull()]\n",
    "display(critic_nulos)\n",
    "critic_nulos.nunique()\n",
    "display(df['critic_score'].unique())\n",
    "# Remplazar los valores ausentes con la media (porque los valores no tienen muchos valores atípicos) para no generar sesgos en nuestros resultados\n",
    "df[\"critic_score\"] = df[\"critic_score\"].fillna(df['critic_score'].mean()).round(1)\n",
    "\n",
    "# Mostrar valores unicos de la columna\n",
    "display(df['critic_score'].unique())\n"
   ]
  },
  {
   "cell_type": "code",
   "execution_count": 14,
   "metadata": {
    "trusted": true
   },
   "outputs": [
    {
     "data": {
      "text/html": [
       "<div>\n",
       "<style scoped>\n",
       "    .dataframe tbody tr th:only-of-type {\n",
       "        vertical-align: middle;\n",
       "    }\n",
       "\n",
       "    .dataframe tbody tr th {\n",
       "        vertical-align: top;\n",
       "    }\n",
       "\n",
       "    .dataframe thead th {\n",
       "        text-align: right;\n",
       "    }\n",
       "</style>\n",
       "<table border=\"1\" class=\"dataframe\">\n",
       "  <thead>\n",
       "    <tr style=\"text-align: right;\">\n",
       "      <th></th>\n",
       "      <th>name</th>\n",
       "      <th>platform</th>\n",
       "      <th>year_of_release</th>\n",
       "      <th>genre</th>\n",
       "      <th>na_sales</th>\n",
       "      <th>eu_sales</th>\n",
       "      <th>jp_sales</th>\n",
       "      <th>other_sales</th>\n",
       "      <th>critic_score</th>\n",
       "      <th>user_score</th>\n",
       "      <th>rating</th>\n",
       "    </tr>\n",
       "  </thead>\n",
       "  <tbody>\n",
       "    <tr>\n",
       "      <th>1</th>\n",
       "      <td>Super Mario Bros.</td>\n",
       "      <td>NES</td>\n",
       "      <td>1985</td>\n",
       "      <td>Platform</td>\n",
       "      <td>29.08</td>\n",
       "      <td>3.58</td>\n",
       "      <td>6.81</td>\n",
       "      <td>0.77</td>\n",
       "      <td>69.0</td>\n",
       "      <td>NaN</td>\n",
       "      <td>NaN</td>\n",
       "    </tr>\n",
       "    <tr>\n",
       "      <th>4</th>\n",
       "      <td>Pokemon Red/Pokemon Blue</td>\n",
       "      <td>GB</td>\n",
       "      <td>1996</td>\n",
       "      <td>Role-Playing</td>\n",
       "      <td>11.27</td>\n",
       "      <td>8.89</td>\n",
       "      <td>10.22</td>\n",
       "      <td>1.00</td>\n",
       "      <td>69.0</td>\n",
       "      <td>NaN</td>\n",
       "      <td>NaN</td>\n",
       "    </tr>\n",
       "    <tr>\n",
       "      <th>5</th>\n",
       "      <td>Tetris</td>\n",
       "      <td>GB</td>\n",
       "      <td>1989</td>\n",
       "      <td>Puzzle</td>\n",
       "      <td>23.20</td>\n",
       "      <td>2.26</td>\n",
       "      <td>4.22</td>\n",
       "      <td>0.58</td>\n",
       "      <td>69.0</td>\n",
       "      <td>NaN</td>\n",
       "      <td>NaN</td>\n",
       "    </tr>\n",
       "    <tr>\n",
       "      <th>9</th>\n",
       "      <td>Duck Hunt</td>\n",
       "      <td>NES</td>\n",
       "      <td>1984</td>\n",
       "      <td>Shooter</td>\n",
       "      <td>26.93</td>\n",
       "      <td>0.63</td>\n",
       "      <td>0.28</td>\n",
       "      <td>0.47</td>\n",
       "      <td>69.0</td>\n",
       "      <td>NaN</td>\n",
       "      <td>NaN</td>\n",
       "    </tr>\n",
       "    <tr>\n",
       "      <th>10</th>\n",
       "      <td>Nintendogs</td>\n",
       "      <td>DS</td>\n",
       "      <td>2005</td>\n",
       "      <td>Simulation</td>\n",
       "      <td>9.05</td>\n",
       "      <td>10.95</td>\n",
       "      <td>1.93</td>\n",
       "      <td>2.74</td>\n",
       "      <td>69.0</td>\n",
       "      <td>NaN</td>\n",
       "      <td>NaN</td>\n",
       "    </tr>\n",
       "    <tr>\n",
       "      <th>...</th>\n",
       "      <td>...</td>\n",
       "      <td>...</td>\n",
       "      <td>...</td>\n",
       "      <td>...</td>\n",
       "      <td>...</td>\n",
       "      <td>...</td>\n",
       "      <td>...</td>\n",
       "      <td>...</td>\n",
       "      <td>...</td>\n",
       "      <td>...</td>\n",
       "      <td>...</td>\n",
       "    </tr>\n",
       "    <tr>\n",
       "      <th>16710</th>\n",
       "      <td>Samurai Warriors: Sanada Maru</td>\n",
       "      <td>PS3</td>\n",
       "      <td>2016</td>\n",
       "      <td>Action</td>\n",
       "      <td>0.00</td>\n",
       "      <td>0.00</td>\n",
       "      <td>0.01</td>\n",
       "      <td>0.00</td>\n",
       "      <td>69.0</td>\n",
       "      <td>NaN</td>\n",
       "      <td>NaN</td>\n",
       "    </tr>\n",
       "    <tr>\n",
       "      <th>16711</th>\n",
       "      <td>LMA Manager 2007</td>\n",
       "      <td>X360</td>\n",
       "      <td>2006</td>\n",
       "      <td>Sports</td>\n",
       "      <td>0.00</td>\n",
       "      <td>0.01</td>\n",
       "      <td>0.00</td>\n",
       "      <td>0.00</td>\n",
       "      <td>69.0</td>\n",
       "      <td>NaN</td>\n",
       "      <td>NaN</td>\n",
       "    </tr>\n",
       "    <tr>\n",
       "      <th>16712</th>\n",
       "      <td>Haitaka no Psychedelica</td>\n",
       "      <td>PSV</td>\n",
       "      <td>2016</td>\n",
       "      <td>Adventure</td>\n",
       "      <td>0.00</td>\n",
       "      <td>0.00</td>\n",
       "      <td>0.01</td>\n",
       "      <td>0.00</td>\n",
       "      <td>69.0</td>\n",
       "      <td>NaN</td>\n",
       "      <td>NaN</td>\n",
       "    </tr>\n",
       "    <tr>\n",
       "      <th>16713</th>\n",
       "      <td>Spirits &amp; Spells</td>\n",
       "      <td>GBA</td>\n",
       "      <td>2003</td>\n",
       "      <td>Platform</td>\n",
       "      <td>0.01</td>\n",
       "      <td>0.00</td>\n",
       "      <td>0.00</td>\n",
       "      <td>0.00</td>\n",
       "      <td>69.0</td>\n",
       "      <td>NaN</td>\n",
       "      <td>NaN</td>\n",
       "    </tr>\n",
       "    <tr>\n",
       "      <th>16714</th>\n",
       "      <td>Winning Post 8 2016</td>\n",
       "      <td>PSV</td>\n",
       "      <td>2016</td>\n",
       "      <td>Simulation</td>\n",
       "      <td>0.00</td>\n",
       "      <td>0.00</td>\n",
       "      <td>0.01</td>\n",
       "      <td>0.00</td>\n",
       "      <td>69.0</td>\n",
       "      <td>NaN</td>\n",
       "      <td>NaN</td>\n",
       "    </tr>\n",
       "  </tbody>\n",
       "</table>\n",
       "<p>6699 rows × 11 columns</p>\n",
       "</div>"
      ],
      "text/plain": [
       "                                name platform  year_of_release         genre  \\\n",
       "1                  Super Mario Bros.      NES             1985      Platform   \n",
       "4           Pokemon Red/Pokemon Blue       GB             1996  Role-Playing   \n",
       "5                             Tetris       GB             1989        Puzzle   \n",
       "9                          Duck Hunt      NES             1984       Shooter   \n",
       "10                        Nintendogs       DS             2005    Simulation   \n",
       "...                              ...      ...              ...           ...   \n",
       "16710  Samurai Warriors: Sanada Maru      PS3             2016        Action   \n",
       "16711               LMA Manager 2007     X360             2006        Sports   \n",
       "16712        Haitaka no Psychedelica      PSV             2016     Adventure   \n",
       "16713               Spirits & Spells      GBA             2003      Platform   \n",
       "16714            Winning Post 8 2016      PSV             2016    Simulation   \n",
       "\n",
       "       na_sales  eu_sales  jp_sales  other_sales  critic_score user_score  \\\n",
       "1         29.08      3.58      6.81         0.77          69.0        NaN   \n",
       "4         11.27      8.89     10.22         1.00          69.0        NaN   \n",
       "5         23.20      2.26      4.22         0.58          69.0        NaN   \n",
       "9         26.93      0.63      0.28         0.47          69.0        NaN   \n",
       "10         9.05     10.95      1.93         2.74          69.0        NaN   \n",
       "...         ...       ...       ...          ...           ...        ...   \n",
       "16710      0.00      0.00      0.01         0.00          69.0        NaN   \n",
       "16711      0.00      0.01      0.00         0.00          69.0        NaN   \n",
       "16712      0.00      0.00      0.01         0.00          69.0        NaN   \n",
       "16713      0.01      0.00      0.00         0.00          69.0        NaN   \n",
       "16714      0.00      0.00      0.01         0.00          69.0        NaN   \n",
       "\n",
       "      rating  \n",
       "1        NaN  \n",
       "4        NaN  \n",
       "5        NaN  \n",
       "9        NaN  \n",
       "10       NaN  \n",
       "...      ...  \n",
       "16710    NaN  \n",
       "16711    NaN  \n",
       "16712    NaN  \n",
       "16713    NaN  \n",
       "16714    NaN  \n",
       "\n",
       "[6699 rows x 11 columns]"
      ]
     },
     "metadata": {},
     "output_type": "display_data"
    },
    {
     "data": {
      "text/plain": [
       "array(['8', nan, '8.3', '8.5', '6.6', '8.4', '8.6', '7.7', '6.3', '7.4',\n",
       "       '8.2', '9', '7.9', '8.1', '8.7', '7.1', '3.4', '5.3', '4.8', '3.2',\n",
       "       '8.9', '6.4', '7.8', '7.5', '2.6', '7.2', '9.2', '7', '7.3', '4.3',\n",
       "       '7.6', '5.7', '5', '9.1', '6.5', 'tbd', '8.8', '6.9', '9.4', '6.8',\n",
       "       '6.1', '6.7', '5.4', '4', '4.9', '4.5', '9.3', '6.2', '4.2', '6',\n",
       "       '3.7', '4.1', '5.8', '5.6', '5.5', '4.4', '4.6', '5.9', '3.9',\n",
       "       '3.1', '2.9', '5.2', '3.3', '4.7', '5.1', '3.5', '2.5', '1.9', '3',\n",
       "       '2.7', '2.2', '2', '9.5', '2.1', '3.6', '2.8', '1.8', '3.8', '0',\n",
       "       '1.6', '9.6', '2.4', '1.7', '1.1', '0.3', '1.5', '0.7', '1.2',\n",
       "       '2.3', '0.5', '1.3', '0.2', '0.6', '1.4', '0.9', '1', '9.7'],\n",
       "      dtype=object)"
      ]
     },
     "metadata": {},
     "output_type": "display_data"
    },
    {
     "data": {
      "text/html": [
       "<div>\n",
       "<style scoped>\n",
       "    .dataframe tbody tr th:only-of-type {\n",
       "        vertical-align: middle;\n",
       "    }\n",
       "\n",
       "    .dataframe tbody tr th {\n",
       "        vertical-align: top;\n",
       "    }\n",
       "\n",
       "    .dataframe thead th {\n",
       "        text-align: right;\n",
       "    }\n",
       "</style>\n",
       "<table border=\"1\" class=\"dataframe\">\n",
       "  <thead>\n",
       "    <tr style=\"text-align: right;\">\n",
       "      <th></th>\n",
       "      <th>name</th>\n",
       "      <th>platform</th>\n",
       "      <th>year_of_release</th>\n",
       "      <th>genre</th>\n",
       "      <th>na_sales</th>\n",
       "      <th>eu_sales</th>\n",
       "      <th>jp_sales</th>\n",
       "      <th>other_sales</th>\n",
       "      <th>critic_score</th>\n",
       "      <th>user_score</th>\n",
       "      <th>rating</th>\n",
       "    </tr>\n",
       "  </thead>\n",
       "  <tbody>\n",
       "    <tr>\n",
       "      <th>119</th>\n",
       "      <td>Zumba Fitness</td>\n",
       "      <td>Wii</td>\n",
       "      <td>2010</td>\n",
       "      <td>Sports</td>\n",
       "      <td>3.45</td>\n",
       "      <td>2.59</td>\n",
       "      <td>0.0</td>\n",
       "      <td>0.66</td>\n",
       "      <td>69.0</td>\n",
       "      <td>tbd</td>\n",
       "      <td>E</td>\n",
       "    </tr>\n",
       "    <tr>\n",
       "      <th>301</th>\n",
       "      <td>Namco Museum: 50th Anniversary</td>\n",
       "      <td>PS2</td>\n",
       "      <td>2005</td>\n",
       "      <td>Misc</td>\n",
       "      <td>2.08</td>\n",
       "      <td>1.35</td>\n",
       "      <td>0.0</td>\n",
       "      <td>0.54</td>\n",
       "      <td>61.0</td>\n",
       "      <td>tbd</td>\n",
       "      <td>E10+</td>\n",
       "    </tr>\n",
       "    <tr>\n",
       "      <th>520</th>\n",
       "      <td>Zumba Fitness 2</td>\n",
       "      <td>Wii</td>\n",
       "      <td>2011</td>\n",
       "      <td>Sports</td>\n",
       "      <td>1.51</td>\n",
       "      <td>1.03</td>\n",
       "      <td>0.0</td>\n",
       "      <td>0.27</td>\n",
       "      <td>69.0</td>\n",
       "      <td>tbd</td>\n",
       "      <td>T</td>\n",
       "    </tr>\n",
       "    <tr>\n",
       "      <th>645</th>\n",
       "      <td>uDraw Studio</td>\n",
       "      <td>Wii</td>\n",
       "      <td>2010</td>\n",
       "      <td>Misc</td>\n",
       "      <td>1.65</td>\n",
       "      <td>0.57</td>\n",
       "      <td>0.0</td>\n",
       "      <td>0.20</td>\n",
       "      <td>71.0</td>\n",
       "      <td>tbd</td>\n",
       "      <td>E</td>\n",
       "    </tr>\n",
       "    <tr>\n",
       "      <th>657</th>\n",
       "      <td>Frogger's Adventures: Temple of the Frog</td>\n",
       "      <td>GBA</td>\n",
       "      <td>&lt;NA&gt;</td>\n",
       "      <td>Adventure</td>\n",
       "      <td>2.15</td>\n",
       "      <td>0.18</td>\n",
       "      <td>0.0</td>\n",
       "      <td>0.07</td>\n",
       "      <td>73.0</td>\n",
       "      <td>tbd</td>\n",
       "      <td>E</td>\n",
       "    </tr>\n",
       "    <tr>\n",
       "      <th>...</th>\n",
       "      <td>...</td>\n",
       "      <td>...</td>\n",
       "      <td>...</td>\n",
       "      <td>...</td>\n",
       "      <td>...</td>\n",
       "      <td>...</td>\n",
       "      <td>...</td>\n",
       "      <td>...</td>\n",
       "      <td>...</td>\n",
       "      <td>...</td>\n",
       "      <td>...</td>\n",
       "    </tr>\n",
       "    <tr>\n",
       "      <th>16695</th>\n",
       "      <td>Planet Monsters</td>\n",
       "      <td>GBA</td>\n",
       "      <td>2001</td>\n",
       "      <td>Action</td>\n",
       "      <td>0.01</td>\n",
       "      <td>0.00</td>\n",
       "      <td>0.0</td>\n",
       "      <td>0.00</td>\n",
       "      <td>67.0</td>\n",
       "      <td>tbd</td>\n",
       "      <td>E</td>\n",
       "    </tr>\n",
       "    <tr>\n",
       "      <th>16697</th>\n",
       "      <td>Bust-A-Move 3000</td>\n",
       "      <td>GC</td>\n",
       "      <td>2003</td>\n",
       "      <td>Puzzle</td>\n",
       "      <td>0.01</td>\n",
       "      <td>0.00</td>\n",
       "      <td>0.0</td>\n",
       "      <td>0.00</td>\n",
       "      <td>53.0</td>\n",
       "      <td>tbd</td>\n",
       "      <td>E</td>\n",
       "    </tr>\n",
       "    <tr>\n",
       "      <th>16698</th>\n",
       "      <td>Mega Brain Boost</td>\n",
       "      <td>DS</td>\n",
       "      <td>2008</td>\n",
       "      <td>Puzzle</td>\n",
       "      <td>0.01</td>\n",
       "      <td>0.00</td>\n",
       "      <td>0.0</td>\n",
       "      <td>0.00</td>\n",
       "      <td>48.0</td>\n",
       "      <td>tbd</td>\n",
       "      <td>E</td>\n",
       "    </tr>\n",
       "    <tr>\n",
       "      <th>16704</th>\n",
       "      <td>Plushees</td>\n",
       "      <td>DS</td>\n",
       "      <td>2008</td>\n",
       "      <td>Simulation</td>\n",
       "      <td>0.01</td>\n",
       "      <td>0.00</td>\n",
       "      <td>0.0</td>\n",
       "      <td>0.00</td>\n",
       "      <td>69.0</td>\n",
       "      <td>tbd</td>\n",
       "      <td>E</td>\n",
       "    </tr>\n",
       "    <tr>\n",
       "      <th>16706</th>\n",
       "      <td>Men in Black II: Alien Escape</td>\n",
       "      <td>GC</td>\n",
       "      <td>2003</td>\n",
       "      <td>Shooter</td>\n",
       "      <td>0.01</td>\n",
       "      <td>0.00</td>\n",
       "      <td>0.0</td>\n",
       "      <td>0.00</td>\n",
       "      <td>69.0</td>\n",
       "      <td>tbd</td>\n",
       "      <td>T</td>\n",
       "    </tr>\n",
       "  </tbody>\n",
       "</table>\n",
       "<p>2424 rows × 11 columns</p>\n",
       "</div>"
      ],
      "text/plain": [
       "                                           name platform  year_of_release  \\\n",
       "119                               Zumba Fitness      Wii             2010   \n",
       "301              Namco Museum: 50th Anniversary      PS2             2005   \n",
       "520                             Zumba Fitness 2      Wii             2011   \n",
       "645                                uDraw Studio      Wii             2010   \n",
       "657    Frogger's Adventures: Temple of the Frog      GBA             <NA>   \n",
       "...                                         ...      ...              ...   \n",
       "16695                           Planet Monsters      GBA             2001   \n",
       "16697                          Bust-A-Move 3000       GC             2003   \n",
       "16698                          Mega Brain Boost       DS             2008   \n",
       "16704                                  Plushees       DS             2008   \n",
       "16706             Men in Black II: Alien Escape       GC             2003   \n",
       "\n",
       "            genre  na_sales  eu_sales  jp_sales  other_sales  critic_score  \\\n",
       "119        Sports      3.45      2.59       0.0         0.66          69.0   \n",
       "301          Misc      2.08      1.35       0.0         0.54          61.0   \n",
       "520        Sports      1.51      1.03       0.0         0.27          69.0   \n",
       "645          Misc      1.65      0.57       0.0         0.20          71.0   \n",
       "657     Adventure      2.15      0.18       0.0         0.07          73.0   \n",
       "...           ...       ...       ...       ...          ...           ...   \n",
       "16695      Action      0.01      0.00       0.0         0.00          67.0   \n",
       "16697      Puzzle      0.01      0.00       0.0         0.00          53.0   \n",
       "16698      Puzzle      0.01      0.00       0.0         0.00          48.0   \n",
       "16704  Simulation      0.01      0.00       0.0         0.00          69.0   \n",
       "16706     Shooter      0.01      0.00       0.0         0.00          69.0   \n",
       "\n",
       "      user_score rating  \n",
       "119          tbd      E  \n",
       "301          tbd   E10+  \n",
       "520          tbd      T  \n",
       "645          tbd      E  \n",
       "657          tbd      E  \n",
       "...          ...    ...  \n",
       "16695        tbd      E  \n",
       "16697        tbd      E  \n",
       "16698        tbd      E  \n",
       "16704        tbd      E  \n",
       "16706        tbd      T  \n",
       "\n",
       "[2424 rows x 11 columns]"
      ]
     },
     "metadata": {},
     "output_type": "display_data"
    }
   ],
   "source": [
    "# Analizando user score\n",
    "user_nulos = df[df['user_score'].isnull()]\n",
    "display(user_nulos)\n",
    "user_nulos.nunique()\n",
    "display(df['user_score'].unique())\n",
    "display(df[df['user_score']== 'tbd'])\n",
    "# Convertir tbd a Nan\n",
    "df['user_score'] = pd.to_numeric(df['user_score'], errors='coerce')\n"
   ]
  },
  {
   "cell_type": "code",
   "execution_count": 15,
   "metadata": {
    "trusted": true
   },
   "outputs": [
    {
     "data": {
      "text/plain": [
       "array([8. , 7.1, 8.3, 8.5, 6.6, 8.4, 8.6, 7.7, 6.3, 7.4, 8.2, 9. , 7.9,\n",
       "       8.1, 8.7, 3.4, 5.3, 4.8, 3.2, 8.9, 6.4, 7.8, 7.5, 2.6, 7.2, 9.2,\n",
       "       7. , 7.3, 4.3, 7.6, 5.7, 5. , 9.1, 6.5, 8.8, 6.9, 9.4, 6.8, 6.1,\n",
       "       6.7, 5.4, 4. , 4.9, 4.5, 9.3, 6.2, 4.2, 6. , 3.7, 4.1, 5.8, 5.6,\n",
       "       5.5, 4.4, 4.6, 5.9, 3.9, 3.1, 2.9, 5.2, 3.3, 4.7, 5.1, 3.5, 2.5,\n",
       "       1.9, 3. , 2.7, 2.2, 2. , 9.5, 2.1, 3.6, 2.8, 1.8, 3.8, 0. , 1.6,\n",
       "       9.6, 2.4, 1.7, 1.1, 0.3, 1.5, 0.7, 1.2, 2.3, 0.5, 1.3, 0.2, 0.6,\n",
       "       1.4, 0.9, 1. , 9.7])"
      ]
     },
     "metadata": {},
     "output_type": "display_data"
    }
   ],
   "source": [
    "# Remplazar los valores ausentes con la media (porque los valores no tienen muchos valores atípicos) para no generar sesgos en nuestros resultados\n",
    "df[\"user_score\"] = df[\"user_score\"].fillna(df['user_score'].mean()).round(1)\n",
    "# Convertir la columna al tipo de dato float\n",
    "df[\"user_score\"] = df[\"user_score\"].astype(float)\n",
    "\n",
    "# mostrar valores unicos de la columna\n",
    "display(df['user_score'].unique())\n"
   ]
  },
  {
   "cell_type": "code",
   "execution_count": 16,
   "metadata": {
    "trusted": true
   },
   "outputs": [
    {
     "data": {
      "text/html": [
       "<div>\n",
       "<style scoped>\n",
       "    .dataframe tbody tr th:only-of-type {\n",
       "        vertical-align: middle;\n",
       "    }\n",
       "\n",
       "    .dataframe tbody tr th {\n",
       "        vertical-align: top;\n",
       "    }\n",
       "\n",
       "    .dataframe thead th {\n",
       "        text-align: right;\n",
       "    }\n",
       "</style>\n",
       "<table border=\"1\" class=\"dataframe\">\n",
       "  <thead>\n",
       "    <tr style=\"text-align: right;\">\n",
       "      <th></th>\n",
       "      <th>name</th>\n",
       "      <th>platform</th>\n",
       "      <th>year_of_release</th>\n",
       "      <th>genre</th>\n",
       "      <th>na_sales</th>\n",
       "      <th>eu_sales</th>\n",
       "      <th>jp_sales</th>\n",
       "      <th>other_sales</th>\n",
       "      <th>critic_score</th>\n",
       "      <th>user_score</th>\n",
       "      <th>rating</th>\n",
       "    </tr>\n",
       "  </thead>\n",
       "  <tbody>\n",
       "    <tr>\n",
       "      <th>1</th>\n",
       "      <td>Super Mario Bros.</td>\n",
       "      <td>NES</td>\n",
       "      <td>1985</td>\n",
       "      <td>Platform</td>\n",
       "      <td>29.08</td>\n",
       "      <td>3.58</td>\n",
       "      <td>6.81</td>\n",
       "      <td>0.77</td>\n",
       "      <td>69.0</td>\n",
       "      <td>7.1</td>\n",
       "      <td>NaN</td>\n",
       "    </tr>\n",
       "    <tr>\n",
       "      <th>4</th>\n",
       "      <td>Pokemon Red/Pokemon Blue</td>\n",
       "      <td>GB</td>\n",
       "      <td>1996</td>\n",
       "      <td>Role-Playing</td>\n",
       "      <td>11.27</td>\n",
       "      <td>8.89</td>\n",
       "      <td>10.22</td>\n",
       "      <td>1.00</td>\n",
       "      <td>69.0</td>\n",
       "      <td>7.1</td>\n",
       "      <td>NaN</td>\n",
       "    </tr>\n",
       "    <tr>\n",
       "      <th>5</th>\n",
       "      <td>Tetris</td>\n",
       "      <td>GB</td>\n",
       "      <td>1989</td>\n",
       "      <td>Puzzle</td>\n",
       "      <td>23.20</td>\n",
       "      <td>2.26</td>\n",
       "      <td>4.22</td>\n",
       "      <td>0.58</td>\n",
       "      <td>69.0</td>\n",
       "      <td>7.1</td>\n",
       "      <td>NaN</td>\n",
       "    </tr>\n",
       "    <tr>\n",
       "      <th>9</th>\n",
       "      <td>Duck Hunt</td>\n",
       "      <td>NES</td>\n",
       "      <td>1984</td>\n",
       "      <td>Shooter</td>\n",
       "      <td>26.93</td>\n",
       "      <td>0.63</td>\n",
       "      <td>0.28</td>\n",
       "      <td>0.47</td>\n",
       "      <td>69.0</td>\n",
       "      <td>7.1</td>\n",
       "      <td>NaN</td>\n",
       "    </tr>\n",
       "    <tr>\n",
       "      <th>10</th>\n",
       "      <td>Nintendogs</td>\n",
       "      <td>DS</td>\n",
       "      <td>2005</td>\n",
       "      <td>Simulation</td>\n",
       "      <td>9.05</td>\n",
       "      <td>10.95</td>\n",
       "      <td>1.93</td>\n",
       "      <td>2.74</td>\n",
       "      <td>69.0</td>\n",
       "      <td>7.1</td>\n",
       "      <td>NaN</td>\n",
       "    </tr>\n",
       "    <tr>\n",
       "      <th>...</th>\n",
       "      <td>...</td>\n",
       "      <td>...</td>\n",
       "      <td>...</td>\n",
       "      <td>...</td>\n",
       "      <td>...</td>\n",
       "      <td>...</td>\n",
       "      <td>...</td>\n",
       "      <td>...</td>\n",
       "      <td>...</td>\n",
       "      <td>...</td>\n",
       "      <td>...</td>\n",
       "    </tr>\n",
       "    <tr>\n",
       "      <th>16710</th>\n",
       "      <td>Samurai Warriors: Sanada Maru</td>\n",
       "      <td>PS3</td>\n",
       "      <td>2016</td>\n",
       "      <td>Action</td>\n",
       "      <td>0.00</td>\n",
       "      <td>0.00</td>\n",
       "      <td>0.01</td>\n",
       "      <td>0.00</td>\n",
       "      <td>69.0</td>\n",
       "      <td>7.1</td>\n",
       "      <td>NaN</td>\n",
       "    </tr>\n",
       "    <tr>\n",
       "      <th>16711</th>\n",
       "      <td>LMA Manager 2007</td>\n",
       "      <td>X360</td>\n",
       "      <td>2006</td>\n",
       "      <td>Sports</td>\n",
       "      <td>0.00</td>\n",
       "      <td>0.01</td>\n",
       "      <td>0.00</td>\n",
       "      <td>0.00</td>\n",
       "      <td>69.0</td>\n",
       "      <td>7.1</td>\n",
       "      <td>NaN</td>\n",
       "    </tr>\n",
       "    <tr>\n",
       "      <th>16712</th>\n",
       "      <td>Haitaka no Psychedelica</td>\n",
       "      <td>PSV</td>\n",
       "      <td>2016</td>\n",
       "      <td>Adventure</td>\n",
       "      <td>0.00</td>\n",
       "      <td>0.00</td>\n",
       "      <td>0.01</td>\n",
       "      <td>0.00</td>\n",
       "      <td>69.0</td>\n",
       "      <td>7.1</td>\n",
       "      <td>NaN</td>\n",
       "    </tr>\n",
       "    <tr>\n",
       "      <th>16713</th>\n",
       "      <td>Spirits &amp; Spells</td>\n",
       "      <td>GBA</td>\n",
       "      <td>2003</td>\n",
       "      <td>Platform</td>\n",
       "      <td>0.01</td>\n",
       "      <td>0.00</td>\n",
       "      <td>0.00</td>\n",
       "      <td>0.00</td>\n",
       "      <td>69.0</td>\n",
       "      <td>7.1</td>\n",
       "      <td>NaN</td>\n",
       "    </tr>\n",
       "    <tr>\n",
       "      <th>16714</th>\n",
       "      <td>Winning Post 8 2016</td>\n",
       "      <td>PSV</td>\n",
       "      <td>2016</td>\n",
       "      <td>Simulation</td>\n",
       "      <td>0.00</td>\n",
       "      <td>0.00</td>\n",
       "      <td>0.01</td>\n",
       "      <td>0.00</td>\n",
       "      <td>69.0</td>\n",
       "      <td>7.1</td>\n",
       "      <td>NaN</td>\n",
       "    </tr>\n",
       "  </tbody>\n",
       "</table>\n",
       "<p>6764 rows × 11 columns</p>\n",
       "</div>"
      ],
      "text/plain": [
       "                                name platform  year_of_release         genre  \\\n",
       "1                  Super Mario Bros.      NES             1985      Platform   \n",
       "4           Pokemon Red/Pokemon Blue       GB             1996  Role-Playing   \n",
       "5                             Tetris       GB             1989        Puzzle   \n",
       "9                          Duck Hunt      NES             1984       Shooter   \n",
       "10                        Nintendogs       DS             2005    Simulation   \n",
       "...                              ...      ...              ...           ...   \n",
       "16710  Samurai Warriors: Sanada Maru      PS3             2016        Action   \n",
       "16711               LMA Manager 2007     X360             2006        Sports   \n",
       "16712        Haitaka no Psychedelica      PSV             2016     Adventure   \n",
       "16713               Spirits & Spells      GBA             2003      Platform   \n",
       "16714            Winning Post 8 2016      PSV             2016    Simulation   \n",
       "\n",
       "       na_sales  eu_sales  jp_sales  other_sales  critic_score  user_score  \\\n",
       "1         29.08      3.58      6.81         0.77          69.0         7.1   \n",
       "4         11.27      8.89     10.22         1.00          69.0         7.1   \n",
       "5         23.20      2.26      4.22         0.58          69.0         7.1   \n",
       "9         26.93      0.63      0.28         0.47          69.0         7.1   \n",
       "10         9.05     10.95      1.93         2.74          69.0         7.1   \n",
       "...         ...       ...       ...          ...           ...         ...   \n",
       "16710      0.00      0.00      0.01         0.00          69.0         7.1   \n",
       "16711      0.00      0.01      0.00         0.00          69.0         7.1   \n",
       "16712      0.00      0.00      0.01         0.00          69.0         7.1   \n",
       "16713      0.01      0.00      0.00         0.00          69.0         7.1   \n",
       "16714      0.00      0.00      0.01         0.00          69.0         7.1   \n",
       "\n",
       "      rating  \n",
       "1        NaN  \n",
       "4        NaN  \n",
       "5        NaN  \n",
       "9        NaN  \n",
       "10       NaN  \n",
       "...      ...  \n",
       "16710    NaN  \n",
       "16711    NaN  \n",
       "16712    NaN  \n",
       "16713    NaN  \n",
       "16714    NaN  \n",
       "\n",
       "[6764 rows x 11 columns]"
      ]
     },
     "metadata": {},
     "output_type": "display_data"
    },
    {
     "data": {
      "text/plain": [
       "['E', 'tbd', 'M', 'T', 'E10+', 'K-A', 'AO', 'EC', 'RP']\n",
       "Categories (9, object): ['E', 'tbd', 'M', 'T', ..., 'K-A', 'AO', 'EC', 'RP']"
      ]
     },
     "metadata": {},
     "output_type": "display_data"
    }
   ],
   "source": [
    "# Analizando rating\n",
    "rating_nulos = df[df['rating'].isnull()]\n",
    "display(rating_nulos)\n",
    "# Convertir los valores ausentes en el string \"tbd\"\n",
    "df['rating'] = df['rating'].cat.add_categories([\"tbd\"])\n",
    "df['rating'] = df['rating'].fillna(\"tbd\")\n",
    "\n",
    "display(df['rating'].unique())"
   ]
  },
  {
   "cell_type": "markdown",
   "metadata": {},
   "source": [
    "* No se encontró ninguna explicación clara de los valores nulos, al ser una variable categorica se decidió dejar reemplazar con el texto 'tbd' para diferenciarlos"
   ]
  },
  {
   "cell_type": "code",
   "execution_count": 24,
   "metadata": {
    "trusted": true
   },
   "outputs": [
    {
     "data": {
      "text/html": [
       "<div>\n",
       "<style scoped>\n",
       "    .dataframe tbody tr th:only-of-type {\n",
       "        vertical-align: middle;\n",
       "    }\n",
       "\n",
       "    .dataframe tbody tr th {\n",
       "        vertical-align: top;\n",
       "    }\n",
       "\n",
       "    .dataframe thead th {\n",
       "        text-align: right;\n",
       "    }\n",
       "</style>\n",
       "<table border=\"1\" class=\"dataframe\">\n",
       "  <thead>\n",
       "    <tr style=\"text-align: right;\">\n",
       "      <th></th>\n",
       "      <th>name</th>\n",
       "      <th>platform</th>\n",
       "      <th>year_of_release</th>\n",
       "      <th>genre</th>\n",
       "      <th>na_sales</th>\n",
       "      <th>eu_sales</th>\n",
       "      <th>jp_sales</th>\n",
       "      <th>other_sales</th>\n",
       "      <th>critic_score</th>\n",
       "      <th>user_score</th>\n",
       "      <th>rating</th>\n",
       "      <th>total_sales</th>\n",
       "    </tr>\n",
       "  </thead>\n",
       "  <tbody>\n",
       "    <tr>\n",
       "      <th>0</th>\n",
       "      <td>Wii Sports</td>\n",
       "      <td>Wii</td>\n",
       "      <td>2006</td>\n",
       "      <td>Sports</td>\n",
       "      <td>41.36</td>\n",
       "      <td>28.96</td>\n",
       "      <td>3.77</td>\n",
       "      <td>8.45</td>\n",
       "      <td>76.0</td>\n",
       "      <td>8.0</td>\n",
       "      <td>E</td>\n",
       "      <td>82.54</td>\n",
       "    </tr>\n",
       "    <tr>\n",
       "      <th>1</th>\n",
       "      <td>Super Mario Bros.</td>\n",
       "      <td>NES</td>\n",
       "      <td>1985</td>\n",
       "      <td>Platform</td>\n",
       "      <td>29.08</td>\n",
       "      <td>3.58</td>\n",
       "      <td>6.81</td>\n",
       "      <td>0.77</td>\n",
       "      <td>69.0</td>\n",
       "      <td>7.1</td>\n",
       "      <td>tbd</td>\n",
       "      <td>40.24</td>\n",
       "    </tr>\n",
       "    <tr>\n",
       "      <th>2</th>\n",
       "      <td>Mario Kart Wii</td>\n",
       "      <td>Wii</td>\n",
       "      <td>2008</td>\n",
       "      <td>Racing</td>\n",
       "      <td>15.68</td>\n",
       "      <td>12.76</td>\n",
       "      <td>3.79</td>\n",
       "      <td>3.29</td>\n",
       "      <td>82.0</td>\n",
       "      <td>8.3</td>\n",
       "      <td>E</td>\n",
       "      <td>35.52</td>\n",
       "    </tr>\n",
       "    <tr>\n",
       "      <th>3</th>\n",
       "      <td>Wii Sports Resort</td>\n",
       "      <td>Wii</td>\n",
       "      <td>2009</td>\n",
       "      <td>Sports</td>\n",
       "      <td>15.61</td>\n",
       "      <td>10.93</td>\n",
       "      <td>3.28</td>\n",
       "      <td>2.95</td>\n",
       "      <td>80.0</td>\n",
       "      <td>8.0</td>\n",
       "      <td>E</td>\n",
       "      <td>32.77</td>\n",
       "    </tr>\n",
       "    <tr>\n",
       "      <th>4</th>\n",
       "      <td>Pokemon Red/Pokemon Blue</td>\n",
       "      <td>GB</td>\n",
       "      <td>1996</td>\n",
       "      <td>Role-Playing</td>\n",
       "      <td>11.27</td>\n",
       "      <td>8.89</td>\n",
       "      <td>10.22</td>\n",
       "      <td>1.00</td>\n",
       "      <td>69.0</td>\n",
       "      <td>7.1</td>\n",
       "      <td>tbd</td>\n",
       "      <td>31.38</td>\n",
       "    </tr>\n",
       "  </tbody>\n",
       "</table>\n",
       "</div>"
      ],
      "text/plain": [
       "                       name platform  year_of_release         genre  na_sales  \\\n",
       "0                Wii Sports      Wii             2006        Sports     41.36   \n",
       "1         Super Mario Bros.      NES             1985      Platform     29.08   \n",
       "2            Mario Kart Wii      Wii             2008        Racing     15.68   \n",
       "3         Wii Sports Resort      Wii             2009        Sports     15.61   \n",
       "4  Pokemon Red/Pokemon Blue       GB             1996  Role-Playing     11.27   \n",
       "\n",
       "   eu_sales  jp_sales  other_sales  critic_score  user_score rating  \\\n",
       "0     28.96      3.77         8.45          76.0         8.0      E   \n",
       "1      3.58      6.81         0.77          69.0         7.1    tbd   \n",
       "2     12.76      3.79         3.29          82.0         8.3      E   \n",
       "3     10.93      3.28         2.95          80.0         8.0      E   \n",
       "4      8.89     10.22         1.00          69.0         7.1    tbd   \n",
       "\n",
       "   total_sales  \n",
       "0        82.54  \n",
       "1        40.24  \n",
       "2        35.52  \n",
       "3        32.77  \n",
       "4        31.38  "
      ]
     },
     "execution_count": 24,
     "metadata": {},
     "output_type": "execute_result"
    }
   ],
   "source": [
    "# Crear una nueva columna con la suma de las ventas en todas las regiones\n",
    "df['total_sales'] = df[['na_sales','eu_sales','jp_sales','other_sales']].sum(axis = 1)\n",
    "df['total_sales'] = df['total_sales'].astype(float)\n",
    "# Mostrar la nueva columna\n",
    "df.head()"
   ]
  },
  {
   "cell_type": "code",
   "execution_count": 18,
   "metadata": {
    "trusted": true
   },
   "outputs": [
    {
     "data": {
      "text/html": [
       "<div>\n",
       "<style scoped>\n",
       "    .dataframe tbody tr th:only-of-type {\n",
       "        vertical-align: middle;\n",
       "    }\n",
       "\n",
       "    .dataframe tbody tr th {\n",
       "        vertical-align: top;\n",
       "    }\n",
       "\n",
       "    .dataframe thead th {\n",
       "        text-align: right;\n",
       "    }\n",
       "</style>\n",
       "<table border=\"1\" class=\"dataframe\">\n",
       "  <thead>\n",
       "    <tr style=\"text-align: right;\">\n",
       "      <th></th>\n",
       "      <th>name</th>\n",
       "      <th>platform</th>\n",
       "      <th>year_of_release</th>\n",
       "      <th>genre</th>\n",
       "      <th>na_sales</th>\n",
       "      <th>eu_sales</th>\n",
       "      <th>jp_sales</th>\n",
       "      <th>other_sales</th>\n",
       "      <th>critic_score</th>\n",
       "      <th>user_score</th>\n",
       "      <th>rating</th>\n",
       "      <th>total_sales</th>\n",
       "    </tr>\n",
       "  </thead>\n",
       "  <tbody>\n",
       "    <tr>\n",
       "      <th>16676</th>\n",
       "      <td>G1 Jockey 4 2008</td>\n",
       "      <td>PS3</td>\n",
       "      <td>2008</td>\n",
       "      <td>Sports</td>\n",
       "      <td>0.0</td>\n",
       "      <td>0.0</td>\n",
       "      <td>0.0</td>\n",
       "      <td>0.0</td>\n",
       "      <td>69.0</td>\n",
       "      <td>7.1</td>\n",
       "      <td>tbd</td>\n",
       "      <td>0.0</td>\n",
       "    </tr>\n",
       "    <tr>\n",
       "      <th>16709</th>\n",
       "      <td>SCORE International Baja 1000: The Official Game</td>\n",
       "      <td>PS2</td>\n",
       "      <td>2008</td>\n",
       "      <td>Racing</td>\n",
       "      <td>0.0</td>\n",
       "      <td>0.0</td>\n",
       "      <td>0.0</td>\n",
       "      <td>0.0</td>\n",
       "      <td>69.0</td>\n",
       "      <td>7.1</td>\n",
       "      <td>tbd</td>\n",
       "      <td>0.0</td>\n",
       "    </tr>\n",
       "  </tbody>\n",
       "</table>\n",
       "</div>"
      ],
      "text/plain": [
       "                                                   name platform  \\\n",
       "16676                                  G1 Jockey 4 2008      PS3   \n",
       "16709  SCORE International Baja 1000: The Official Game      PS2   \n",
       "\n",
       "       year_of_release   genre  na_sales  eu_sales  jp_sales  other_sales  \\\n",
       "16676             2008  Sports       0.0       0.0       0.0          0.0   \n",
       "16709             2008  Racing       0.0       0.0       0.0          0.0   \n",
       "\n",
       "       critic_score  user_score rating  total_sales  \n",
       "16676          69.0         7.1    tbd          0.0  \n",
       "16709          69.0         7.1    tbd          0.0  "
      ]
     },
     "metadata": {},
     "output_type": "display_data"
    },
    {
     "data": {
      "text/html": [
       "<div>\n",
       "<style scoped>\n",
       "    .dataframe tbody tr th:only-of-type {\n",
       "        vertical-align: middle;\n",
       "    }\n",
       "\n",
       "    .dataframe tbody tr th {\n",
       "        vertical-align: top;\n",
       "    }\n",
       "\n",
       "    .dataframe thead th {\n",
       "        text-align: right;\n",
       "    }\n",
       "</style>\n",
       "<table border=\"1\" class=\"dataframe\">\n",
       "  <thead>\n",
       "    <tr style=\"text-align: right;\">\n",
       "      <th></th>\n",
       "      <th>name</th>\n",
       "      <th>platform</th>\n",
       "      <th>year_of_release</th>\n",
       "      <th>genre</th>\n",
       "      <th>na_sales</th>\n",
       "      <th>eu_sales</th>\n",
       "      <th>jp_sales</th>\n",
       "      <th>other_sales</th>\n",
       "      <th>critic_score</th>\n",
       "      <th>user_score</th>\n",
       "      <th>rating</th>\n",
       "      <th>total_sales</th>\n",
       "    </tr>\n",
       "  </thead>\n",
       "  <tbody>\n",
       "  </tbody>\n",
       "</table>\n",
       "</div>"
      ],
      "text/plain": [
       "Empty DataFrame\n",
       "Columns: [name, platform, year_of_release, genre, na_sales, eu_sales, jp_sales, other_sales, critic_score, user_score, rating, total_sales]\n",
       "Index: []"
      ]
     },
     "metadata": {},
     "output_type": "display_data"
    }
   ],
   "source": [
    "# Eliminar Valor en el que las ventas son iguales a 0\n",
    "display(df[df['total_sales'] == 0])\n",
    "df['total_sales'] = df[df['total_sales'] != 0]\n",
    "display(df[df['total_sales'] == 0])"
   ]
  },
  {
   "cell_type": "markdown",
   "metadata": {},
   "source": [
    "## Análisis de datos"
   ]
  },
  {
   "cell_type": "markdown",
   "metadata": {},
   "source": [
    "### Juegos lanzados anualmente"
   ]
  },
  {
   "cell_type": "code",
   "execution_count": 19,
   "metadata": {
    "trusted": true
   },
   "outputs": [
    {
     "data": {
      "text/plain": [
       "1980       9\n",
       "1981      46\n",
       "1982      36\n",
       "1983      17\n",
       "1984      14\n",
       "1985      14\n",
       "1986      21\n",
       "1987      16\n",
       "1988      15\n",
       "1989      17\n",
       "1990      16\n",
       "1991      41\n",
       "1992      43\n",
       "1993      60\n",
       "1994     121\n",
       "1995     219\n",
       "1996     263\n",
       "1997     289\n",
       "1998     379\n",
       "1999     338\n",
       "2000     350\n",
       "2001     482\n",
       "2002     829\n",
       "2003     775\n",
       "2004     762\n",
       "2005     939\n",
       "2006    1006\n",
       "2007    1197\n",
       "2008    1427\n",
       "2009    1426\n",
       "2010    1255\n",
       "2011    1136\n",
       "2012     653\n",
       "2013     544\n",
       "2014     581\n",
       "2015     606\n",
       "2016     502\n",
       "Name: year_of_release, dtype: Int64"
      ]
     },
     "metadata": {},
     "output_type": "display_data"
    }
   ],
   "source": [
    "# Juegos lanzados anualmente\n",
    "games_per_year = df['year_of_release'].value_counts().sort_index()\n",
    "display(games_per_year)\n"
   ]
  },
  {
   "cell_type": "code",
   "execution_count": 20,
   "metadata": {
    "trusted": true
   },
   "outputs": [
    {
     "data": {
      "image/png": "[encoded data removed]",
      "text/plain": [
       "<Figure size 1200x600 with 1 Axes>"
      ]
     },
     "metadata": {},
     "output_type": "display_data"
    }
   ],
   "source": [
    "# Graficar la distribución\n",
    "plt.figure(figsize=(12, 6))\n",
    "sns.barplot(x=games_per_year.index, y=games_per_year.values)\n",
    "sns.set_style('darkgrid')\n",
    "plt.xlabel('Año de lanzamiento')\n",
    "plt.ylabel('Cantidad de juegos')\n",
    "plt.title('Número de juegos lanzados por año')\n",
    "plt.xticks(rotation=45)\n",
    "\n",
    "plt.show()\n"
   ]
  },
  {
   "cell_type": "code",
   "execution_count": 23,
   "metadata": {
    "trusted": true
   },
   "outputs": [
    {
     "name": "stdout",
     "output_type": "stream",
     "text": [
      "                                name platform  year_of_release         genre  \\\n",
      "0                         Wii Sports      Wii             2006        Sports   \n",
      "1                  Super Mario Bros.      NES             1985      Platform   \n",
      "2                     Mario Kart Wii      Wii             2008        Racing   \n",
      "3                  Wii Sports Resort      Wii             2009        Sports   \n",
      "4           Pokemon Red/Pokemon Blue       GB             1996  Role-Playing   \n",
      "...                              ...      ...              ...           ...   \n",
      "16710  Samurai Warriors: Sanada Maru      PS3             2016        Action   \n",
      "16711               LMA Manager 2007     X360             2006        Sports   \n",
      "16712        Haitaka no Psychedelica      PSV             2016     Adventure   \n",
      "16713               Spirits & Spells      GBA             2003      Platform   \n",
      "16714            Winning Post 8 2016      PSV             2016    Simulation   \n",
      "\n",
      "       na_sales  eu_sales  jp_sales  other_sales  critic_score  user_score  \\\n",
      "0         41.36     28.96      3.77         8.45          76.0         8.0   \n",
      "1         29.08      3.58      6.81         0.77          69.0         7.1   \n",
      "2         15.68     12.76      3.79         3.29          82.0         8.3   \n",
      "3         15.61     10.93      3.28         2.95          80.0         8.0   \n",
      "4         11.27      8.89     10.22         1.00          69.0         7.1   \n",
      "...         ...       ...       ...          ...           ...         ...   \n",
      "16710      0.00      0.00      0.01         0.00          69.0         7.1   \n",
      "16711      0.00      0.01      0.00         0.00          69.0         7.1   \n",
      "16712      0.00      0.00      0.01         0.00          69.0         7.1   \n",
      "16713      0.01      0.00      0.00         0.00          69.0         7.1   \n",
      "16714      0.00      0.00      0.01         0.00          69.0         7.1   \n",
      "\n",
      "      rating                    total_sales  \n",
      "0          E                     Wii Sports  \n",
      "1        tbd              Super Mario Bros.  \n",
      "2          E                 Mario Kart Wii  \n",
      "3          E              Wii Sports Resort  \n",
      "4        tbd       Pokemon Red/Pokemon Blue  \n",
      "...      ...                            ...  \n",
      "16710    tbd  Samurai Warriors: Sanada Maru  \n",
      "16711    tbd               LMA Manager 2007  \n",
      "16712    tbd        Haitaka no Psychedelica  \n",
      "16713    tbd               Spirits & Spells  \n",
      "16714    tbd            Winning Post 8 2016  \n",
      "\n",
      "[16711 rows x 12 columns]\n",
      "name                 object\n",
      "platform             object\n",
      "year_of_release       Int64\n",
      "genre              category\n",
      "na_sales            float64\n",
      "eu_sales            float64\n",
      "jp_sales            float64\n",
      "other_sales         float64\n",
      "critic_score        float64\n",
      "user_score          float64\n",
      "rating             category\n",
      "total_sales          object\n",
      "dtype: object\n"
     ]
    }
   ],
   "source": [
    "print(df[~df['total_sales'].apply(lambda x: isinstance(x, (int, float)))])\n",
    "print(df.dtypes)\n"
   ]
  },
  {
   "cell_type": "markdown",
   "metadata": {},
   "source": [
    "### Ventas por plataforma"
   ]
  },
  {
   "cell_type": "code",
   "execution_count": 25,
   "metadata": {
    "scrolled": false,
    "trusted": true
   },
   "outputs": [
    {
     "data": {
      "text/plain": [
       "platform\n",
       "PS2     1255.77\n",
       "X360     971.42\n",
       "PS3      939.65\n",
       "Wii      907.51\n",
       "DS       806.12\n",
       "PS       730.86\n",
       "GBA      317.85\n",
       "PS4      314.14\n",
       "PSP      294.05\n",
       "PC       259.52\n",
       "3DS      259.00\n",
       "XB       257.74\n",
       "GB       255.46\n",
       "NES      251.05\n",
       "N64      218.68\n",
       "SNES     200.04\n",
       "GC       198.93\n",
       "XOne     159.32\n",
       "2600      96.98\n",
       "WiiU      82.19\n",
       "PSV       54.07\n",
       "SAT       33.59\n",
       "GEN       28.35\n",
       "DC        15.95\n",
       "SCD        1.86\n",
       "NG         1.44\n",
       "WS         1.42\n",
       "TG16       0.16\n",
       "3DO        0.10\n",
       "GG         0.04\n",
       "PCFX       0.03\n",
       "Name: total_sales, dtype: float64"
      ]
     },
     "metadata": {},
     "output_type": "display_data"
    },
    {
     "data": {
      "text/html": [
       "<div>\n",
       "<style scoped>\n",
       "    .dataframe tbody tr th:only-of-type {\n",
       "        vertical-align: middle;\n",
       "    }\n",
       "\n",
       "    .dataframe tbody tr th {\n",
       "        vertical-align: top;\n",
       "    }\n",
       "\n",
       "    .dataframe thead th {\n",
       "        text-align: right;\n",
       "    }\n",
       "</style>\n",
       "<table border=\"1\" class=\"dataframe\">\n",
       "  <thead>\n",
       "    <tr style=\"text-align: right;\">\n",
       "      <th></th>\n",
       "      <th>platform</th>\n",
       "      <th>total_sales</th>\n",
       "    </tr>\n",
       "  </thead>\n",
       "  <tbody>\n",
       "    <tr>\n",
       "      <th>0</th>\n",
       "      <td>PS2</td>\n",
       "      <td>1255.77</td>\n",
       "    </tr>\n",
       "    <tr>\n",
       "      <th>1</th>\n",
       "      <td>X360</td>\n",
       "      <td>971.42</td>\n",
       "    </tr>\n",
       "    <tr>\n",
       "      <th>2</th>\n",
       "      <td>PS3</td>\n",
       "      <td>939.65</td>\n",
       "    </tr>\n",
       "    <tr>\n",
       "      <th>3</th>\n",
       "      <td>Wii</td>\n",
       "      <td>907.51</td>\n",
       "    </tr>\n",
       "    <tr>\n",
       "      <th>4</th>\n",
       "      <td>DS</td>\n",
       "      <td>806.12</td>\n",
       "    </tr>\n",
       "  </tbody>\n",
       "</table>\n",
       "</div>"
      ],
      "text/plain": [
       "  platform  total_sales\n",
       "0      PS2      1255.77\n",
       "1     X360       971.42\n",
       "2      PS3       939.65\n",
       "3      Wii       907.51\n",
       "4       DS       806.12"
      ]
     },
     "metadata": {},
     "output_type": "display_data"
    }
   ],
   "source": [
    "# Mustra de las ventas totales basadas en la plataforma\n",
    "platform_sales = df.groupby('platform')['total_sales'].sum().sort_values(ascending = False)\n",
    "display(platform_sales)\n",
    "                    \n",
    "# Muestra de las 5 plataformas con más ventas\n",
    "top_five_sales = platform_sales.nlargest(5).reset_index()\n",
    "display(top_five_sales)"
   ]
  },
  {
   "cell_type": "code",
   "execution_count": 27,
   "metadata": {
    "trusted": true
   },
   "outputs": [
    {
     "data": {
      "text/html": [
       "<div>\n",
       "<style scoped>\n",
       "    .dataframe tbody tr th:only-of-type {\n",
       "        vertical-align: middle;\n",
       "    }\n",
       "\n",
       "    .dataframe tbody tr th {\n",
       "        vertical-align: top;\n",
       "    }\n",
       "\n",
       "    .dataframe thead th {\n",
       "        text-align: right;\n",
       "    }\n",
       "</style>\n",
       "<table border=\"1\" class=\"dataframe\">\n",
       "  <thead>\n",
       "    <tr style=\"text-align: right;\">\n",
       "      <th></th>\n",
       "      <th>name</th>\n",
       "      <th>platform</th>\n",
       "      <th>year_of_release</th>\n",
       "      <th>genre</th>\n",
       "      <th>na_sales</th>\n",
       "      <th>eu_sales</th>\n",
       "      <th>jp_sales</th>\n",
       "      <th>other_sales</th>\n",
       "      <th>critic_score</th>\n",
       "      <th>user_score</th>\n",
       "      <th>rating</th>\n",
       "      <th>total_sales</th>\n",
       "    </tr>\n",
       "  </thead>\n",
       "  <tbody>\n",
       "    <tr>\n",
       "      <th>15957</th>\n",
       "      <td>Strongest Tokyo University Shogi DS</td>\n",
       "      <td>DS</td>\n",
       "      <td>1985</td>\n",
       "      <td>Action</td>\n",
       "      <td>0.0</td>\n",
       "      <td>0.0</td>\n",
       "      <td>0.02</td>\n",
       "      <td>0.0</td>\n",
       "      <td>69.0</td>\n",
       "      <td>7.1</td>\n",
       "      <td>tbd</td>\n",
       "      <td>0.02</td>\n",
       "    </tr>\n",
       "  </tbody>\n",
       "</table>\n",
       "</div>"
      ],
      "text/plain": [
       "                                      name platform  year_of_release   genre  \\\n",
       "15957  Strongest Tokyo University Shogi DS       DS             1985  Action   \n",
       "\n",
       "       na_sales  eu_sales  jp_sales  other_sales  critic_score  user_score  \\\n",
       "15957       0.0       0.0      0.02          0.0          69.0         7.1   \n",
       "\n",
       "      rating  total_sales  \n",
       "15957    tbd         0.02  "
      ]
     },
     "metadata": {},
     "output_type": "display_data"
    },
    {
     "data": {
      "text/html": [
       "<div>\n",
       "<style scoped>\n",
       "    .dataframe tbody tr th:only-of-type {\n",
       "        vertical-align: middle;\n",
       "    }\n",
       "\n",
       "    .dataframe tbody tr th {\n",
       "        vertical-align: top;\n",
       "    }\n",
       "\n",
       "    .dataframe thead th {\n",
       "        text-align: right;\n",
       "    }\n",
       "</style>\n",
       "<table border=\"1\" class=\"dataframe\">\n",
       "  <thead>\n",
       "    <tr style=\"text-align: right;\">\n",
       "      <th></th>\n",
       "      <th>name</th>\n",
       "      <th>platform</th>\n",
       "      <th>year_of_release</th>\n",
       "      <th>genre</th>\n",
       "      <th>na_sales</th>\n",
       "      <th>eu_sales</th>\n",
       "      <th>jp_sales</th>\n",
       "      <th>other_sales</th>\n",
       "      <th>critic_score</th>\n",
       "      <th>user_score</th>\n",
       "      <th>rating</th>\n",
       "      <th>total_sales</th>\n",
       "    </tr>\n",
       "  </thead>\n",
       "  <tbody>\n",
       "    <tr>\n",
       "      <th>0</th>\n",
       "      <td>Wii Sports</td>\n",
       "      <td>Wii</td>\n",
       "      <td>2006</td>\n",
       "      <td>Sports</td>\n",
       "      <td>41.36</td>\n",
       "      <td>28.96</td>\n",
       "      <td>3.77</td>\n",
       "      <td>8.45</td>\n",
       "      <td>76.0</td>\n",
       "      <td>8.0</td>\n",
       "      <td>E</td>\n",
       "      <td>82.54</td>\n",
       "    </tr>\n",
       "    <tr>\n",
       "      <th>2</th>\n",
       "      <td>Mario Kart Wii</td>\n",
       "      <td>Wii</td>\n",
       "      <td>2008</td>\n",
       "      <td>Racing</td>\n",
       "      <td>15.68</td>\n",
       "      <td>12.76</td>\n",
       "      <td>3.79</td>\n",
       "      <td>3.29</td>\n",
       "      <td>82.0</td>\n",
       "      <td>8.3</td>\n",
       "      <td>E</td>\n",
       "      <td>35.52</td>\n",
       "    </tr>\n",
       "    <tr>\n",
       "      <th>3</th>\n",
       "      <td>Wii Sports Resort</td>\n",
       "      <td>Wii</td>\n",
       "      <td>2009</td>\n",
       "      <td>Sports</td>\n",
       "      <td>15.61</td>\n",
       "      <td>10.93</td>\n",
       "      <td>3.28</td>\n",
       "      <td>2.95</td>\n",
       "      <td>80.0</td>\n",
       "      <td>8.0</td>\n",
       "      <td>E</td>\n",
       "      <td>32.77</td>\n",
       "    </tr>\n",
       "    <tr>\n",
       "      <th>6</th>\n",
       "      <td>New Super Mario Bros.</td>\n",
       "      <td>DS</td>\n",
       "      <td>2006</td>\n",
       "      <td>Platform</td>\n",
       "      <td>11.28</td>\n",
       "      <td>9.14</td>\n",
       "      <td>6.50</td>\n",
       "      <td>2.88</td>\n",
       "      <td>89.0</td>\n",
       "      <td>8.5</td>\n",
       "      <td>E</td>\n",
       "      <td>29.80</td>\n",
       "    </tr>\n",
       "    <tr>\n",
       "      <th>7</th>\n",
       "      <td>Wii Play</td>\n",
       "      <td>Wii</td>\n",
       "      <td>2006</td>\n",
       "      <td>Misc</td>\n",
       "      <td>13.96</td>\n",
       "      <td>9.18</td>\n",
       "      <td>2.93</td>\n",
       "      <td>2.84</td>\n",
       "      <td>58.0</td>\n",
       "      <td>6.6</td>\n",
       "      <td>E</td>\n",
       "      <td>28.91</td>\n",
       "    </tr>\n",
       "    <tr>\n",
       "      <th>...</th>\n",
       "      <td>...</td>\n",
       "      <td>...</td>\n",
       "      <td>...</td>\n",
       "      <td>...</td>\n",
       "      <td>...</td>\n",
       "      <td>...</td>\n",
       "      <td>...</td>\n",
       "      <td>...</td>\n",
       "      <td>...</td>\n",
       "      <td>...</td>\n",
       "      <td>...</td>\n",
       "      <td>...</td>\n",
       "    </tr>\n",
       "    <tr>\n",
       "      <th>16700</th>\n",
       "      <td>Mezase!! Tsuri Master DS</td>\n",
       "      <td>DS</td>\n",
       "      <td>2009</td>\n",
       "      <td>Sports</td>\n",
       "      <td>0.00</td>\n",
       "      <td>0.00</td>\n",
       "      <td>0.01</td>\n",
       "      <td>0.00</td>\n",
       "      <td>69.0</td>\n",
       "      <td>7.1</td>\n",
       "      <td>tbd</td>\n",
       "      <td>0.01</td>\n",
       "    </tr>\n",
       "    <tr>\n",
       "      <th>16704</th>\n",
       "      <td>Plushees</td>\n",
       "      <td>DS</td>\n",
       "      <td>2008</td>\n",
       "      <td>Simulation</td>\n",
       "      <td>0.01</td>\n",
       "      <td>0.00</td>\n",
       "      <td>0.00</td>\n",
       "      <td>0.00</td>\n",
       "      <td>69.0</td>\n",
       "      <td>7.1</td>\n",
       "      <td>E</td>\n",
       "      <td>0.01</td>\n",
       "    </tr>\n",
       "    <tr>\n",
       "      <th>16709</th>\n",
       "      <td>SCORE International Baja 1000: The Official Game</td>\n",
       "      <td>PS2</td>\n",
       "      <td>2008</td>\n",
       "      <td>Racing</td>\n",
       "      <td>0.00</td>\n",
       "      <td>0.00</td>\n",
       "      <td>0.00</td>\n",
       "      <td>0.00</td>\n",
       "      <td>69.0</td>\n",
       "      <td>7.1</td>\n",
       "      <td>tbd</td>\n",
       "      <td>0.00</td>\n",
       "    </tr>\n",
       "    <tr>\n",
       "      <th>16710</th>\n",
       "      <td>Samurai Warriors: Sanada Maru</td>\n",
       "      <td>PS3</td>\n",
       "      <td>2016</td>\n",
       "      <td>Action</td>\n",
       "      <td>0.00</td>\n",
       "      <td>0.00</td>\n",
       "      <td>0.01</td>\n",
       "      <td>0.00</td>\n",
       "      <td>69.0</td>\n",
       "      <td>7.1</td>\n",
       "      <td>tbd</td>\n",
       "      <td>0.01</td>\n",
       "    </tr>\n",
       "    <tr>\n",
       "      <th>16711</th>\n",
       "      <td>LMA Manager 2007</td>\n",
       "      <td>X360</td>\n",
       "      <td>2006</td>\n",
       "      <td>Sports</td>\n",
       "      <td>0.00</td>\n",
       "      <td>0.01</td>\n",
       "      <td>0.00</td>\n",
       "      <td>0.00</td>\n",
       "      <td>69.0</td>\n",
       "      <td>7.1</td>\n",
       "      <td>tbd</td>\n",
       "      <td>0.01</td>\n",
       "    </tr>\n",
       "  </tbody>\n",
       "</table>\n",
       "<p>8071 rows × 12 columns</p>\n",
       "</div>"
      ],
      "text/plain": [
       "                                                   name platform  \\\n",
       "0                                            Wii Sports      Wii   \n",
       "2                                        Mario Kart Wii      Wii   \n",
       "3                                     Wii Sports Resort      Wii   \n",
       "6                                 New Super Mario Bros.       DS   \n",
       "7                                              Wii Play      Wii   \n",
       "...                                                 ...      ...   \n",
       "16700                          Mezase!! Tsuri Master DS       DS   \n",
       "16704                                          Plushees       DS   \n",
       "16709  SCORE International Baja 1000: The Official Game      PS2   \n",
       "16710                     Samurai Warriors: Sanada Maru      PS3   \n",
       "16711                                  LMA Manager 2007     X360   \n",
       "\n",
       "       year_of_release       genre  na_sales  eu_sales  jp_sales  other_sales  \\\n",
       "0                 2006      Sports     41.36     28.96      3.77         8.45   \n",
       "2                 2008      Racing     15.68     12.76      3.79         3.29   \n",
       "3                 2009      Sports     15.61     10.93      3.28         2.95   \n",
       "6                 2006    Platform     11.28      9.14      6.50         2.88   \n",
       "7                 2006        Misc     13.96      9.18      2.93         2.84   \n",
       "...                ...         ...       ...       ...       ...          ...   \n",
       "16700             2009      Sports      0.00      0.00      0.01         0.00   \n",
       "16704             2008  Simulation      0.01      0.00      0.00         0.00   \n",
       "16709             2008      Racing      0.00      0.00      0.00         0.00   \n",
       "16710             2016      Action      0.00      0.00      0.01         0.00   \n",
       "16711             2006      Sports      0.00      0.01      0.00         0.00   \n",
       "\n",
       "       critic_score  user_score rating  total_sales  \n",
       "0              76.0         8.0      E        82.54  \n",
       "2              82.0         8.3      E        35.52  \n",
       "3              80.0         8.0      E        32.77  \n",
       "6              89.0         8.5      E        29.80  \n",
       "7              58.0         6.6      E        28.91  \n",
       "...             ...         ...    ...          ...  \n",
       "16700          69.0         7.1    tbd         0.01  \n",
       "16704          69.0         7.1      E         0.01  \n",
       "16709          69.0         7.1    tbd         0.00  \n",
       "16710          69.0         7.1    tbd         0.01  \n",
       "16711          69.0         7.1    tbd         0.01  \n",
       "\n",
       "[8071 rows x 12 columns]"
      ]
     },
     "metadata": {},
     "output_type": "display_data"
    }
   ],
   "source": [
    "# Extraer los nombres de las 5 plataformas más vendidas\n",
    "top_five_platforms = top_five_sales['platform'].tolist()\n",
    "\n",
    "# Filtrar el DataFrame original para incluir solo esas plataformas\n",
    "df_top = df[df['platform'].isin(top_five_platforms)].copy()\n",
    "\n",
    "# Identificar y eliminar valor atipico que nos estorba para el análisis\n",
    "display(df_top[df_top['year_of_release']== 1985])\n",
    "df_top = df_top[df_top['year_of_release'] != 1985]\n",
    "\n",
    "# Mostrar\n",
    "display(df_top)\n"
   ]
  },
  {
   "cell_type": "code",
   "execution_count": 35,
   "metadata": {
    "trusted": true
   },
   "outputs": [
    {
     "data": {
      "image/png": "[encoded data removed]",
      "text/plain": [
       "<Figure size 1200x600 with 1 Axes>"
      ]
     },
     "metadata": {},
     "output_type": "display_data"
    }
   ],
   "source": [
    "df_top['year_of_release'] = df_top['year_of_release'].astype('int64')\n",
    "\n",
    "# Estilo\n",
    "sns.set_style(\"darkgrid\")\n",
    "\n",
    "# Crear la figura\n",
    "plt.figure(figsize=(12,6))\n",
    "\n",
    "# Graficar las ventas por año y plataforma\n",
    "sns.lineplot(data=df_top, x='year_of_release', y='total_sales', hue='platform', marker='o')\n",
    "\n",
    "# Personalizar la gráfica\n",
    "plt.title(\"Evolución de ventas en las plataformas más populares\")\n",
    "plt.xlabel(\"Año de Lanzamiento\")\n",
    "plt.ylabel(\"Ventas Globales (millones)\")\n",
    "plt.legend(title=\"Plataformas\", loc=\"upper right\")\n",
    "plt.grid(True)\n",
    "\n",
    "# Mostrar la gráfica\n",
    "plt.show()"
   ]
  },
  {
   "cell_type": "markdown",
   "metadata": {},
   "source": [
    "Podemos observar que las ventas de la plataforma Wii rompieron el estándar en el año de su lanzamiento, generando ventas que no se habían visto. También se puede observar que las plataformas tienen ventas estables en promedio durante 10 años hasta que se renuevan"
   ]
  },
  {
   "cell_type": "markdown",
   "metadata": {},
   "source": [
    "### Trabajando con un periodo de 10 años"
   ]
  },
  {
   "cell_type": "code",
   "execution_count": 36,
   "metadata": {
    "trusted": true
   },
   "outputs": [
    {
     "data": {
      "text/html": [
       "<div>\n",
       "<style scoped>\n",
       "    .dataframe tbody tr th:only-of-type {\n",
       "        vertical-align: middle;\n",
       "    }\n",
       "\n",
       "    .dataframe tbody tr th {\n",
       "        vertical-align: top;\n",
       "    }\n",
       "\n",
       "    .dataframe thead th {\n",
       "        text-align: right;\n",
       "    }\n",
       "</style>\n",
       "<table border=\"1\" class=\"dataframe\">\n",
       "  <thead>\n",
       "    <tr style=\"text-align: right;\">\n",
       "      <th></th>\n",
       "      <th>name</th>\n",
       "      <th>platform</th>\n",
       "      <th>year_of_release</th>\n",
       "      <th>genre</th>\n",
       "      <th>na_sales</th>\n",
       "      <th>eu_sales</th>\n",
       "      <th>jp_sales</th>\n",
       "      <th>other_sales</th>\n",
       "      <th>critic_score</th>\n",
       "      <th>user_score</th>\n",
       "      <th>rating</th>\n",
       "      <th>total_sales</th>\n",
       "    </tr>\n",
       "  </thead>\n",
       "  <tbody>\n",
       "    <tr>\n",
       "      <th>0</th>\n",
       "      <td>Wii Sports</td>\n",
       "      <td>Wii</td>\n",
       "      <td>2006</td>\n",
       "      <td>Sports</td>\n",
       "      <td>41.36</td>\n",
       "      <td>28.96</td>\n",
       "      <td>3.77</td>\n",
       "      <td>8.45</td>\n",
       "      <td>76.0</td>\n",
       "      <td>8.0</td>\n",
       "      <td>E</td>\n",
       "      <td>82.54</td>\n",
       "    </tr>\n",
       "    <tr>\n",
       "      <th>2</th>\n",
       "      <td>Mario Kart Wii</td>\n",
       "      <td>Wii</td>\n",
       "      <td>2008</td>\n",
       "      <td>Racing</td>\n",
       "      <td>15.68</td>\n",
       "      <td>12.76</td>\n",
       "      <td>3.79</td>\n",
       "      <td>3.29</td>\n",
       "      <td>82.0</td>\n",
       "      <td>8.3</td>\n",
       "      <td>E</td>\n",
       "      <td>35.52</td>\n",
       "    </tr>\n",
       "    <tr>\n",
       "      <th>3</th>\n",
       "      <td>Wii Sports Resort</td>\n",
       "      <td>Wii</td>\n",
       "      <td>2009</td>\n",
       "      <td>Sports</td>\n",
       "      <td>15.61</td>\n",
       "      <td>10.93</td>\n",
       "      <td>3.28</td>\n",
       "      <td>2.95</td>\n",
       "      <td>80.0</td>\n",
       "      <td>8.0</td>\n",
       "      <td>E</td>\n",
       "      <td>32.77</td>\n",
       "    </tr>\n",
       "    <tr>\n",
       "      <th>6</th>\n",
       "      <td>New Super Mario Bros.</td>\n",
       "      <td>DS</td>\n",
       "      <td>2006</td>\n",
       "      <td>Platform</td>\n",
       "      <td>11.28</td>\n",
       "      <td>9.14</td>\n",
       "      <td>6.50</td>\n",
       "      <td>2.88</td>\n",
       "      <td>89.0</td>\n",
       "      <td>8.5</td>\n",
       "      <td>E</td>\n",
       "      <td>29.80</td>\n",
       "    </tr>\n",
       "    <tr>\n",
       "      <th>7</th>\n",
       "      <td>Wii Play</td>\n",
       "      <td>Wii</td>\n",
       "      <td>2006</td>\n",
       "      <td>Misc</td>\n",
       "      <td>13.96</td>\n",
       "      <td>9.18</td>\n",
       "      <td>2.93</td>\n",
       "      <td>2.84</td>\n",
       "      <td>58.0</td>\n",
       "      <td>6.6</td>\n",
       "      <td>E</td>\n",
       "      <td>28.91</td>\n",
       "    </tr>\n",
       "    <tr>\n",
       "      <th>...</th>\n",
       "      <td>...</td>\n",
       "      <td>...</td>\n",
       "      <td>...</td>\n",
       "      <td>...</td>\n",
       "      <td>...</td>\n",
       "      <td>...</td>\n",
       "      <td>...</td>\n",
       "      <td>...</td>\n",
       "      <td>...</td>\n",
       "      <td>...</td>\n",
       "      <td>...</td>\n",
       "      <td>...</td>\n",
       "    </tr>\n",
       "    <tr>\n",
       "      <th>16709</th>\n",
       "      <td>SCORE International Baja 1000: The Official Game</td>\n",
       "      <td>PS2</td>\n",
       "      <td>2008</td>\n",
       "      <td>Racing</td>\n",
       "      <td>0.00</td>\n",
       "      <td>0.00</td>\n",
       "      <td>0.00</td>\n",
       "      <td>0.00</td>\n",
       "      <td>69.0</td>\n",
       "      <td>7.1</td>\n",
       "      <td>tbd</td>\n",
       "      <td>0.00</td>\n",
       "    </tr>\n",
       "    <tr>\n",
       "      <th>16710</th>\n",
       "      <td>Samurai Warriors: Sanada Maru</td>\n",
       "      <td>PS3</td>\n",
       "      <td>2016</td>\n",
       "      <td>Action</td>\n",
       "      <td>0.00</td>\n",
       "      <td>0.00</td>\n",
       "      <td>0.01</td>\n",
       "      <td>0.00</td>\n",
       "      <td>69.0</td>\n",
       "      <td>7.1</td>\n",
       "      <td>tbd</td>\n",
       "      <td>0.01</td>\n",
       "    </tr>\n",
       "    <tr>\n",
       "      <th>16711</th>\n",
       "      <td>LMA Manager 2007</td>\n",
       "      <td>X360</td>\n",
       "      <td>2006</td>\n",
       "      <td>Sports</td>\n",
       "      <td>0.00</td>\n",
       "      <td>0.01</td>\n",
       "      <td>0.00</td>\n",
       "      <td>0.00</td>\n",
       "      <td>69.0</td>\n",
       "      <td>7.1</td>\n",
       "      <td>tbd</td>\n",
       "      <td>0.01</td>\n",
       "    </tr>\n",
       "    <tr>\n",
       "      <th>16712</th>\n",
       "      <td>Haitaka no Psychedelica</td>\n",
       "      <td>PSV</td>\n",
       "      <td>2016</td>\n",
       "      <td>Adventure</td>\n",
       "      <td>0.00</td>\n",
       "      <td>0.00</td>\n",
       "      <td>0.01</td>\n",
       "      <td>0.00</td>\n",
       "      <td>69.0</td>\n",
       "      <td>7.1</td>\n",
       "      <td>tbd</td>\n",
       "      <td>0.01</td>\n",
       "    </tr>\n",
       "    <tr>\n",
       "      <th>16714</th>\n",
       "      <td>Winning Post 8 2016</td>\n",
       "      <td>PSV</td>\n",
       "      <td>2016</td>\n",
       "      <td>Simulation</td>\n",
       "      <td>0.00</td>\n",
       "      <td>0.00</td>\n",
       "      <td>0.01</td>\n",
       "      <td>0.00</td>\n",
       "      <td>69.0</td>\n",
       "      <td>7.1</td>\n",
       "      <td>tbd</td>\n",
       "      <td>0.01</td>\n",
       "    </tr>\n",
       "  </tbody>\n",
       "</table>\n",
       "<p>10333 rows × 12 columns</p>\n",
       "</div>"
      ],
      "text/plain": [
       "                                                   name platform  \\\n",
       "0                                            Wii Sports      Wii   \n",
       "2                                        Mario Kart Wii      Wii   \n",
       "3                                     Wii Sports Resort      Wii   \n",
       "6                                 New Super Mario Bros.       DS   \n",
       "7                                              Wii Play      Wii   \n",
       "...                                                 ...      ...   \n",
       "16709  SCORE International Baja 1000: The Official Game      PS2   \n",
       "16710                     Samurai Warriors: Sanada Maru      PS3   \n",
       "16711                                  LMA Manager 2007     X360   \n",
       "16712                           Haitaka no Psychedelica      PSV   \n",
       "16714                               Winning Post 8 2016      PSV   \n",
       "\n",
       "       year_of_release       genre  na_sales  eu_sales  jp_sales  other_sales  \\\n",
       "0                 2006      Sports     41.36     28.96      3.77         8.45   \n",
       "2                 2008      Racing     15.68     12.76      3.79         3.29   \n",
       "3                 2009      Sports     15.61     10.93      3.28         2.95   \n",
       "6                 2006    Platform     11.28      9.14      6.50         2.88   \n",
       "7                 2006        Misc     13.96      9.18      2.93         2.84   \n",
       "...                ...         ...       ...       ...       ...          ...   \n",
       "16709             2008      Racing      0.00      0.00      0.00         0.00   \n",
       "16710             2016      Action      0.00      0.00      0.01         0.00   \n",
       "16711             2006      Sports      0.00      0.01      0.00         0.00   \n",
       "16712             2016   Adventure      0.00      0.00      0.01         0.00   \n",
       "16714             2016  Simulation      0.00      0.00      0.01         0.00   \n",
       "\n",
       "       critic_score  user_score rating  total_sales  \n",
       "0              76.0         8.0      E        82.54  \n",
       "2              82.0         8.3      E        35.52  \n",
       "3              80.0         8.0      E        32.77  \n",
       "6              89.0         8.5      E        29.80  \n",
       "7              58.0         6.6      E        28.91  \n",
       "...             ...         ...    ...          ...  \n",
       "16709          69.0         7.1    tbd         0.00  \n",
       "16710          69.0         7.1    tbd         0.01  \n",
       "16711          69.0         7.1    tbd         0.01  \n",
       "16712          69.0         7.1    tbd         0.01  \n",
       "16714          69.0         7.1    tbd         0.01  \n",
       "\n",
       "[10333 rows x 12 columns]"
      ]
     },
     "metadata": {},
     "output_type": "display_data"
    }
   ],
   "source": [
    "# Con base a la información obtenida se decide trabajar con los datos de los ultimos 10 años para analizar las tendencias\n",
    "last_10_years = df[df['year_of_release'] >= 2006]\n",
    "display(last_10_years)\n"
   ]
  },
  {
   "cell_type": "markdown",
   "metadata": {},
   "source": [
    "### Eligiendo las plataformas con mayor potencial "
   ]
  },
  {
   "cell_type": "code",
   "execution_count": 37,
   "metadata": {
    "trusted": true
   },
   "outputs": [
    {
     "data": {
      "text/html": [
       "<div>\n",
       "<style scoped>\n",
       "    .dataframe tbody tr th:only-of-type {\n",
       "        vertical-align: middle;\n",
       "    }\n",
       "\n",
       "    .dataframe tbody tr th {\n",
       "        vertical-align: top;\n",
       "    }\n",
       "\n",
       "    .dataframe thead th {\n",
       "        text-align: right;\n",
       "    }\n",
       "</style>\n",
       "<table border=\"1\" class=\"dataframe\">\n",
       "  <thead>\n",
       "    <tr style=\"text-align: right;\">\n",
       "      <th></th>\n",
       "      <th>platform</th>\n",
       "      <th>total_sales</th>\n",
       "    </tr>\n",
       "  </thead>\n",
       "  <tbody>\n",
       "    <tr>\n",
       "      <th>0</th>\n",
       "      <td>X360</td>\n",
       "      <td>952.99</td>\n",
       "    </tr>\n",
       "    <tr>\n",
       "      <th>1</th>\n",
       "      <td>PS3</td>\n",
       "      <td>931.34</td>\n",
       "    </tr>\n",
       "    <tr>\n",
       "      <th>2</th>\n",
       "      <td>Wii</td>\n",
       "      <td>891.18</td>\n",
       "    </tr>\n",
       "    <tr>\n",
       "      <th>3</th>\n",
       "      <td>DS</td>\n",
       "      <td>655.35</td>\n",
       "    </tr>\n",
       "    <tr>\n",
       "      <th>4</th>\n",
       "      <td>PS4</td>\n",
       "      <td>314.14</td>\n",
       "    </tr>\n",
       "    <tr>\n",
       "      <th>5</th>\n",
       "      <td>PS2</td>\n",
       "      <td>265.80</td>\n",
       "    </tr>\n",
       "    <tr>\n",
       "      <th>6</th>\n",
       "      <td>3DS</td>\n",
       "      <td>257.81</td>\n",
       "    </tr>\n",
       "    <tr>\n",
       "      <th>7</th>\n",
       "      <td>PSP</td>\n",
       "      <td>238.63</td>\n",
       "    </tr>\n",
       "    <tr>\n",
       "      <th>8</th>\n",
       "      <td>PC</td>\n",
       "      <td>163.42</td>\n",
       "    </tr>\n",
       "    <tr>\n",
       "      <th>9</th>\n",
       "      <td>XOne</td>\n",
       "      <td>159.32</td>\n",
       "    </tr>\n",
       "    <tr>\n",
       "      <th>10</th>\n",
       "      <td>WiiU</td>\n",
       "      <td>82.19</td>\n",
       "    </tr>\n",
       "    <tr>\n",
       "      <th>11</th>\n",
       "      <td>PSV</td>\n",
       "      <td>53.81</td>\n",
       "    </tr>\n",
       "    <tr>\n",
       "      <th>12</th>\n",
       "      <td>GC</td>\n",
       "      <td>11.53</td>\n",
       "    </tr>\n",
       "    <tr>\n",
       "      <th>13</th>\n",
       "      <td>XB</td>\n",
       "      <td>10.77</td>\n",
       "    </tr>\n",
       "    <tr>\n",
       "      <th>14</th>\n",
       "      <td>GBA</td>\n",
       "      <td>8.68</td>\n",
       "    </tr>\n",
       "    <tr>\n",
       "      <th>15</th>\n",
       "      <td>DC</td>\n",
       "      <td>0.06</td>\n",
       "    </tr>\n",
       "  </tbody>\n",
       "</table>\n",
       "</div>"
      ],
      "text/plain": [
       "   platform  total_sales\n",
       "0      X360       952.99\n",
       "1       PS3       931.34\n",
       "2       Wii       891.18\n",
       "3        DS       655.35\n",
       "4       PS4       314.14\n",
       "5       PS2       265.80\n",
       "6       3DS       257.81\n",
       "7       PSP       238.63\n",
       "8        PC       163.42\n",
       "9      XOne       159.32\n",
       "10     WiiU        82.19\n",
       "11      PSV        53.81\n",
       "12       GC        11.53\n",
       "13       XB        10.77\n",
       "14      GBA         8.68\n",
       "15       DC         0.06"
      ]
     },
     "metadata": {},
     "output_type": "display_data"
    }
   ],
   "source": [
    "# Calcular las plataformas con más ventas\n",
    "top_platform_sales = last_10_years.groupby('platform', observed=True)['total_sales'].sum().sort_values(ascending = False).reset_index()\n",
    "display(top_platform_sales)"
   ]
  },
  {
   "cell_type": "code",
   "execution_count": 38,
   "metadata": {
    "trusted": true
   },
   "outputs": [
    {
     "data": {
      "text/html": [
       "<div>\n",
       "<style scoped>\n",
       "    .dataframe tbody tr th:only-of-type {\n",
       "        vertical-align: middle;\n",
       "    }\n",
       "\n",
       "    .dataframe tbody tr th {\n",
       "        vertical-align: top;\n",
       "    }\n",
       "\n",
       "    .dataframe thead th {\n",
       "        text-align: right;\n",
       "    }\n",
       "</style>\n",
       "<table border=\"1\" class=\"dataframe\">\n",
       "  <thead>\n",
       "    <tr style=\"text-align: right;\">\n",
       "      <th>platform</th>\n",
       "      <th>3DS</th>\n",
       "      <th>DC</th>\n",
       "      <th>DS</th>\n",
       "      <th>GBA</th>\n",
       "      <th>GC</th>\n",
       "      <th>PC</th>\n",
       "      <th>PS2</th>\n",
       "      <th>PS3</th>\n",
       "      <th>PS4</th>\n",
       "      <th>PSP</th>\n",
       "      <th>PSV</th>\n",
       "      <th>Wii</th>\n",
       "      <th>WiiU</th>\n",
       "      <th>X360</th>\n",
       "      <th>XB</th>\n",
       "      <th>XOne</th>\n",
       "    </tr>\n",
       "    <tr>\n",
       "      <th>year_of_release</th>\n",
       "      <th></th>\n",
       "      <th></th>\n",
       "      <th></th>\n",
       "      <th></th>\n",
       "      <th></th>\n",
       "      <th></th>\n",
       "      <th></th>\n",
       "      <th></th>\n",
       "      <th></th>\n",
       "      <th></th>\n",
       "      <th></th>\n",
       "      <th></th>\n",
       "      <th></th>\n",
       "      <th></th>\n",
       "      <th></th>\n",
       "      <th></th>\n",
       "    </tr>\n",
       "  </thead>\n",
       "  <tbody>\n",
       "    <tr>\n",
       "      <th>2006</th>\n",
       "      <td>NaN</td>\n",
       "      <td>NaN</td>\n",
       "      <td>119.81</td>\n",
       "      <td>5.28</td>\n",
       "      <td>11.26</td>\n",
       "      <td>2.85</td>\n",
       "      <td>103.42</td>\n",
       "      <td>20.96</td>\n",
       "      <td>NaN</td>\n",
       "      <td>55.32</td>\n",
       "      <td>NaN</td>\n",
       "      <td>137.15</td>\n",
       "      <td>NaN</td>\n",
       "      <td>51.62</td>\n",
       "      <td>10.04</td>\n",
       "      <td>NaN</td>\n",
       "    </tr>\n",
       "    <tr>\n",
       "      <th>2007</th>\n",
       "      <td>NaN</td>\n",
       "      <td>0.02</td>\n",
       "      <td>146.94</td>\n",
       "      <td>3.40</td>\n",
       "      <td>0.27</td>\n",
       "      <td>9.28</td>\n",
       "      <td>75.99</td>\n",
       "      <td>73.19</td>\n",
       "      <td>NaN</td>\n",
       "      <td>46.93</td>\n",
       "      <td>NaN</td>\n",
       "      <td>152.77</td>\n",
       "      <td>NaN</td>\n",
       "      <td>95.41</td>\n",
       "      <td>0.55</td>\n",
       "      <td>NaN</td>\n",
       "    </tr>\n",
       "    <tr>\n",
       "      <th>2008</th>\n",
       "      <td>NaN</td>\n",
       "      <td>0.04</td>\n",
       "      <td>145.31</td>\n",
       "      <td>NaN</td>\n",
       "      <td>NaN</td>\n",
       "      <td>12.42</td>\n",
       "      <td>53.90</td>\n",
       "      <td>118.52</td>\n",
       "      <td>NaN</td>\n",
       "      <td>34.55</td>\n",
       "      <td>NaN</td>\n",
       "      <td>171.32</td>\n",
       "      <td>NaN</td>\n",
       "      <td>135.26</td>\n",
       "      <td>0.18</td>\n",
       "      <td>NaN</td>\n",
       "    </tr>\n",
       "    <tr>\n",
       "      <th>2009</th>\n",
       "      <td>NaN</td>\n",
       "      <td>NaN</td>\n",
       "      <td>119.54</td>\n",
       "      <td>NaN</td>\n",
       "      <td>NaN</td>\n",
       "      <td>16.91</td>\n",
       "      <td>26.40</td>\n",
       "      <td>130.93</td>\n",
       "      <td>NaN</td>\n",
       "      <td>37.78</td>\n",
       "      <td>NaN</td>\n",
       "      <td>206.97</td>\n",
       "      <td>NaN</td>\n",
       "      <td>120.29</td>\n",
       "      <td>NaN</td>\n",
       "      <td>NaN</td>\n",
       "    </tr>\n",
       "    <tr>\n",
       "      <th>2010</th>\n",
       "      <td>NaN</td>\n",
       "      <td>NaN</td>\n",
       "      <td>85.02</td>\n",
       "      <td>NaN</td>\n",
       "      <td>NaN</td>\n",
       "      <td>24.28</td>\n",
       "      <td>5.64</td>\n",
       "      <td>142.17</td>\n",
       "      <td>NaN</td>\n",
       "      <td>35.04</td>\n",
       "      <td>NaN</td>\n",
       "      <td>127.95</td>\n",
       "      <td>NaN</td>\n",
       "      <td>170.03</td>\n",
       "      <td>NaN</td>\n",
       "      <td>NaN</td>\n",
       "    </tr>\n",
       "    <tr>\n",
       "      <th>2011</th>\n",
       "      <td>63.20</td>\n",
       "      <td>NaN</td>\n",
       "      <td>26.18</td>\n",
       "      <td>NaN</td>\n",
       "      <td>NaN</td>\n",
       "      <td>35.03</td>\n",
       "      <td>0.45</td>\n",
       "      <td>156.78</td>\n",
       "      <td>NaN</td>\n",
       "      <td>17.82</td>\n",
       "      <td>4.63</td>\n",
       "      <td>59.65</td>\n",
       "      <td>NaN</td>\n",
       "      <td>143.84</td>\n",
       "      <td>NaN</td>\n",
       "      <td>NaN</td>\n",
       "    </tr>\n",
       "    <tr>\n",
       "      <th>2012</th>\n",
       "      <td>51.36</td>\n",
       "      <td>NaN</td>\n",
       "      <td>11.01</td>\n",
       "      <td>NaN</td>\n",
       "      <td>NaN</td>\n",
       "      <td>23.22</td>\n",
       "      <td>NaN</td>\n",
       "      <td>107.36</td>\n",
       "      <td>NaN</td>\n",
       "      <td>7.69</td>\n",
       "      <td>16.19</td>\n",
       "      <td>21.71</td>\n",
       "      <td>17.56</td>\n",
       "      <td>99.74</td>\n",
       "      <td>NaN</td>\n",
       "      <td>NaN</td>\n",
       "    </tr>\n",
       "    <tr>\n",
       "      <th>2013</th>\n",
       "      <td>56.57</td>\n",
       "      <td>NaN</td>\n",
       "      <td>1.54</td>\n",
       "      <td>NaN</td>\n",
       "      <td>NaN</td>\n",
       "      <td>12.38</td>\n",
       "      <td>NaN</td>\n",
       "      <td>113.25</td>\n",
       "      <td>25.99</td>\n",
       "      <td>3.14</td>\n",
       "      <td>10.59</td>\n",
       "      <td>8.59</td>\n",
       "      <td>21.65</td>\n",
       "      <td>88.58</td>\n",
       "      <td>NaN</td>\n",
       "      <td>18.96</td>\n",
       "    </tr>\n",
       "    <tr>\n",
       "      <th>2014</th>\n",
       "      <td>43.76</td>\n",
       "      <td>NaN</td>\n",
       "      <td>NaN</td>\n",
       "      <td>NaN</td>\n",
       "      <td>NaN</td>\n",
       "      <td>13.28</td>\n",
       "      <td>NaN</td>\n",
       "      <td>47.76</td>\n",
       "      <td>100.00</td>\n",
       "      <td>0.24</td>\n",
       "      <td>11.90</td>\n",
       "      <td>3.75</td>\n",
       "      <td>22.03</td>\n",
       "      <td>34.74</td>\n",
       "      <td>NaN</td>\n",
       "      <td>54.07</td>\n",
       "    </tr>\n",
       "    <tr>\n",
       "      <th>2015</th>\n",
       "      <td>27.78</td>\n",
       "      <td>NaN</td>\n",
       "      <td>NaN</td>\n",
       "      <td>NaN</td>\n",
       "      <td>NaN</td>\n",
       "      <td>8.52</td>\n",
       "      <td>NaN</td>\n",
       "      <td>16.82</td>\n",
       "      <td>118.90</td>\n",
       "      <td>0.12</td>\n",
       "      <td>6.25</td>\n",
       "      <td>1.14</td>\n",
       "      <td>16.35</td>\n",
       "      <td>11.96</td>\n",
       "      <td>NaN</td>\n",
       "      <td>60.14</td>\n",
       "    </tr>\n",
       "    <tr>\n",
       "      <th>2016</th>\n",
       "      <td>15.14</td>\n",
       "      <td>NaN</td>\n",
       "      <td>NaN</td>\n",
       "      <td>NaN</td>\n",
       "      <td>NaN</td>\n",
       "      <td>5.25</td>\n",
       "      <td>NaN</td>\n",
       "      <td>3.60</td>\n",
       "      <td>69.25</td>\n",
       "      <td>NaN</td>\n",
       "      <td>4.25</td>\n",
       "      <td>0.18</td>\n",
       "      <td>4.60</td>\n",
       "      <td>1.52</td>\n",
       "      <td>NaN</td>\n",
       "      <td>26.15</td>\n",
       "    </tr>\n",
       "  </tbody>\n",
       "</table>\n",
       "</div>"
      ],
      "text/plain": [
       "platform           3DS    DC      DS   GBA     GC     PC     PS2     PS3  \\\n",
       "year_of_release                                                            \n",
       "2006               NaN   NaN  119.81  5.28  11.26   2.85  103.42   20.96   \n",
       "2007               NaN  0.02  146.94  3.40   0.27   9.28   75.99   73.19   \n",
       "2008               NaN  0.04  145.31   NaN    NaN  12.42   53.90  118.52   \n",
       "2009               NaN   NaN  119.54   NaN    NaN  16.91   26.40  130.93   \n",
       "2010               NaN   NaN   85.02   NaN    NaN  24.28    5.64  142.17   \n",
       "2011             63.20   NaN   26.18   NaN    NaN  35.03    0.45  156.78   \n",
       "2012             51.36   NaN   11.01   NaN    NaN  23.22     NaN  107.36   \n",
       "2013             56.57   NaN    1.54   NaN    NaN  12.38     NaN  113.25   \n",
       "2014             43.76   NaN     NaN   NaN    NaN  13.28     NaN   47.76   \n",
       "2015             27.78   NaN     NaN   NaN    NaN   8.52     NaN   16.82   \n",
       "2016             15.14   NaN     NaN   NaN    NaN   5.25     NaN    3.60   \n",
       "\n",
       "platform            PS4    PSP    PSV     Wii   WiiU    X360     XB   XOne  \n",
       "year_of_release                                                             \n",
       "2006                NaN  55.32    NaN  137.15    NaN   51.62  10.04    NaN  \n",
       "2007                NaN  46.93    NaN  152.77    NaN   95.41   0.55    NaN  \n",
       "2008                NaN  34.55    NaN  171.32    NaN  135.26   0.18    NaN  \n",
       "2009                NaN  37.78    NaN  206.97    NaN  120.29    NaN    NaN  \n",
       "2010                NaN  35.04    NaN  127.95    NaN  170.03    NaN    NaN  \n",
       "2011                NaN  17.82   4.63   59.65    NaN  143.84    NaN    NaN  \n",
       "2012                NaN   7.69  16.19   21.71  17.56   99.74    NaN    NaN  \n",
       "2013              25.99   3.14  10.59    8.59  21.65   88.58    NaN  18.96  \n",
       "2014             100.00   0.24  11.90    3.75  22.03   34.74    NaN  54.07  \n",
       "2015             118.90   0.12   6.25    1.14  16.35   11.96    NaN  60.14  \n",
       "2016              69.25    NaN   4.25    0.18   4.60    1.52    NaN  26.15  "
      ]
     },
     "metadata": {},
     "output_type": "display_data"
    },
    {
     "data": {
      "text/html": [
       "<div>\n",
       "<style scoped>\n",
       "    .dataframe tbody tr th:only-of-type {\n",
       "        vertical-align: middle;\n",
       "    }\n",
       "\n",
       "    .dataframe tbody tr th {\n",
       "        vertical-align: top;\n",
       "    }\n",
       "\n",
       "    .dataframe thead th {\n",
       "        text-align: right;\n",
       "    }\n",
       "</style>\n",
       "<table border=\"1\" class=\"dataframe\">\n",
       "  <thead>\n",
       "    <tr style=\"text-align: right;\">\n",
       "      <th>platform</th>\n",
       "      <th>3DS</th>\n",
       "      <th>DC</th>\n",
       "      <th>DS</th>\n",
       "      <th>GBA</th>\n",
       "      <th>GC</th>\n",
       "      <th>PC</th>\n",
       "      <th>PS2</th>\n",
       "      <th>PS3</th>\n",
       "      <th>PS4</th>\n",
       "      <th>PSP</th>\n",
       "      <th>PSV</th>\n",
       "      <th>Wii</th>\n",
       "      <th>WiiU</th>\n",
       "      <th>X360</th>\n",
       "      <th>XB</th>\n",
       "      <th>XOne</th>\n",
       "    </tr>\n",
       "    <tr>\n",
       "      <th>year_of_release</th>\n",
       "      <th></th>\n",
       "      <th></th>\n",
       "      <th></th>\n",
       "      <th></th>\n",
       "      <th></th>\n",
       "      <th></th>\n",
       "      <th></th>\n",
       "      <th></th>\n",
       "      <th></th>\n",
       "      <th></th>\n",
       "      <th></th>\n",
       "      <th></th>\n",
       "      <th></th>\n",
       "      <th></th>\n",
       "      <th></th>\n",
       "      <th></th>\n",
       "    </tr>\n",
       "  </thead>\n",
       "  <tbody>\n",
       "    <tr>\n",
       "      <th>2006</th>\n",
       "      <td>NaN</td>\n",
       "      <td>NaN</td>\n",
       "      <td>NaN</td>\n",
       "      <td>NaN</td>\n",
       "      <td>NaN</td>\n",
       "      <td>NaN</td>\n",
       "      <td>NaN</td>\n",
       "      <td>NaN</td>\n",
       "      <td>NaN</td>\n",
       "      <td>NaN</td>\n",
       "      <td>NaN</td>\n",
       "      <td>NaN</td>\n",
       "      <td>NaN</td>\n",
       "      <td>NaN</td>\n",
       "      <td>NaN</td>\n",
       "      <td>NaN</td>\n",
       "    </tr>\n",
       "    <tr>\n",
       "      <th>2007</th>\n",
       "      <td>NaN</td>\n",
       "      <td>NaN</td>\n",
       "      <td>22.64</td>\n",
       "      <td>-35.61</td>\n",
       "      <td>-97.6</td>\n",
       "      <td>225.61</td>\n",
       "      <td>-26.52</td>\n",
       "      <td>249.19</td>\n",
       "      <td>NaN</td>\n",
       "      <td>-15.17</td>\n",
       "      <td>NaN</td>\n",
       "      <td>11.39</td>\n",
       "      <td>NaN</td>\n",
       "      <td>84.83</td>\n",
       "      <td>-94.52</td>\n",
       "      <td>NaN</td>\n",
       "    </tr>\n",
       "    <tr>\n",
       "      <th>2008</th>\n",
       "      <td>NaN</td>\n",
       "      <td>100.0</td>\n",
       "      <td>-1.11</td>\n",
       "      <td>0.00</td>\n",
       "      <td>0.0</td>\n",
       "      <td>33.84</td>\n",
       "      <td>-29.07</td>\n",
       "      <td>61.93</td>\n",
       "      <td>NaN</td>\n",
       "      <td>-26.38</td>\n",
       "      <td>NaN</td>\n",
       "      <td>12.14</td>\n",
       "      <td>NaN</td>\n",
       "      <td>41.77</td>\n",
       "      <td>-67.27</td>\n",
       "      <td>NaN</td>\n",
       "    </tr>\n",
       "    <tr>\n",
       "      <th>2009</th>\n",
       "      <td>NaN</td>\n",
       "      <td>0.0</td>\n",
       "      <td>-17.73</td>\n",
       "      <td>0.00</td>\n",
       "      <td>0.0</td>\n",
       "      <td>36.15</td>\n",
       "      <td>-51.02</td>\n",
       "      <td>10.47</td>\n",
       "      <td>NaN</td>\n",
       "      <td>9.35</td>\n",
       "      <td>NaN</td>\n",
       "      <td>20.81</td>\n",
       "      <td>NaN</td>\n",
       "      <td>-11.07</td>\n",
       "      <td>0.00</td>\n",
       "      <td>NaN</td>\n",
       "    </tr>\n",
       "    <tr>\n",
       "      <th>2010</th>\n",
       "      <td>NaN</td>\n",
       "      <td>0.0</td>\n",
       "      <td>-28.88</td>\n",
       "      <td>0.00</td>\n",
       "      <td>0.0</td>\n",
       "      <td>43.58</td>\n",
       "      <td>-78.64</td>\n",
       "      <td>8.58</td>\n",
       "      <td>NaN</td>\n",
       "      <td>-7.25</td>\n",
       "      <td>NaN</td>\n",
       "      <td>-38.18</td>\n",
       "      <td>NaN</td>\n",
       "      <td>41.35</td>\n",
       "      <td>0.00</td>\n",
       "      <td>NaN</td>\n",
       "    </tr>\n",
       "    <tr>\n",
       "      <th>2011</th>\n",
       "      <td>NaN</td>\n",
       "      <td>0.0</td>\n",
       "      <td>-69.21</td>\n",
       "      <td>0.00</td>\n",
       "      <td>0.0</td>\n",
       "      <td>44.28</td>\n",
       "      <td>-92.02</td>\n",
       "      <td>10.28</td>\n",
       "      <td>NaN</td>\n",
       "      <td>-49.14</td>\n",
       "      <td>NaN</td>\n",
       "      <td>-53.38</td>\n",
       "      <td>NaN</td>\n",
       "      <td>-15.40</td>\n",
       "      <td>0.00</td>\n",
       "      <td>NaN</td>\n",
       "    </tr>\n",
       "    <tr>\n",
       "      <th>2012</th>\n",
       "      <td>-18.73</td>\n",
       "      <td>0.0</td>\n",
       "      <td>-57.94</td>\n",
       "      <td>0.00</td>\n",
       "      <td>0.0</td>\n",
       "      <td>-33.71</td>\n",
       "      <td>0.00</td>\n",
       "      <td>-31.52</td>\n",
       "      <td>NaN</td>\n",
       "      <td>-56.85</td>\n",
       "      <td>249.68</td>\n",
       "      <td>-63.60</td>\n",
       "      <td>NaN</td>\n",
       "      <td>-30.66</td>\n",
       "      <td>0.00</td>\n",
       "      <td>NaN</td>\n",
       "    </tr>\n",
       "    <tr>\n",
       "      <th>2013</th>\n",
       "      <td>10.14</td>\n",
       "      <td>0.0</td>\n",
       "      <td>-86.01</td>\n",
       "      <td>0.00</td>\n",
       "      <td>0.0</td>\n",
       "      <td>-46.68</td>\n",
       "      <td>0.00</td>\n",
       "      <td>5.49</td>\n",
       "      <td>NaN</td>\n",
       "      <td>-59.17</td>\n",
       "      <td>-34.59</td>\n",
       "      <td>-60.43</td>\n",
       "      <td>23.29</td>\n",
       "      <td>-11.19</td>\n",
       "      <td>0.00</td>\n",
       "      <td>NaN</td>\n",
       "    </tr>\n",
       "    <tr>\n",
       "      <th>2014</th>\n",
       "      <td>-22.64</td>\n",
       "      <td>0.0</td>\n",
       "      <td>0.00</td>\n",
       "      <td>0.00</td>\n",
       "      <td>0.0</td>\n",
       "      <td>7.27</td>\n",
       "      <td>0.00</td>\n",
       "      <td>-57.83</td>\n",
       "      <td>284.76</td>\n",
       "      <td>-92.36</td>\n",
       "      <td>12.37</td>\n",
       "      <td>-56.34</td>\n",
       "      <td>1.76</td>\n",
       "      <td>-60.78</td>\n",
       "      <td>0.00</td>\n",
       "      <td>185.18</td>\n",
       "    </tr>\n",
       "    <tr>\n",
       "      <th>2015</th>\n",
       "      <td>-36.52</td>\n",
       "      <td>0.0</td>\n",
       "      <td>0.00</td>\n",
       "      <td>0.00</td>\n",
       "      <td>0.0</td>\n",
       "      <td>-35.84</td>\n",
       "      <td>0.00</td>\n",
       "      <td>-64.78</td>\n",
       "      <td>18.90</td>\n",
       "      <td>-50.00</td>\n",
       "      <td>-47.48</td>\n",
       "      <td>-69.60</td>\n",
       "      <td>-25.78</td>\n",
       "      <td>-65.57</td>\n",
       "      <td>0.00</td>\n",
       "      <td>11.23</td>\n",
       "    </tr>\n",
       "    <tr>\n",
       "      <th>2016</th>\n",
       "      <td>-45.50</td>\n",
       "      <td>0.0</td>\n",
       "      <td>0.00</td>\n",
       "      <td>0.00</td>\n",
       "      <td>0.0</td>\n",
       "      <td>-38.38</td>\n",
       "      <td>0.00</td>\n",
       "      <td>-78.60</td>\n",
       "      <td>-41.76</td>\n",
       "      <td>0.00</td>\n",
       "      <td>-32.00</td>\n",
       "      <td>-84.21</td>\n",
       "      <td>-71.87</td>\n",
       "      <td>-87.29</td>\n",
       "      <td>0.00</td>\n",
       "      <td>-56.52</td>\n",
       "    </tr>\n",
       "  </tbody>\n",
       "</table>\n",
       "</div>"
      ],
      "text/plain": [
       "platform           3DS     DC     DS    GBA    GC      PC    PS2     PS3  \\\n",
       "year_of_release                                                            \n",
       "2006               NaN    NaN    NaN    NaN   NaN     NaN    NaN     NaN   \n",
       "2007               NaN    NaN  22.64 -35.61 -97.6  225.61 -26.52  249.19   \n",
       "2008               NaN  100.0  -1.11   0.00   0.0   33.84 -29.07   61.93   \n",
       "2009               NaN    0.0 -17.73   0.00   0.0   36.15 -51.02   10.47   \n",
       "2010               NaN    0.0 -28.88   0.00   0.0   43.58 -78.64    8.58   \n",
       "2011               NaN    0.0 -69.21   0.00   0.0   44.28 -92.02   10.28   \n",
       "2012            -18.73    0.0 -57.94   0.00   0.0  -33.71   0.00  -31.52   \n",
       "2013             10.14    0.0 -86.01   0.00   0.0  -46.68   0.00    5.49   \n",
       "2014            -22.64    0.0   0.00   0.00   0.0    7.27   0.00  -57.83   \n",
       "2015            -36.52    0.0   0.00   0.00   0.0  -35.84   0.00  -64.78   \n",
       "2016            -45.50    0.0   0.00   0.00   0.0  -38.38   0.00  -78.60   \n",
       "\n",
       "platform            PS4    PSP     PSV    Wii   WiiU   X360     XB    XOne  \n",
       "year_of_release                                                             \n",
       "2006                NaN    NaN     NaN    NaN    NaN    NaN    NaN     NaN  \n",
       "2007                NaN -15.17     NaN  11.39    NaN  84.83 -94.52     NaN  \n",
       "2008                NaN -26.38     NaN  12.14    NaN  41.77 -67.27     NaN  \n",
       "2009                NaN   9.35     NaN  20.81    NaN -11.07   0.00     NaN  \n",
       "2010                NaN  -7.25     NaN -38.18    NaN  41.35   0.00     NaN  \n",
       "2011                NaN -49.14     NaN -53.38    NaN -15.40   0.00     NaN  \n",
       "2012                NaN -56.85  249.68 -63.60    NaN -30.66   0.00     NaN  \n",
       "2013                NaN -59.17  -34.59 -60.43  23.29 -11.19   0.00     NaN  \n",
       "2014             284.76 -92.36   12.37 -56.34   1.76 -60.78   0.00  185.18  \n",
       "2015              18.90 -50.00  -47.48 -69.60 -25.78 -65.57   0.00   11.23  \n",
       "2016             -41.76   0.00  -32.00 -84.21 -71.87 -87.29   0.00  -56.52  "
      ]
     },
     "metadata": {},
     "output_type": "display_data"
    },
    {
     "data": {
      "text/plain": [
       "platform\n",
       "PS4     87.300000\n",
       "XOne    46.630000\n",
       "PSV     29.596000\n",
       "PC      23.612000\n",
       "PS3     11.321000\n",
       "DC      11.111111\n",
       "GBA     -3.561000\n",
       "GC      -9.760000\n",
       "X360   -11.401000\n",
       "XB     -16.179000\n",
       "WiiU   -18.150000\n",
       "3DS    -22.650000\n",
       "DS     -23.824000\n",
       "PS2    -27.727000\n",
       "PSP    -34.697000\n",
       "Wii    -38.140000\n",
       "dtype: float64"
      ]
     },
     "metadata": {},
     "output_type": "display_data"
    }
   ],
   "source": [
    "# Agrupar por año y plataforma y sumar las ventas\n",
    "best_sales = last_10_years.groupby(['year_of_release', 'platform'],observed=True)['total_sales'].sum().unstack()\n",
    "display(best_sales)\n",
    "# Calcular el porcentaje de crecimiento año con año\n",
    "sales_growth = best_sales.pct_change( ).multiply(100).round(2)\n",
    "display(sales_growth)\n",
    "# Identificar tendencias\n",
    "average_growht = sales_growth.mean().sort_values(ascending = False)\n",
    "display(average_growht)\n"
   ]
  },
  {
   "cell_type": "markdown",
   "metadata": {},
   "source": [
    "Con base en los recientes análisis realizados se puede observar que las plataformas con más proyección para el año 2017 son el Play Station 4 y el Xbox One"
   ]
  },
  {
   "cell_type": "markdown",
   "metadata": {},
   "source": [
    "### Diagrama de cajas"
   ]
  },
  {
   "cell_type": "code",
   "execution_count": 39,
   "metadata": {
    "trusted": true
   },
   "outputs": [
    {
     "data": {
      "image/png": "[encoded data removed]",
      "text/plain": [
       "<Figure size 1500x600 with 1 Axes>"
      ]
     },
     "metadata": {},
     "output_type": "display_data"
    }
   ],
   "source": [
    "import matplotlib.pyplot as plt\n",
    "import seaborn as sns\n",
    "\n",
    "# Configurar el tamaño del gráfico\n",
    "plt.figure(figsize=(15,6))\n",
    "\n",
    "# Crear el diagrama de caja\n",
    "sns.boxplot(data=df, x='platform', y='total_sales')\n",
    "\n",
    "# Ajustar el título y etiquetas\n",
    "plt.xticks(rotation=90)  # Rotar nombres de plataformas para mejor visibilidad\n",
    "plt.title(\"Distribución de Ventas Globales por Plataforma\")\n",
    "plt.xlabel(\"Plataforma\")\n",
    "plt.ylabel(\"Ventas Totales (en millones)\")\n",
    "\n",
    "# Mostrar el gráfico\n",
    "plt.show()\n"
   ]
  },
  {
   "cell_type": "markdown",
   "metadata": {},
   "source": [
    "Se observa que las ventas promedio son muy similares en todas las plataformas, pero hay muchos valores atípicos en las plataformas que más venden."
   ]
  },
  {
   "cell_type": "markdown",
   "metadata": {},
   "source": [
    "### Análisis de Ps4"
   ]
  },
  {
   "cell_type": "code",
   "execution_count": 40,
   "metadata": {
    "trusted": true
   },
   "outputs": [
    {
     "data": {
      "image/png": "[encoded data removed]",
      "text/plain": [
       "<Figure size 1500x500 with 1 Axes>"
      ]
     },
     "metadata": {},
     "output_type": "display_data"
    },
    {
     "data": {
      "image/png": "[encoded data removed]",
      "text/plain": [
       "<Figure size 1500x500 with 1 Axes>"
      ]
     },
     "metadata": {},
     "output_type": "display_data"
    },
    {
     "name": "stdout",
     "output_type": "stream",
     "text": [
      "Covarianza entre Puntuación de críticos y Ventas: 5.68\n",
      "Covarianza entre Puntuación de usuarios y Ventas: -0.08\n"
     ]
    }
   ],
   "source": [
    "# Filtrar por plataforma 'PS4' y eliminar valores nulos\n",
    "ps4_games = df[df['platform'] == 'PS4'][['critic_score', 'user_score', 'total_sales']].dropna()\n",
    "import seaborn as sns\n",
    "import matplotlib.pyplot as plt\n",
    "\n",
    "# Gráfico de dispersión: críticas de expertos vs. ventas\n",
    "plt.figure(figsize=(15, 5))\n",
    "sns.scatterplot(x=ps4_games['critic_score'], y=ps4_games['total_sales'])\n",
    "plt.xlabel('Puntaje de críticos')\n",
    "plt.ylabel('Ventas globales (millones)')\n",
    "plt.title('Relación entre puntaje de críticos y ventas (PS4)')\n",
    "plt.show()\n",
    "\n",
    "# Gráfico de dispersión: críticas de usuarios vs. ventas\n",
    "plt.figure(figsize=(15, 5))\n",
    "sns.scatterplot(x=ps4_games['user_score'], y=ps4_games['total_sales'])\n",
    "plt.xlabel('Puntaje de usuarios')\n",
    "plt.ylabel('Ventas globales (millones)')\n",
    "plt.title('Relación entre puntaje de usuarios y ventas (PS4)')\n",
    "plt.show()\n",
    "\n",
    "# Calcular covarianza\n",
    "cov_critic_sales = ps4_games['critic_score'].cov(ps4_games['total_sales'])\n",
    "cov_user_sales = ps4_games['user_score'].cov(ps4_games['total_sales'])\n",
    "\n",
    "print(f\"Covarianza entre Puntuación de críticos y Ventas: {cov_critic_sales:.2f}\")\n",
    "print(f\"Covarianza entre Puntuación de usuarios y Ventas: {cov_user_sales:.2f}\")\n",
    "\n",
    "\n"
   ]
  },
  {
   "cell_type": "markdown",
   "metadata": {},
   "source": [
    "Se observa que la putntuación de los criticos si tiene cierta incidencia con la ventas, por otro lado, las criticas de los usuarios parece no tener relación. Esto pude tener sentido si la puntuación de los criticos se dan antes de lanzar el juego al mercado."
   ]
  },
  {
   "cell_type": "code",
   "execution_count": 41,
   "metadata": {
    "trusted": true
   },
   "outputs": [
    {
     "data": {
      "image/png": "[encoded data removed]",
      "text/plain": [
       "<Figure size 1400x600 with 1 Axes>"
      ]
     },
     "metadata": {},
     "output_type": "display_data"
    }
   ],
   "source": [
    "# Filtrar los juegos que están en PS4\n",
    "ps4_games = df[df['platform'] == 'PS4']['name'].unique()\n",
    "\n",
    "# Filtrar los mismos juegos en otras plataformas\n",
    "ps4_comparison = df[df['name'].isin(ps4_games)]\n",
    "\n",
    "# Filtrar solo las columnas necesarias\n",
    "ps4_comparison_plot = ps4_comparison.groupby(['name', 'platform'])['total_sales'].sum().reset_index()\n",
    "\n",
    "# Gráfico de dispersión\n",
    "plt.figure(figsize=(14,6))\n",
    "sns.scatterplot(data=ps4_comparison_plot, x='platform', y='total_sales', hue='platform', palette=\"Set1\")\n",
    "plt.title(\"Distribución de ventas de juegos de PS4 en otras plataformas\")\n",
    "plt.ylabel(\"Ventas globales (millones)\")\n",
    "plt.xlabel(\"Plataforma\")\n",
    "plt.legend(title=\"Plataforma\")\n",
    "plt.show()\n",
    "\n",
    "\n"
   ]
  },
  {
   "cell_type": "markdown",
   "metadata": {},
   "source": [
    "Se observa que las ventas de los jeugos son similares en las diferentes plataformas."
   ]
  },
  {
   "cell_type": "code",
   "execution_count": 42,
   "metadata": {
    "trusted": true
   },
   "outputs": [
    {
     "data": {
      "image/png": "[encoded data removed]",
      "text/plain": [
       "<Figure size 1600x600 with 1 Axes>"
      ]
     },
     "metadata": {},
     "output_type": "display_data"
    },
    {
     "data": {
      "image/png": "[encoded data removed]",
      "text/plain": [
       "<Figure size 1600x600 with 1 Axes>"
      ]
     },
     "metadata": {},
     "output_type": "display_data"
    }
   ],
   "source": [
    "# Agrupar los juegos por género y calcular las ventas globales totales y promedio\n",
    "genre_sales = df.groupby('genre')['total_sales'].agg(['sum', 'mean']).sort_values(by='sum', ascending=False)\n",
    "\n",
    "# Gráfico de barras para mostrar las ventas totales por género\n",
    "plt.figure(figsize=(16,6))\n",
    "sns.barplot(x=genre_sales.index, y=genre_sales['sum'], palette=\"Set2\")\n",
    "plt.title(\"Ventas globales totales por género\")\n",
    "plt.ylabel(\"Ventas globales (millones)\")\n",
    "plt.xlabel(\"Género\")\n",
    "plt.xticks(rotation=45)\n",
    "plt.show()\n",
    "\n",
    "# Gráfico de barras para mostrar las ventas promedio por género\n",
    "plt.figure(figsize=(16,6))\n",
    "sns.barplot(x=genre_sales.index, y=genre_sales['mean'], palette=\"Set2\")\n",
    "plt.title(\"Ventas promedio por género\")\n",
    "plt.ylabel(\"Ventas promedio (millones)\")\n",
    "plt.xlabel(\"Género\")\n",
    "plt.xticks(rotation=45)\n",
    "plt.show()\n"
   ]
  },
  {
   "cell_type": "markdown",
   "metadata": {},
   "source": [
    "Se puede observar en la primer grafica que los juegos con más ventas totales son los juegos de acción, esto puede suceder debido a un mayor número de juegos. En la segunda grafica se observa que los juegos de plataforma son los que más venden en promedio, sin importar el número de juegos lanzados. "
   ]
  },
  {
   "cell_type": "markdown",
   "metadata": {},
   "source": [
    "### Análisis por región"
   ]
  },
  {
   "cell_type": "code",
   "execution_count": 43,
   "metadata": {
    "trusted": true
   },
   "outputs": [
    {
     "name": "stdout",
     "output_type": "stream",
     "text": [
      "Top 5 plataformas en NA:\n",
      " platform\n",
      "X360    602.47\n",
      "PS2     583.84\n",
      "Wii     496.90\n",
      "PS3     393.49\n",
      "DS      382.40\n",
      "Name: na_sales, dtype: float64\n",
      "Top 5 plataformas en EU:\n",
      " platform\n",
      "PS2     339.29\n",
      "PS3     330.29\n",
      "X360    270.76\n",
      "Wii     262.21\n",
      "PS      213.61\n",
      "Name: eu_sales, dtype: float64\n",
      "Top 5 plataformas en JP:\n",
      " platform\n",
      "DS      175.57\n",
      "PS      139.82\n",
      "PS2     139.20\n",
      "SNES    116.55\n",
      "3DS     100.67\n",
      "Name: jp_sales, dtype: float64\n"
     ]
    }
   ],
   "source": [
    "#Agrupamos los datos por plataforma y sumamos las ventas de cada región\n",
    "top_platforms_na = df.groupby('platform')['na_sales'].sum().nlargest(5)\n",
    "top_platforms_eu = df.groupby('platform')['eu_sales'].sum().nlargest(5)\n",
    "top_platforms_jp = df.groupby('platform')['jp_sales'].sum().nlargest(5)\n",
    "\n",
    "print(\"Top 5 plataformas en NA:\\n\", top_platforms_na)\n",
    "print(\"Top 5 plataformas en EU:\\n\", top_platforms_eu)\n",
    "print(\"Top 5 plataformas en JP:\\n\", top_platforms_jp)\n"
   ]
  },
  {
   "cell_type": "markdown",
   "metadata": {},
   "source": [
    "Se nota la dominación del Nintendo en la región de Japón, mientras que en Norte America y Europa dominan las ventas de las plataformas Xbox y Play Station."
   ]
  },
  {
   "cell_type": "code",
   "execution_count": 44,
   "metadata": {
    "trusted": true
   },
   "outputs": [
    {
     "name": "stdout",
     "output_type": "stream",
     "text": [
      "Top 5 géneros en NA:\n",
      " genre\n",
      "Action      879.01\n",
      "Sports      684.43\n",
      "Shooter     592.24\n",
      "Platform    445.50\n",
      "Misc        407.27\n",
      "Name: na_sales, dtype: float64\n",
      "Top 5 géneros en EU:\n",
      " genre\n",
      "Action     519.13\n",
      "Sports     376.79\n",
      "Shooter    317.34\n",
      "Racing     236.51\n",
      "Misc       212.74\n",
      "Name: eu_sales, dtype: float64\n",
      "Top 5 géneros en JP:\n",
      " genre\n",
      "Role-Playing    355.41\n",
      "Action          161.43\n",
      "Sports          135.54\n",
      "Platform        130.83\n",
      "Misc            108.11\n",
      "Name: jp_sales, dtype: float64\n"
     ]
    }
   ],
   "source": [
    "# Los 5 géneros principales\n",
    "top_genres_na = df.groupby('genre')['na_sales'].sum().nlargest(5)\n",
    "top_genres_eu = df.groupby('genre')['eu_sales'].sum().nlargest(5)\n",
    "top_genres_jp = df.groupby('genre')['jp_sales'].sum().nlargest(5)\n",
    "\n",
    "print(\"Top 5 géneros en NA:\\n\", top_genres_na)\n",
    "print(\"Top 5 géneros en EU:\\n\", top_genres_eu)\n",
    "print(\"Top 5 géneros en JP:\\n\", top_genres_jp)\n"
   ]
  },
  {
   "cell_type": "markdown",
   "metadata": {},
   "source": [
    "Las 3 regiones mantienen patrones similares, la unica diferencia es que en la región de Japón se prefieren los videojuegos de Role-playing"
   ]
  },
  {
   "cell_type": "code",
   "execution_count": 45,
   "metadata": {
    "trusted": true
   },
   "outputs": [
    {
     "name": "stdout",
     "output_type": "stream",
     "text": [
      "Ventas por clasificación ESRB en NA:\n",
      " rating\n",
      "E       1292.99\n",
      "tbd     1240.68\n",
      "T        759.75\n",
      "M        748.48\n",
      "E10+     353.32\n",
      "K-A        2.56\n",
      "EC         1.53\n",
      "AO         1.26\n",
      "RP         0.00\n",
      "Name: na_sales, dtype: float64\n",
      "Ventas por clasificación ESRB en EU:\n",
      " rating\n",
      "E       710.25\n",
      "tbd     613.30\n",
      "M       483.97\n",
      "T       427.03\n",
      "E10+    188.52\n",
      "AO        0.61\n",
      "K-A       0.27\n",
      "EC        0.11\n",
      "RP        0.08\n",
      "Name: eu_sales, dtype: float64\n",
      "Ventas por clasificación ESRB en JP:\n",
      " rating\n",
      "tbd     841.93\n",
      "E       198.11\n",
      "T       151.40\n",
      "M        64.24\n",
      "E10+     40.20\n",
      "K-A       1.46\n",
      "AO        0.00\n",
      "EC        0.00\n",
      "RP        0.00\n",
      "Name: jp_sales, dtype: float64\n"
     ]
    }
   ],
   "source": [
    "# Impacto de las clasificaciones\n",
    "esrb_sales_na = df.groupby('rating')['na_sales'].sum().sort_values(ascending=False)\n",
    "esrb_sales_eu = df.groupby('rating')['eu_sales'].sum().sort_values(ascending=False)\n",
    "esrb_sales_jp = df.groupby('rating')['jp_sales'].sum().sort_values(ascending=False)\n",
    "\n",
    "print(\"Ventas por clasificación ESRB en NA:\\n\", esrb_sales_na)\n",
    "print(\"Ventas por clasificación ESRB en EU:\\n\", esrb_sales_eu)\n",
    "print(\"Ventas por clasificación ESRB en JP:\\n\", esrb_sales_jp)\n"
   ]
  },
  {
   "cell_type": "markdown",
   "metadata": {},
   "source": [
    "La mayoria de las ventas se concentran en la categoria E (Everyone), puede ser porque la mayoria de los juegos que se lanzan pertenecen a esta."
   ]
  },
  {
   "cell_type": "markdown",
   "metadata": {},
   "source": [
    "## Prueba de hipótesis"
   ]
  },
  {
   "cell_type": "markdown",
   "metadata": {},
   "source": [
    "Formulación de hipótesis:\n",
    "Hipótesis nula: Las calificaciones promedio de los usuarios para Xbox One y PC son iguales.\n",
    "Hipótesis alternativa: Las calificaciones promedio de los usuarios para Xbox One y PC son diferentes.\n",
    "Se usará la prueba estadistica para determinar la diferencia de las medias muestrales de dos poblaciones con un nivel de sgnificancia del 5%"
   ]
  },
  {
   "cell_type": "code",
   "execution_count": 51,
   "metadata": {
    "trusted": true
   },
   "outputs": [
    {
     "name": "stdout",
     "output_type": "stream",
     "text": [
      "LeveneResult(statistic=3.8452474469082305, pvalue=0.05011456835504438)\n"
     ]
    }
   ],
   "source": [
    "# Filtrar las calificaciones de Xbox One y PC\n",
    "xbox_one_ratings = df[df['platform'] == 'XOne']['user_score']\n",
    "pc_ratings = df[df['platform'] == 'PC']['user_score']\n",
    "\n",
    "# Compara Varianzas haciendo prueba de Levene\n",
    "var_comparation = st.levene(xbox_one_ratings,pc_ratings)\n",
    "\n",
    "print(var_comparation)"
   ]
  },
  {
   "cell_type": "markdown",
   "metadata": {},
   "source": [
    "Dado el nivel de significancia de 5% no se puede decir que las varianzas sean diferentes"
   ]
  },
  {
   "cell_type": "code",
   "execution_count": 52,
   "metadata": {
    "trusted": true
   },
   "outputs": [
    {
     "name": "stdout",
     "output_type": "stream",
     "text": [
      "Valor P:3.107688668942885e-05\n",
      "Rechazamos la hipótesis nula: Las calificaciones promedio son diferentes\n"
     ]
    }
   ],
   "source": [
    "# Eliminar valores nulos\n",
    "xbox_one_ratings = xbox_one_ratings.dropna()\n",
    "pc_ratings = pc_ratings.dropna()\n",
    "\n",
    "# Establecer el nivel de significancia\n",
    "alpha = 0.05\n",
    "\n",
    "# Prueba de hipótesis\n",
    "results_xbox_pc = st.ttest_ind(xbox_one_ratings, pc_ratings, equal_var=True)\n",
    "print(f'Valor P:{results_xbox_pc.pvalue}')\n",
    "if results_xbox_pc.pvalue < alpha:\n",
    "    print(\"Rechazamos la hipótesis nula: Las calificaciones promedio son diferentes\")\n",
    "else:\n",
    "    print(\"No podemos rechazar la hipótesis nula: Las calificaciones promedio son iguales\")\n"
   ]
  },
  {
   "cell_type": "markdown",
   "metadata": {},
   "source": [
    "Formulación de hipótesis:\n",
    "Hipótesis nula: Las calificaciones promedio de los usuarios para el género de Acción y Deportes son iguales.\n",
    "Hipótesis alternativa: Las calificaciones promedio de los usuarios para Acción y Deportes son diferentes.\n",
    "Se usará la prueba estadistica para determinar la diferencia de las medias muestrales de dos poblaciones con un nivel de sgnificancia del 5%"
   ]
  },
  {
   "cell_type": "code",
   "execution_count": 54,
   "metadata": {
    "trusted": true
   },
   "outputs": [
    {
     "name": "stdout",
     "output_type": "stream",
     "text": [
      "LeveneResult(statistic=0.152672498150227, pvalue=0.6960089589405154)\n"
     ]
    }
   ],
   "source": [
    "# Filtrar las calificaciones de Acción y Deportes\n",
    "accion_ratings = df[df['genre'] == 'Action']['user_score']\n",
    "deportes_ratings = df[df['genre'] == 'Sports']['user_score']\n",
    "\n",
    "# Eliminar valores nulos\n",
    "accion_ratings = accion_ratings.dropna()\n",
    "deportes_ratings = deportes_ratings.dropna()\n",
    "\n",
    "# Prueba de Levine para saber si las varianzas son iguales\n",
    "var_comparation = st.levene(accion_ratings, deportes_ratings)\n",
    "print(var_comparation)\n"
   ]
  },
  {
   "cell_type": "markdown",
   "metadata": {},
   "source": [
    "Dado el nivel de significancia de 5% no se puede decir que las varianzas sean iguales."
   ]
  },
  {
   "cell_type": "code",
   "execution_count": 55,
   "metadata": {
    "trusted": true
   },
   "outputs": [
    {
     "name": "stdout",
     "output_type": "stream",
     "text": [
      "Valor p:0.16729860130066568\n",
      "No podemos rechazar la hipótesis nula: Las calificaciones promedio son iguales\n"
     ]
    }
   ],
   "source": [
    "# Establecer el nivel de significancia\n",
    "alpha = 0.05\n",
    "\n",
    "# Prueba de hipótesis \n",
    "results_accion_deportes = st.ttest_ind(accion_ratings, deportes_ratings, equal_var=False)\n",
    "print(f'Valor p:{results_accion_deportes.pvalue}')\n",
    "if results_accion_deportes.pvalue < alpha:\n",
    "    print(\"Rechazamos la hipótesis nula: Las calificaciones promedio son diferentes\")\n",
    "else:\n",
    "    print(\"No podemos rechazar la hipótesis nula: Las calificaciones promedio son iguales\")\n"
   ]
  },
  {
   "cell_type": "markdown",
   "metadata": {},
   "source": [
    "## Conclusión General"
   ]
  },
  {
   "cell_type": "markdown",
   "metadata": {},
   "source": [
    "\n",
    "Tras analizar los datos de ventas y calificaciones de videojuegos, podemos destacar los siguientes hallazgos clave:\n",
    "\n",
    "Distribución de ventas por género y plataforma:\n",
    "* Los géneros más rentables varían según la región. En general, los juegos de Acción, Deportes y Disparos (Shooter) tienen las ventas más altas.\n",
    "* Las plataformas más populares varían por región, con PlayStation y Xbox dominando en América del Norte y Europa, mientras que Nintendo es más fuerte en Japón.\n",
    "\n",
    "Perfil de usuario por región:\n",
    "* América del Norte (NA): Prefiere juegos de Acción y Disparos, con Xbox y PlayStation liderando el mercado.\n",
    "* Europa (EU): Presenta una distribución similar a Norte America, pero con una mayor preferencia por PlayStation.\n",
    "* Japón (JP): Favorece juegos de Rol (RPG) y plataformas de Nintendo.\n",
    "\n",
    "Efecto de la clasificación ESRB en las ventas:\n",
    "* En América del Norte y Europa, los juegos con clasificación \"M\" (Mature) tienen mayores ventas.\n",
    "* En Japón, las clasificaciones parecen tener menor impacto, ya que las preferencias están más ligadas a géneros y franquicias locales.\n",
    "\n",
    "Diferencias en valoraciónes de los usuarios:\n",
    "* Los jugadores no parecen evaluar los géneros de Acción y Deportes de manera significativamente diferente, lo que indica una posible uniformidad en la percepción de estos juegos.\n",
    "* Las calificaciones promedio en Xbox One y PC son distintas, lo que sugiere que factores como la optimización, el tipo de público y la experiencia de juego pueden influir en las opiniones de los usuarios.\n",
    "* La diferencia en la significancia estadística entre ambas pruebas refuerza la importancia de los datos en la toma de decisiones en la industria de los videojuegos.\n",
    "\n",
    "Proyección de ventas plataformas:\n",
    "* Las plataformas con mayor proyección para el proximo periodo son el Play Station 4 y el Xbox One.\n",
    " \n",
    "\n",
    "\n",
    "\n"
   ]
  }
 ],
 "metadata": {
  "ExecuteTimeLog": [
   {
    "duration": 14,
    "start_time": "2025-03-13T14:55:42.052Z"
   },
   {
    "duration": 831,
    "start_time": "2025-03-13T14:55:54.971Z"
   },
   {
    "duration": 36,
    "start_time": "2025-03-13T14:55:55.803Z"
   },
   {
    "duration": 29,
    "start_time": "2025-03-13T14:55:55.841Z"
   },
   {
    "duration": 3,
    "start_time": "2025-03-13T14:55:55.872Z"
   },
   {
    "duration": 8,
    "start_time": "2025-03-13T14:55:55.877Z"
   },
   {
    "duration": 31,
    "start_time": "2025-03-13T14:55:55.886Z"
   },
   {
    "duration": 12,
    "start_time": "2025-03-13T14:55:55.919Z"
   },
   {
    "duration": 13,
    "start_time": "2025-03-13T14:55:55.933Z"
   },
   {
    "duration": 6,
    "start_time": "2025-03-13T14:55:55.947Z"
   },
   {
    "duration": 51,
    "start_time": "2025-03-13T14:55:55.957Z"
   },
   {
    "duration": 6,
    "start_time": "2025-03-13T14:55:56.010Z"
   },
   {
    "duration": 26,
    "start_time": "2025-03-13T14:55:56.017Z"
   },
   {
    "duration": 40,
    "start_time": "2025-03-13T14:55:56.044Z"
   },
   {
    "duration": 9,
    "start_time": "2025-03-13T14:55:56.109Z"
   },
   {
    "duration": 24,
    "start_time": "2025-03-13T14:55:56.119Z"
   },
   {
    "duration": 13,
    "start_time": "2025-03-13T14:55:56.145Z"
   },
   {
    "duration": 5,
    "start_time": "2025-03-13T14:55:56.159Z"
   },
   {
    "duration": 334,
    "start_time": "2025-03-13T14:55:56.166Z"
   },
   {
    "duration": 17,
    "start_time": "2025-03-13T14:55:56.502Z"
   },
   {
    "duration": 31,
    "start_time": "2025-03-13T14:55:56.520Z"
   },
   {
    "duration": 1283,
    "start_time": "2025-03-13T14:55:56.553Z"
   },
   {
    "duration": 0,
    "start_time": "2025-03-13T14:55:57.838Z"
   },
   {
    "duration": 0,
    "start_time": "2025-03-13T14:55:57.840Z"
   },
   {
    "duration": 0,
    "start_time": "2025-03-13T14:55:57.841Z"
   },
   {
    "duration": 0,
    "start_time": "2025-03-13T14:55:57.842Z"
   },
   {
    "duration": 0,
    "start_time": "2025-03-13T14:55:57.843Z"
   },
   {
    "duration": 0,
    "start_time": "2025-03-13T14:55:57.844Z"
   },
   {
    "duration": 0,
    "start_time": "2025-03-13T14:55:57.846Z"
   },
   {
    "duration": 0,
    "start_time": "2025-03-13T14:55:57.847Z"
   },
   {
    "duration": 0,
    "start_time": "2025-03-13T14:55:57.849Z"
   },
   {
    "duration": 0,
    "start_time": "2025-03-13T14:55:57.850Z"
   },
   {
    "duration": 0,
    "start_time": "2025-03-13T14:55:57.851Z"
   },
   {
    "duration": 0,
    "start_time": "2025-03-13T14:55:57.851Z"
   },
   {
    "duration": 0,
    "start_time": "2025-03-13T14:55:57.853Z"
   },
   {
    "duration": 0,
    "start_time": "2025-03-13T14:55:57.854Z"
   },
   {
    "duration": 171,
    "start_time": "2025-03-13T17:09:19.835Z"
   },
   {
    "duration": 2618,
    "start_time": "2025-03-13T17:09:35.625Z"
   },
   {
    "duration": 35,
    "start_time": "2025-03-13T17:09:38.246Z"
   },
   {
    "duration": 29,
    "start_time": "2025-03-13T17:09:38.283Z"
   },
   {
    "duration": 3,
    "start_time": "2025-03-13T17:09:38.314Z"
   },
   {
    "duration": 8,
    "start_time": "2025-03-13T17:09:38.319Z"
   },
   {
    "duration": 14,
    "start_time": "2025-03-13T17:09:38.329Z"
   },
   {
    "duration": 11,
    "start_time": "2025-03-13T17:09:38.345Z"
   },
   {
    "duration": 13,
    "start_time": "2025-03-13T17:09:38.358Z"
   },
   {
    "duration": 39,
    "start_time": "2025-03-13T17:09:38.373Z"
   },
   {
    "duration": 23,
    "start_time": "2025-03-13T17:09:38.415Z"
   },
   {
    "duration": 5,
    "start_time": "2025-03-13T17:09:38.440Z"
   },
   {
    "duration": 24,
    "start_time": "2025-03-13T17:09:38.447Z"
   },
   {
    "duration": 67,
    "start_time": "2025-03-13T17:09:38.472Z"
   },
   {
    "duration": 8,
    "start_time": "2025-03-13T17:09:38.540Z"
   },
   {
    "duration": 23,
    "start_time": "2025-03-13T17:09:38.549Z"
   },
   {
    "duration": 38,
    "start_time": "2025-03-13T17:09:38.574Z"
   },
   {
    "duration": 5,
    "start_time": "2025-03-13T17:09:38.613Z"
   },
   {
    "duration": 353,
    "start_time": "2025-03-13T17:09:38.620Z"
   },
   {
    "duration": 11,
    "start_time": "2025-03-13T17:09:38.974Z"
   },
   {
    "duration": 39,
    "start_time": "2025-03-13T17:09:38.987Z"
   },
   {
    "duration": 85,
    "start_time": "2025-03-13T17:09:39.028Z"
   },
   {
    "duration": 0,
    "start_time": "2025-03-13T17:09:39.114Z"
   },
   {
    "duration": 1,
    "start_time": "2025-03-13T17:09:39.115Z"
   },
   {
    "duration": 0,
    "start_time": "2025-03-13T17:09:39.116Z"
   },
   {
    "duration": 0,
    "start_time": "2025-03-13T17:09:39.118Z"
   },
   {
    "duration": 0,
    "start_time": "2025-03-13T17:09:39.118Z"
   },
   {
    "duration": 0,
    "start_time": "2025-03-13T17:09:39.120Z"
   },
   {
    "duration": 0,
    "start_time": "2025-03-13T17:09:39.121Z"
   },
   {
    "duration": 0,
    "start_time": "2025-03-13T17:09:39.122Z"
   },
   {
    "duration": 0,
    "start_time": "2025-03-13T17:09:39.123Z"
   },
   {
    "duration": 0,
    "start_time": "2025-03-13T17:09:39.125Z"
   },
   {
    "duration": 0,
    "start_time": "2025-03-13T17:09:39.126Z"
   },
   {
    "duration": 0,
    "start_time": "2025-03-13T17:09:39.127Z"
   },
   {
    "duration": 0,
    "start_time": "2025-03-13T17:09:39.129Z"
   },
   {
    "duration": 0,
    "start_time": "2025-03-13T17:09:39.130Z"
   },
   {
    "duration": 0,
    "start_time": "2025-03-13T17:09:39.132Z"
   },
   {
    "duration": 13,
    "start_time": "2025-03-13T17:10:14.476Z"
   },
   {
    "duration": 14,
    "start_time": "2025-03-13T17:10:34.848Z"
   },
   {
    "duration": 3,
    "start_time": "2025-03-13T17:10:49.392Z"
   },
   {
    "duration": 947,
    "start_time": "2025-03-13T17:10:59.221Z"
   },
   {
    "duration": 13,
    "start_time": "2025-03-13T17:26:35.827Z"
   },
   {
    "duration": 6,
    "start_time": "2025-03-13T17:28:36.220Z"
   },
   {
    "duration": 16,
    "start_time": "2025-03-13T17:36:53.965Z"
   },
   {
    "duration": 26,
    "start_time": "2025-03-13T17:38:26.356Z"
   },
   {
    "duration": 440,
    "start_time": "2025-03-13T17:44:50.027Z"
   },
   {
    "duration": 820,
    "start_time": "2025-03-13T17:45:12.441Z"
   },
   {
    "duration": 23,
    "start_time": "2025-03-13T17:48:14.509Z"
   },
   {
    "duration": 13,
    "start_time": "2025-03-13T17:51:16.010Z"
   },
   {
    "duration": 6,
    "start_time": "2025-03-13T17:53:47.986Z"
   },
   {
    "duration": 6,
    "start_time": "2025-03-13T17:54:21.695Z"
   },
   {
    "duration": 7,
    "start_time": "2025-03-13T17:55:59.792Z"
   },
   {
    "duration": 14,
    "start_time": "2025-03-13T17:56:27.619Z"
   },
   {
    "duration": 13,
    "start_time": "2025-03-13T17:56:44.216Z"
   },
   {
    "duration": 5,
    "start_time": "2025-03-13T18:02:24.148Z"
   },
   {
    "duration": 787,
    "start_time": "2025-03-13T18:02:39.906Z"
   },
   {
    "duration": 30,
    "start_time": "2025-03-13T18:02:40.695Z"
   },
   {
    "duration": 28,
    "start_time": "2025-03-13T18:02:40.726Z"
   },
   {
    "duration": 3,
    "start_time": "2025-03-13T18:02:40.756Z"
   },
   {
    "duration": 7,
    "start_time": "2025-03-13T18:02:40.761Z"
   },
   {
    "duration": 15,
    "start_time": "2025-03-13T18:02:40.769Z"
   },
   {
    "duration": 36,
    "start_time": "2025-03-13T18:02:40.785Z"
   },
   {
    "duration": 13,
    "start_time": "2025-03-13T18:02:40.823Z"
   },
   {
    "duration": 5,
    "start_time": "2025-03-13T18:02:40.839Z"
   },
   {
    "duration": 22,
    "start_time": "2025-03-13T18:02:40.847Z"
   },
   {
    "duration": 155,
    "start_time": "2025-03-13T18:02:40.870Z"
   },
   {
    "duration": 0,
    "start_time": "2025-03-13T18:02:41.027Z"
   },
   {
    "duration": 0,
    "start_time": "2025-03-13T18:02:41.028Z"
   },
   {
    "duration": 0,
    "start_time": "2025-03-13T18:02:41.030Z"
   },
   {
    "duration": 0,
    "start_time": "2025-03-13T18:02:41.031Z"
   },
   {
    "duration": 0,
    "start_time": "2025-03-13T18:02:41.033Z"
   },
   {
    "duration": 0,
    "start_time": "2025-03-13T18:02:41.034Z"
   },
   {
    "duration": 0,
    "start_time": "2025-03-13T18:02:41.035Z"
   },
   {
    "duration": 0,
    "start_time": "2025-03-13T18:02:41.037Z"
   },
   {
    "duration": 0,
    "start_time": "2025-03-13T18:02:41.039Z"
   },
   {
    "duration": 0,
    "start_time": "2025-03-13T18:02:41.040Z"
   },
   {
    "duration": 0,
    "start_time": "2025-03-13T18:02:41.042Z"
   },
   {
    "duration": 0,
    "start_time": "2025-03-13T18:02:41.043Z"
   },
   {
    "duration": 0,
    "start_time": "2025-03-13T18:02:41.044Z"
   },
   {
    "duration": 20,
    "start_time": "2025-03-13T18:02:41.277Z"
   },
   {
    "duration": 252,
    "start_time": "2025-03-13T18:02:41.299Z"
   },
   {
    "duration": 0,
    "start_time": "2025-03-13T18:02:41.553Z"
   },
   {
    "duration": 0,
    "start_time": "2025-03-13T18:02:41.554Z"
   },
   {
    "duration": 0,
    "start_time": "2025-03-13T18:02:41.554Z"
   },
   {
    "duration": 0,
    "start_time": "2025-03-13T18:02:41.555Z"
   },
   {
    "duration": 0,
    "start_time": "2025-03-13T18:02:41.556Z"
   },
   {
    "duration": 0,
    "start_time": "2025-03-13T18:02:41.557Z"
   },
   {
    "duration": 0,
    "start_time": "2025-03-13T18:02:41.558Z"
   },
   {
    "duration": 0,
    "start_time": "2025-03-13T18:02:41.560Z"
   },
   {
    "duration": 0,
    "start_time": "2025-03-13T18:02:41.561Z"
   },
   {
    "duration": 0,
    "start_time": "2025-03-13T18:02:41.562Z"
   },
   {
    "duration": 0,
    "start_time": "2025-03-13T18:02:41.562Z"
   },
   {
    "duration": 3,
    "start_time": "2025-03-13T18:04:01.430Z"
   },
   {
    "duration": 22,
    "start_time": "2025-03-13T18:04:01.446Z"
   },
   {
    "duration": 27,
    "start_time": "2025-03-13T18:04:01.470Z"
   },
   {
    "duration": 6,
    "start_time": "2025-03-13T18:04:01.499Z"
   },
   {
    "duration": 7,
    "start_time": "2025-03-13T18:04:01.506Z"
   },
   {
    "duration": 15,
    "start_time": "2025-03-13T18:04:01.515Z"
   },
   {
    "duration": 10,
    "start_time": "2025-03-13T18:04:01.532Z"
   },
   {
    "duration": 13,
    "start_time": "2025-03-13T18:04:01.545Z"
   },
   {
    "duration": 5,
    "start_time": "2025-03-13T18:04:01.560Z"
   },
   {
    "duration": 45,
    "start_time": "2025-03-13T18:04:01.576Z"
   },
   {
    "duration": 11,
    "start_time": "2025-03-13T18:04:01.624Z"
   },
   {
    "duration": 794,
    "start_time": "2025-03-13T18:04:47.399Z"
   },
   {
    "duration": 3,
    "start_time": "2025-03-13T18:04:54.213Z"
   },
   {
    "duration": 828,
    "start_time": "2025-03-13T18:05:14.771Z"
   },
   {
    "duration": 28,
    "start_time": "2025-03-13T18:05:15.602Z"
   },
   {
    "duration": 28,
    "start_time": "2025-03-13T18:05:15.631Z"
   },
   {
    "duration": 3,
    "start_time": "2025-03-13T18:05:15.661Z"
   },
   {
    "duration": 7,
    "start_time": "2025-03-13T18:05:15.666Z"
   },
   {
    "duration": 39,
    "start_time": "2025-03-13T18:05:15.675Z"
   },
   {
    "duration": 13,
    "start_time": "2025-03-13T18:05:15.715Z"
   },
   {
    "duration": 14,
    "start_time": "2025-03-13T18:05:15.729Z"
   },
   {
    "duration": 5,
    "start_time": "2025-03-13T18:05:15.744Z"
   },
   {
    "duration": 21,
    "start_time": "2025-03-13T18:05:15.752Z"
   },
   {
    "duration": 165,
    "start_time": "2025-03-13T18:05:15.775Z"
   },
   {
    "duration": 0,
    "start_time": "2025-03-13T18:05:15.942Z"
   },
   {
    "duration": 0,
    "start_time": "2025-03-13T18:05:15.943Z"
   },
   {
    "duration": 0,
    "start_time": "2025-03-13T18:05:15.944Z"
   },
   {
    "duration": 0,
    "start_time": "2025-03-13T18:05:15.945Z"
   },
   {
    "duration": 0,
    "start_time": "2025-03-13T18:05:15.946Z"
   },
   {
    "duration": 0,
    "start_time": "2025-03-13T18:05:15.947Z"
   },
   {
    "duration": 0,
    "start_time": "2025-03-13T18:05:15.948Z"
   },
   {
    "duration": 0,
    "start_time": "2025-03-13T18:05:15.949Z"
   },
   {
    "duration": 0,
    "start_time": "2025-03-13T18:05:15.950Z"
   },
   {
    "duration": 0,
    "start_time": "2025-03-13T18:05:15.951Z"
   },
   {
    "duration": 0,
    "start_time": "2025-03-13T18:05:15.952Z"
   },
   {
    "duration": 0,
    "start_time": "2025-03-13T18:05:15.953Z"
   },
   {
    "duration": 0,
    "start_time": "2025-03-13T18:05:15.954Z"
   },
   {
    "duration": 0,
    "start_time": "2025-03-13T18:05:15.955Z"
   },
   {
    "duration": 0,
    "start_time": "2025-03-13T18:05:15.956Z"
   },
   {
    "duration": 0,
    "start_time": "2025-03-13T18:05:15.957Z"
   },
   {
    "duration": 0,
    "start_time": "2025-03-13T18:05:15.958Z"
   },
   {
    "duration": 0,
    "start_time": "2025-03-13T18:05:15.960Z"
   },
   {
    "duration": 0,
    "start_time": "2025-03-13T18:05:15.961Z"
   },
   {
    "duration": 0,
    "start_time": "2025-03-13T18:05:15.962Z"
   },
   {
    "duration": 0,
    "start_time": "2025-03-13T18:05:15.963Z"
   },
   {
    "duration": 0,
    "start_time": "2025-03-13T18:05:15.964Z"
   },
   {
    "duration": 0,
    "start_time": "2025-03-13T18:05:15.965Z"
   },
   {
    "duration": 0,
    "start_time": "2025-03-13T18:05:15.966Z"
   },
   {
    "duration": 0,
    "start_time": "2025-03-13T18:05:15.967Z"
   },
   {
    "duration": 0,
    "start_time": "2025-03-13T18:05:15.968Z"
   },
   {
    "duration": 4,
    "start_time": "2025-03-13T18:05:37.399Z"
   },
   {
    "duration": 2,
    "start_time": "2025-03-13T18:05:42.129Z"
   },
   {
    "duration": 23,
    "start_time": "2025-03-13T18:05:42.143Z"
   },
   {
    "duration": 26,
    "start_time": "2025-03-13T18:05:42.167Z"
   },
   {
    "duration": 3,
    "start_time": "2025-03-13T18:05:42.195Z"
   },
   {
    "duration": 8,
    "start_time": "2025-03-13T18:05:42.200Z"
   },
   {
    "duration": 14,
    "start_time": "2025-03-13T18:05:42.209Z"
   },
   {
    "duration": 10,
    "start_time": "2025-03-13T18:05:42.226Z"
   },
   {
    "duration": 12,
    "start_time": "2025-03-13T18:05:42.240Z"
   },
   {
    "duration": 5,
    "start_time": "2025-03-13T18:05:42.254Z"
   },
   {
    "duration": 20,
    "start_time": "2025-03-13T18:05:42.277Z"
   },
   {
    "duration": 3,
    "start_time": "2025-03-13T18:05:42.312Z"
   },
   {
    "duration": 7,
    "start_time": "2025-03-13T18:06:01.666Z"
   },
   {
    "duration": 233,
    "start_time": "2025-03-13T18:06:01.698Z"
   },
   {
    "duration": 0,
    "start_time": "2025-03-13T18:06:01.933Z"
   },
   {
    "duration": 0,
    "start_time": "2025-03-13T18:06:01.934Z"
   },
   {
    "duration": 0,
    "start_time": "2025-03-13T18:06:01.936Z"
   },
   {
    "duration": 0,
    "start_time": "2025-03-13T18:06:01.937Z"
   },
   {
    "duration": 0,
    "start_time": "2025-03-13T18:06:01.938Z"
   },
   {
    "duration": 0,
    "start_time": "2025-03-13T18:06:01.939Z"
   },
   {
    "duration": 0,
    "start_time": "2025-03-13T18:06:01.940Z"
   },
   {
    "duration": 0,
    "start_time": "2025-03-13T18:06:01.942Z"
   },
   {
    "duration": 0,
    "start_time": "2025-03-13T18:06:01.943Z"
   },
   {
    "duration": 0,
    "start_time": "2025-03-13T18:06:01.945Z"
   },
   {
    "duration": 0,
    "start_time": "2025-03-13T18:06:01.946Z"
   },
   {
    "duration": 60,
    "start_time": "2025-03-13T18:06:01.953Z"
   },
   {
    "duration": 220,
    "start_time": "2025-03-13T18:06:02.015Z"
   },
   {
    "duration": 0,
    "start_time": "2025-03-13T18:06:02.237Z"
   },
   {
    "duration": 0,
    "start_time": "2025-03-13T18:06:02.238Z"
   },
   {
    "duration": 0,
    "start_time": "2025-03-13T18:06:02.240Z"
   },
   {
    "duration": 0,
    "start_time": "2025-03-13T18:06:02.242Z"
   },
   {
    "duration": 0,
    "start_time": "2025-03-13T18:06:02.243Z"
   },
   {
    "duration": 0,
    "start_time": "2025-03-13T18:06:02.244Z"
   },
   {
    "duration": 0,
    "start_time": "2025-03-13T18:06:02.245Z"
   },
   {
    "duration": 0,
    "start_time": "2025-03-13T18:06:02.247Z"
   },
   {
    "duration": 0,
    "start_time": "2025-03-13T18:06:02.248Z"
   },
   {
    "duration": 17,
    "start_time": "2025-03-13T18:06:02.260Z"
   },
   {
    "duration": 373,
    "start_time": "2025-03-13T18:06:02.281Z"
   },
   {
    "duration": 28,
    "start_time": "2025-03-13T18:07:21.968Z"
   },
   {
    "duration": 55,
    "start_time": "2025-03-13T18:07:53.840Z"
   },
   {
    "duration": 57,
    "start_time": "2025-03-13T18:08:30.173Z"
   },
   {
    "duration": 6,
    "start_time": "2025-03-13T18:09:31.343Z"
   },
   {
    "duration": 32,
    "start_time": "2025-03-13T18:09:31.361Z"
   },
   {
    "duration": 0,
    "start_time": "2025-03-13T18:09:31.395Z"
   },
   {
    "duration": 0,
    "start_time": "2025-03-13T18:09:31.396Z"
   },
   {
    "duration": 20,
    "start_time": "2025-03-13T18:09:31.414Z"
   },
   {
    "duration": 0,
    "start_time": "2025-03-13T18:09:31.436Z"
   },
   {
    "duration": 16,
    "start_time": "2025-03-13T18:09:31.458Z"
   },
   {
    "duration": 0,
    "start_time": "2025-03-13T18:09:31.476Z"
   },
   {
    "duration": 20,
    "start_time": "2025-03-13T18:09:31.495Z"
   },
   {
    "duration": 0,
    "start_time": "2025-03-13T18:09:31.517Z"
   },
   {
    "duration": 19,
    "start_time": "2025-03-13T18:09:31.530Z"
   },
   {
    "duration": 23,
    "start_time": "2025-03-13T18:09:31.551Z"
   },
   {
    "duration": 24,
    "start_time": "2025-03-13T18:09:31.579Z"
   },
   {
    "duration": 0,
    "start_time": "2025-03-13T18:09:31.612Z"
   },
   {
    "duration": 269,
    "start_time": "2025-03-13T18:09:31.637Z"
   },
   {
    "duration": 0,
    "start_time": "2025-03-13T18:09:31.908Z"
   },
   {
    "duration": 0,
    "start_time": "2025-03-13T18:09:31.908Z"
   },
   {
    "duration": 0,
    "start_time": "2025-03-13T18:09:31.909Z"
   },
   {
    "duration": 0,
    "start_time": "2025-03-13T18:09:31.909Z"
   },
   {
    "duration": 0,
    "start_time": "2025-03-13T18:09:31.910Z"
   },
   {
    "duration": 10,
    "start_time": "2025-03-13T18:09:32.188Z"
   },
   {
    "duration": 17,
    "start_time": "2025-03-13T18:09:32.200Z"
   },
   {
    "duration": 0,
    "start_time": "2025-03-13T18:09:32.219Z"
   },
   {
    "duration": 27,
    "start_time": "2025-03-13T18:12:05.651Z"
   },
   {
    "duration": 6,
    "start_time": "2025-03-13T18:12:13.711Z"
   },
   {
    "duration": 843,
    "start_time": "2025-03-13T18:12:45.499Z"
   },
   {
    "duration": 35,
    "start_time": "2025-03-13T18:12:46.345Z"
   },
   {
    "duration": 55,
    "start_time": "2025-03-13T18:12:46.382Z"
   },
   {
    "duration": 4,
    "start_time": "2025-03-13T18:12:46.440Z"
   },
   {
    "duration": 10,
    "start_time": "2025-03-13T18:12:46.446Z"
   },
   {
    "duration": 19,
    "start_time": "2025-03-13T18:12:46.458Z"
   },
   {
    "duration": 48,
    "start_time": "2025-03-13T18:12:46.480Z"
   },
   {
    "duration": 22,
    "start_time": "2025-03-13T18:12:46.532Z"
   },
   {
    "duration": 10,
    "start_time": "2025-03-13T18:12:46.557Z"
   },
   {
    "duration": 45,
    "start_time": "2025-03-13T18:12:46.573Z"
   },
   {
    "duration": 4,
    "start_time": "2025-03-13T18:12:46.620Z"
   },
   {
    "duration": 6,
    "start_time": "2025-03-13T18:12:46.626Z"
   },
   {
    "duration": 27,
    "start_time": "2025-03-13T18:12:46.634Z"
   },
   {
    "duration": 69,
    "start_time": "2025-03-13T18:12:46.662Z"
   },
   {
    "duration": 6,
    "start_time": "2025-03-13T18:12:46.732Z"
   },
   {
    "duration": 22,
    "start_time": "2025-03-13T18:12:46.739Z"
   },
   {
    "duration": 15,
    "start_time": "2025-03-13T18:12:46.763Z"
   },
   {
    "duration": 33,
    "start_time": "2025-03-13T18:12:46.780Z"
   },
   {
    "duration": 334,
    "start_time": "2025-03-13T18:12:46.816Z"
   },
   {
    "duration": 14,
    "start_time": "2025-03-13T18:12:47.152Z"
   },
   {
    "duration": 54,
    "start_time": "2025-03-13T18:12:47.168Z"
   },
   {
    "duration": 4,
    "start_time": "2025-03-13T18:12:47.232Z"
   },
   {
    "duration": 1317,
    "start_time": "2025-03-13T18:12:47.238Z"
   },
   {
    "duration": 0,
    "start_time": "2025-03-13T18:12:48.558Z"
   },
   {
    "duration": 0,
    "start_time": "2025-03-13T18:12:48.558Z"
   },
   {
    "duration": 0,
    "start_time": "2025-03-13T18:12:48.560Z"
   },
   {
    "duration": 0,
    "start_time": "2025-03-13T18:12:48.561Z"
   },
   {
    "duration": 0,
    "start_time": "2025-03-13T18:12:48.562Z"
   },
   {
    "duration": 0,
    "start_time": "2025-03-13T18:12:48.563Z"
   },
   {
    "duration": 0,
    "start_time": "2025-03-13T18:12:48.564Z"
   },
   {
    "duration": 0,
    "start_time": "2025-03-13T18:12:48.565Z"
   },
   {
    "duration": 0,
    "start_time": "2025-03-13T18:12:48.565Z"
   },
   {
    "duration": 0,
    "start_time": "2025-03-13T18:12:48.566Z"
   },
   {
    "duration": 0,
    "start_time": "2025-03-13T18:12:48.567Z"
   },
   {
    "duration": 0,
    "start_time": "2025-03-13T18:12:48.568Z"
   },
   {
    "duration": 0,
    "start_time": "2025-03-13T18:12:48.569Z"
   },
   {
    "duration": 1,
    "start_time": "2025-03-13T18:12:48.570Z"
   },
   {
    "duration": 0,
    "start_time": "2025-03-13T18:12:48.571Z"
   },
   {
    "duration": 29,
    "start_time": "2025-03-13T18:14:55.880Z"
   },
   {
    "duration": 462,
    "start_time": "2025-03-13T18:15:01.685Z"
   },
   {
    "duration": 26,
    "start_time": "2025-03-13T18:16:07.364Z"
   },
   {
    "duration": 15,
    "start_time": "2025-03-13T18:16:32.426Z"
   },
   {
    "duration": 369,
    "start_time": "2025-03-13T18:17:28.068Z"
   },
   {
    "duration": 8,
    "start_time": "2025-03-13T18:19:35.367Z"
   },
   {
    "duration": 7,
    "start_time": "2025-03-13T18:20:24.413Z"
   },
   {
    "duration": 4,
    "start_time": "2025-03-13T18:20:30.679Z"
   },
   {
    "duration": 3,
    "start_time": "2025-03-13T18:30:04.627Z"
   },
   {
    "duration": 4,
    "start_time": "2025-03-13T18:31:20.985Z"
   },
   {
    "duration": 8,
    "start_time": "2025-03-13T18:32:03.051Z"
   },
   {
    "duration": 13,
    "start_time": "2025-03-13T18:32:16.318Z"
   },
   {
    "duration": 7,
    "start_time": "2025-03-13T18:35:25.107Z"
   },
   {
    "duration": 5,
    "start_time": "2025-03-13T18:35:48.493Z"
   },
   {
    "duration": 25,
    "start_time": "2025-03-13T18:36:20.022Z"
   },
   {
    "duration": 358,
    "start_time": "2025-03-13T18:36:44.086Z"
   },
   {
    "duration": 3,
    "start_time": "2025-03-13T19:21:12.823Z"
   },
   {
    "duration": 534,
    "start_time": "2025-03-13T19:22:52.826Z"
   },
   {
    "duration": 6,
    "start_time": "2025-03-13T19:24:03.963Z"
   },
   {
    "duration": 372,
    "start_time": "2025-03-13T19:24:21.455Z"
   },
   {
    "duration": 4,
    "start_time": "2025-03-13T19:24:38.161Z"
   },
   {
    "duration": 367,
    "start_time": "2025-03-13T19:24:57.955Z"
   },
   {
    "duration": 19,
    "start_time": "2025-03-13T19:25:55.701Z"
   },
   {
    "duration": 5863,
    "start_time": "2025-03-13T19:26:03.932Z"
   },
   {
    "duration": 27,
    "start_time": "2025-03-13T19:26:31.755Z"
   },
   {
    "duration": 553,
    "start_time": "2025-03-13T19:28:46.304Z"
   },
   {
    "duration": 163,
    "start_time": "2025-03-13T19:29:58.389Z"
   },
   {
    "duration": 182,
    "start_time": "2025-03-13T19:30:46.072Z"
   },
   {
    "duration": 3,
    "start_time": "2025-03-13T19:31:33.997Z"
   },
   {
    "duration": 3,
    "start_time": "2025-03-13T19:32:58.766Z"
   },
   {
    "duration": 810,
    "start_time": "2025-03-13T19:33:10.279Z"
   },
   {
    "duration": 27,
    "start_time": "2025-03-13T19:33:11.090Z"
   },
   {
    "duration": 28,
    "start_time": "2025-03-13T19:33:11.119Z"
   },
   {
    "duration": 3,
    "start_time": "2025-03-13T19:33:11.150Z"
   },
   {
    "duration": 9,
    "start_time": "2025-03-13T19:33:11.154Z"
   },
   {
    "duration": 15,
    "start_time": "2025-03-13T19:33:11.164Z"
   },
   {
    "duration": 41,
    "start_time": "2025-03-13T19:33:11.180Z"
   },
   {
    "duration": 15,
    "start_time": "2025-03-13T19:33:11.222Z"
   },
   {
    "duration": 5,
    "start_time": "2025-03-13T19:33:11.239Z"
   },
   {
    "duration": 22,
    "start_time": "2025-03-13T19:33:11.248Z"
   },
   {
    "duration": 3,
    "start_time": "2025-03-13T19:33:11.271Z"
   },
   {
    "duration": 5,
    "start_time": "2025-03-13T19:33:11.276Z"
   },
   {
    "duration": 27,
    "start_time": "2025-03-13T19:33:11.311Z"
   },
   {
    "duration": 41,
    "start_time": "2025-03-13T19:33:11.340Z"
   },
   {
    "duration": 5,
    "start_time": "2025-03-13T19:33:11.382Z"
   },
   {
    "duration": 22,
    "start_time": "2025-03-13T19:33:11.413Z"
   },
   {
    "duration": 12,
    "start_time": "2025-03-13T19:33:11.437Z"
   },
   {
    "duration": 25,
    "start_time": "2025-03-13T19:33:11.451Z"
   },
   {
    "duration": 37,
    "start_time": "2025-03-13T19:33:11.478Z"
   },
   {
    "duration": 298,
    "start_time": "2025-03-13T19:33:11.516Z"
   },
   {
    "duration": 1168,
    "start_time": "2025-03-13T19:33:11.816Z"
   },
   {
    "duration": 0,
    "start_time": "2025-03-13T19:33:12.986Z"
   },
   {
    "duration": 0,
    "start_time": "2025-03-13T19:33:12.987Z"
   },
   {
    "duration": 0,
    "start_time": "2025-03-13T19:33:12.988Z"
   },
   {
    "duration": 0,
    "start_time": "2025-03-13T19:33:12.990Z"
   },
   {
    "duration": 0,
    "start_time": "2025-03-13T19:33:12.991Z"
   },
   {
    "duration": 0,
    "start_time": "2025-03-13T19:33:12.992Z"
   },
   {
    "duration": 0,
    "start_time": "2025-03-13T19:33:12.993Z"
   },
   {
    "duration": 0,
    "start_time": "2025-03-13T19:33:12.994Z"
   },
   {
    "duration": 0,
    "start_time": "2025-03-13T19:33:12.995Z"
   },
   {
    "duration": 0,
    "start_time": "2025-03-13T19:33:13.012Z"
   },
   {
    "duration": 0,
    "start_time": "2025-03-13T19:33:13.014Z"
   },
   {
    "duration": 0,
    "start_time": "2025-03-13T19:33:13.015Z"
   },
   {
    "duration": 0,
    "start_time": "2025-03-13T19:33:13.017Z"
   },
   {
    "duration": 0,
    "start_time": "2025-03-13T19:33:13.018Z"
   },
   {
    "duration": 0,
    "start_time": "2025-03-13T19:33:13.020Z"
   },
   {
    "duration": 0,
    "start_time": "2025-03-13T19:33:13.021Z"
   },
   {
    "duration": 0,
    "start_time": "2025-03-13T19:33:13.022Z"
   },
   {
    "duration": 0,
    "start_time": "2025-03-13T19:33:13.024Z"
   },
   {
    "duration": 0,
    "start_time": "2025-03-13T19:33:13.025Z"
   },
   {
    "duration": 0,
    "start_time": "2025-03-13T19:33:13.027Z"
   },
   {
    "duration": 0,
    "start_time": "2025-03-13T19:33:13.028Z"
   },
   {
    "duration": 0,
    "start_time": "2025-03-13T19:33:13.030Z"
   },
   {
    "duration": 128,
    "start_time": "2025-03-13T19:39:14.837Z"
   },
   {
    "duration": 19,
    "start_time": "2025-03-13T19:41:12.763Z"
   },
   {
    "duration": 10,
    "start_time": "2025-03-13T19:48:11.660Z"
   },
   {
    "duration": 796,
    "start_time": "2025-03-13T20:29:08.866Z"
   },
   {
    "duration": 26,
    "start_time": "2025-03-13T20:29:09.664Z"
   },
   {
    "duration": 45,
    "start_time": "2025-03-13T20:29:09.692Z"
   },
   {
    "duration": 3,
    "start_time": "2025-03-13T20:29:09.740Z"
   },
   {
    "duration": 8,
    "start_time": "2025-03-13T20:29:09.745Z"
   },
   {
    "duration": 14,
    "start_time": "2025-03-13T20:29:09.755Z"
   },
   {
    "duration": 13,
    "start_time": "2025-03-13T20:29:09.770Z"
   },
   {
    "duration": 13,
    "start_time": "2025-03-13T20:29:09.812Z"
   },
   {
    "duration": 5,
    "start_time": "2025-03-13T20:29:09.827Z"
   },
   {
    "duration": 22,
    "start_time": "2025-03-13T20:29:09.836Z"
   },
   {
    "duration": 3,
    "start_time": "2025-03-13T20:29:09.860Z"
   },
   {
    "duration": 5,
    "start_time": "2025-03-13T20:29:09.864Z"
   },
   {
    "duration": 57,
    "start_time": "2025-03-13T20:29:09.871Z"
   },
   {
    "duration": 47,
    "start_time": "2025-03-13T20:29:09.929Z"
   },
   {
    "duration": 5,
    "start_time": "2025-03-13T20:29:09.978Z"
   },
   {
    "duration": 45,
    "start_time": "2025-03-13T20:29:09.985Z"
   },
   {
    "duration": 12,
    "start_time": "2025-03-13T20:29:10.032Z"
   },
   {
    "duration": 29,
    "start_time": "2025-03-13T20:29:10.047Z"
   },
   {
    "duration": 6,
    "start_time": "2025-03-13T20:29:10.077Z"
   },
   {
    "duration": 319,
    "start_time": "2025-03-13T20:29:10.084Z"
   },
   {
    "duration": 1149,
    "start_time": "2025-03-13T20:29:10.405Z"
   },
   {
    "duration": 0,
    "start_time": "2025-03-13T20:29:11.556Z"
   },
   {
    "duration": 0,
    "start_time": "2025-03-13T20:29:11.558Z"
   },
   {
    "duration": 0,
    "start_time": "2025-03-13T20:29:11.559Z"
   },
   {
    "duration": 0,
    "start_time": "2025-03-13T20:29:11.559Z"
   },
   {
    "duration": 0,
    "start_time": "2025-03-13T20:29:11.560Z"
   },
   {
    "duration": 0,
    "start_time": "2025-03-13T20:29:11.561Z"
   },
   {
    "duration": 0,
    "start_time": "2025-03-13T20:29:11.563Z"
   },
   {
    "duration": 0,
    "start_time": "2025-03-13T20:29:11.564Z"
   },
   {
    "duration": 0,
    "start_time": "2025-03-13T20:29:11.565Z"
   },
   {
    "duration": 0,
    "start_time": "2025-03-13T20:29:11.566Z"
   },
   {
    "duration": 0,
    "start_time": "2025-03-13T20:29:11.567Z"
   },
   {
    "duration": 0,
    "start_time": "2025-03-13T20:29:11.568Z"
   },
   {
    "duration": 0,
    "start_time": "2025-03-13T20:29:11.569Z"
   },
   {
    "duration": 0,
    "start_time": "2025-03-13T20:29:11.570Z"
   },
   {
    "duration": 0,
    "start_time": "2025-03-13T20:29:11.571Z"
   },
   {
    "duration": 0,
    "start_time": "2025-03-13T20:29:11.571Z"
   },
   {
    "duration": 0,
    "start_time": "2025-03-13T20:29:11.572Z"
   },
   {
    "duration": 0,
    "start_time": "2025-03-13T20:29:11.573Z"
   },
   {
    "duration": 0,
    "start_time": "2025-03-13T20:29:11.574Z"
   },
   {
    "duration": 0,
    "start_time": "2025-03-13T20:29:11.575Z"
   },
   {
    "duration": 0,
    "start_time": "2025-03-13T20:29:11.576Z"
   },
   {
    "duration": 0,
    "start_time": "2025-03-13T20:29:11.613Z"
   },
   {
    "duration": 14,
    "start_time": "2025-03-13T20:31:44.313Z"
   },
   {
    "duration": 16,
    "start_time": "2025-03-13T20:32:24.552Z"
   },
   {
    "duration": 18,
    "start_time": "2025-03-13T20:34:16.909Z"
   },
   {
    "duration": 11,
    "start_time": "2025-03-13T20:34:42.862Z"
   },
   {
    "duration": 22,
    "start_time": "2025-03-13T20:36:13.134Z"
   },
   {
    "duration": 28,
    "start_time": "2025-03-13T21:41:41.506Z"
   },
   {
    "duration": 1073,
    "start_time": "2025-03-13T21:48:04.085Z"
   },
   {
    "duration": 4,
    "start_time": "2025-03-13T21:51:31.018Z"
   },
   {
    "duration": 8,
    "start_time": "2025-03-13T21:52:40.917Z"
   },
   {
    "duration": 11,
    "start_time": "2025-03-13T21:53:40.934Z"
   },
   {
    "duration": 392,
    "start_time": "2025-03-13T21:54:05.071Z"
   },
   {
    "duration": 1069,
    "start_time": "2025-03-13T21:57:34.043Z"
   },
   {
    "duration": 1017,
    "start_time": "2025-03-13T22:00:37.965Z"
   },
   {
    "duration": 1009,
    "start_time": "2025-03-13T22:01:14.212Z"
   },
   {
    "duration": 19,
    "start_time": "2025-03-13T22:02:37.923Z"
   },
   {
    "duration": 9,
    "start_time": "2025-03-13T22:02:41.906Z"
   },
   {
    "duration": 38,
    "start_time": "2025-03-13T22:02:46.834Z"
   },
   {
    "duration": 444,
    "start_time": "2025-03-13T22:02:46.874Z"
   },
   {
    "duration": 379,
    "start_time": "2025-03-13T22:02:47.320Z"
   },
   {
    "duration": 444,
    "start_time": "2025-03-13T22:02:47.700Z"
   },
   {
    "duration": 410,
    "start_time": "2025-03-13T22:02:48.147Z"
   },
   {
    "duration": 11,
    "start_time": "2025-03-13T22:02:48.558Z"
   },
   {
    "duration": 8,
    "start_time": "2025-03-13T22:02:48.571Z"
   },
   {
    "duration": 8,
    "start_time": "2025-03-13T22:02:48.580Z"
   },
   {
    "duration": 23,
    "start_time": "2025-03-13T22:02:48.589Z"
   },
   {
    "duration": 12,
    "start_time": "2025-03-13T22:02:48.613Z"
   },
   {
    "duration": 20,
    "start_time": "2025-03-13T22:02:48.628Z"
   },
   {
    "duration": 0,
    "start_time": "2025-03-13T22:02:48.650Z"
   },
   {
    "duration": 18,
    "start_time": "2025-03-13T22:05:20.107Z"
   },
   {
    "duration": 9,
    "start_time": "2025-03-13T22:06:17.220Z"
   },
   {
    "duration": 8,
    "start_time": "2025-03-13T22:07:04.608Z"
   },
   {
    "duration": 4,
    "start_time": "2025-03-13T22:32:56.211Z"
   },
   {
    "duration": 17,
    "start_time": "2025-03-13T22:34:15.289Z"
   },
   {
    "duration": 7,
    "start_time": "2025-03-13T22:36:02.339Z"
   },
   {
    "duration": 5,
    "start_time": "2025-03-13T22:43:30.036Z"
   }
  ],
  "kernelspec": {
   "display_name": "Python 3 (ipykernel)",
   "language": "python",
   "name": "python3"
  },
  "language_info": {
   "codemirror_mode": {
    "name": "ipython",
    "version": 3
   },
   "file_extension": ".py",
   "mimetype": "text/x-python",
   "name": "python",
   "nbconvert_exporter": "python",
   "pygments_lexer": "ipython3",
   "version": "3.9.19"
  },
  "toc": {
   "base_numbering": 1,
   "nav_menu": {},
   "number_sections": true,
   "sideBar": true,
   "skip_h1_title": true,
   "title_cell": "Table of Contents",
   "title_sidebar": "Contents",
   "toc_cell": false,
   "toc_position": {
    "height": "calc(100% - 180px)",
    "left": "10px",
    "top": "150px",
    "width": "208.438px"
   },
   "toc_section_display": true,
   "toc_window_display": true
  }
 },
 "nbformat": 4,
 "nbformat_minor": 2
}
